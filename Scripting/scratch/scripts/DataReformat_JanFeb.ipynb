{
 "cells": [
  {
   "cell_type": "markdown",
   "metadata": {},
   "source": [
    "This Script:\n",
    "- brings in **acoustic data**\n",
    "    - explodes between days\n",
    "- makes a **test date range** (Jan 1 - Feb 28 2011)\n",
    "    - left joins (cleaned, less columns) acoustic data to test date range \n",
    "        --> **Acou_JanFeb**\n",
    "- creates **fake prey data**\n",
    "    - left joins **fake prey data** to **Acou_JanFeb** \n",
    "        --> **CCB_JanFeb**\n",
    "- made some plots of Jan/Feb\n",
    "- attempted to create new column that describes data availability/overlap"
   ]
  },
  {
   "cell_type": "code",
   "execution_count": 4,
   "metadata": {},
   "outputs": [],
   "source": [
    "import pandas as pd\n",
    "import altair as alt\n",
    "import os\n",
    "import numpy as np"
   ]
  },
  {
   "cell_type": "code",
   "execution_count": 5,
   "metadata": {},
   "outputs": [],
   "source": [
    "os.chdir('/Users/cristiana/Documents/Duke/MP/Python')"
   ]
  },
  {
   "cell_type": "code",
   "execution_count": 6,
   "metadata": {},
   "outputs": [
    {
     "data": {
      "text/html": [
       "<div>\n",
       "<style scoped>\n",
       "    .dataframe tbody tr th:only-of-type {\n",
       "        vertical-align: middle;\n",
       "    }\n",
       "\n",
       "    .dataframe tbody tr th {\n",
       "        vertical-align: top;\n",
       "    }\n",
       "\n",
       "    .dataframe thead th {\n",
       "        text-align: right;\n",
       "    }\n",
       "</style>\n",
       "<table border=\"1\" class=\"dataframe\">\n",
       "  <thead>\n",
       "    <tr style=\"text-align: right;\">\n",
       "      <th></th>\n",
       "      <th>c_recordOnDays</th>\n",
       "      <th>c_uniqueUnitID</th>\n",
       "      <th>deployDate</th>\n",
       "      <th>deploymentDepth_Meters</th>\n",
       "      <th>dutyCycle_Flag</th>\n",
       "      <th>latitudeDeployed_DecDeg</th>\n",
       "      <th>longitudeDeployed_DecDeg</th>\n",
       "      <th>recoveryDate</th>\n",
       "      <th>samplingRate_Hz</th>\n",
       "    </tr>\n",
       "  </thead>\n",
       "  <tbody>\n",
       "    <tr>\n",
       "      <th>0</th>\n",
       "      <td>71</td>\n",
       "      <td>2011_BRP_CCB_S1016_Dep20_20110217_PU0205_FD020...</td>\n",
       "      <td>2011-02-17</td>\n",
       "      <td>37.2</td>\n",
       "      <td>N</td>\n",
       "      <td>41.9412</td>\n",
       "      <td>-70.2880</td>\n",
       "      <td>2011-05-08</td>\n",
       "      <td>5000</td>\n",
       "    </tr>\n",
       "    <tr>\n",
       "      <th>1</th>\n",
       "      <td>80</td>\n",
       "      <td>2011_BRP_CCB_S1016_Dep20_20110217_PU0206_FD020...</td>\n",
       "      <td>2011-02-17</td>\n",
       "      <td>30.5</td>\n",
       "      <td>N</td>\n",
       "      <td>41.8771</td>\n",
       "      <td>-70.2540</td>\n",
       "      <td>2011-05-08</td>\n",
       "      <td>5000</td>\n",
       "    </tr>\n",
       "    <tr>\n",
       "      <th>2</th>\n",
       "      <td>80</td>\n",
       "      <td>2011_BRP_CCB_S1016_Dep20_20110217_PU0207_FD020...</td>\n",
       "      <td>2011-02-17</td>\n",
       "      <td>30.9</td>\n",
       "      <td>N</td>\n",
       "      <td>41.8948</td>\n",
       "      <td>-70.4439</td>\n",
       "      <td>2011-05-08</td>\n",
       "      <td>5000</td>\n",
       "    </tr>\n",
       "    <tr>\n",
       "      <th>3</th>\n",
       "      <td>80</td>\n",
       "      <td>2011_BRP_CCB_S1016_Dep20_20110217_PU0208_FD020...</td>\n",
       "      <td>2011-02-17</td>\n",
       "      <td>32.1</td>\n",
       "      <td>N</td>\n",
       "      <td>41.9334</td>\n",
       "      <td>-70.1859</td>\n",
       "      <td>2011-05-08</td>\n",
       "      <td>5000</td>\n",
       "    </tr>\n",
       "    <tr>\n",
       "      <th>4</th>\n",
       "      <td>80</td>\n",
       "      <td>2011_BRP_CCB_S1016_Dep20_20110217_PU0209_FD020...</td>\n",
       "      <td>2011-02-17</td>\n",
       "      <td>42.1</td>\n",
       "      <td>N</td>\n",
       "      <td>41.9508</td>\n",
       "      <td>-70.3901</td>\n",
       "      <td>2011-05-08</td>\n",
       "      <td>5000</td>\n",
       "    </tr>\n",
       "  </tbody>\n",
       "</table>\n",
       "</div>"
      ],
      "text/plain": [
       "   c_recordOnDays                                     c_uniqueUnitID  \\\n",
       "0              71  2011_BRP_CCB_S1016_Dep20_20110217_PU0205_FD020...   \n",
       "1              80  2011_BRP_CCB_S1016_Dep20_20110217_PU0206_FD020...   \n",
       "2              80  2011_BRP_CCB_S1016_Dep20_20110217_PU0207_FD020...   \n",
       "3              80  2011_BRP_CCB_S1016_Dep20_20110217_PU0208_FD020...   \n",
       "4              80  2011_BRP_CCB_S1016_Dep20_20110217_PU0209_FD020...   \n",
       "\n",
       "  deployDate  deploymentDepth_Meters dutyCycle_Flag  latitudeDeployed_DecDeg  \\\n",
       "0 2011-02-17                    37.2              N                  41.9412   \n",
       "1 2011-02-17                    30.5              N                  41.8771   \n",
       "2 2011-02-17                    30.9              N                  41.8948   \n",
       "3 2011-02-17                    32.1              N                  41.9334   \n",
       "4 2011-02-17                    42.1              N                  41.9508   \n",
       "\n",
       "   longitudeDeployed_DecDeg recoveryDate  samplingRate_Hz  \n",
       "0                  -70.2880   2011-05-08             5000  \n",
       "1                  -70.2540   2011-05-08             5000  \n",
       "2                  -70.4439   2011-05-08             5000  \n",
       "3                  -70.1859   2011-05-08             5000  \n",
       "4                  -70.3901   2011-05-08             5000  "
      ]
     },
     "execution_count": 6,
     "metadata": {},
     "output_type": "execute_result"
    }
   ],
   "source": [
    "# read in CCB Acoustic metadata, parse date columns\n",
    "ccb = pd.read_csv('./Data/CCB Metadata.csv', \n",
    "                 sep=',', \n",
    "                 encoding='utf-8',\n",
    "                 parse_dates = ['deployDate','recoveryDate'])\n",
    "\n",
    "ccb.head()"
   ]
  },
  {
   "cell_type": "code",
   "execution_count": 7,
   "metadata": {},
   "outputs": [
    {
     "data": {
      "text/html": [
       "<div>\n",
       "<style scoped>\n",
       "    .dataframe tbody tr th:only-of-type {\n",
       "        vertical-align: middle;\n",
       "    }\n",
       "\n",
       "    .dataframe tbody tr th {\n",
       "        vertical-align: top;\n",
       "    }\n",
       "\n",
       "    .dataframe thead th {\n",
       "        text-align: right;\n",
       "    }\n",
       "</style>\n",
       "<table border=\"1\" class=\"dataframe\">\n",
       "  <thead>\n",
       "    <tr style=\"text-align: right;\">\n",
       "      <th></th>\n",
       "      <th>c_recordOnDays</th>\n",
       "      <th>c_uniqueUnitID</th>\n",
       "      <th>deployDate</th>\n",
       "      <th>deploymentDepth_Meters</th>\n",
       "      <th>dutyCycle_Flag</th>\n",
       "      <th>latitudeDeployed_DecDeg</th>\n",
       "      <th>longitudeDeployed_DecDeg</th>\n",
       "      <th>recoveryDate</th>\n",
       "      <th>samplingRate_Hz</th>\n",
       "      <th>between_days</th>\n",
       "    </tr>\n",
       "  </thead>\n",
       "  <tbody>\n",
       "    <tr>\n",
       "      <th>0</th>\n",
       "      <td>71</td>\n",
       "      <td>2011_BRP_CCB_S1016_Dep20_20110217_PU0205_FD020...</td>\n",
       "      <td>2011-02-17</td>\n",
       "      <td>37.2</td>\n",
       "      <td>N</td>\n",
       "      <td>41.941200</td>\n",
       "      <td>-70.288000</td>\n",
       "      <td>2011-05-08</td>\n",
       "      <td>5000</td>\n",
       "      <td>2011-02-17</td>\n",
       "    </tr>\n",
       "    <tr>\n",
       "      <th>0</th>\n",
       "      <td>71</td>\n",
       "      <td>2011_BRP_CCB_S1016_Dep20_20110217_PU0205_FD020...</td>\n",
       "      <td>2011-02-17</td>\n",
       "      <td>37.2</td>\n",
       "      <td>N</td>\n",
       "      <td>41.941200</td>\n",
       "      <td>-70.288000</td>\n",
       "      <td>2011-05-08</td>\n",
       "      <td>5000</td>\n",
       "      <td>2011-02-18</td>\n",
       "    </tr>\n",
       "    <tr>\n",
       "      <th>0</th>\n",
       "      <td>71</td>\n",
       "      <td>2011_BRP_CCB_S1016_Dep20_20110217_PU0205_FD020...</td>\n",
       "      <td>2011-02-17</td>\n",
       "      <td>37.2</td>\n",
       "      <td>N</td>\n",
       "      <td>41.941200</td>\n",
       "      <td>-70.288000</td>\n",
       "      <td>2011-05-08</td>\n",
       "      <td>5000</td>\n",
       "      <td>2011-02-19</td>\n",
       "    </tr>\n",
       "    <tr>\n",
       "      <th>0</th>\n",
       "      <td>71</td>\n",
       "      <td>2011_BRP_CCB_S1016_Dep20_20110217_PU0205_FD020...</td>\n",
       "      <td>2011-02-17</td>\n",
       "      <td>37.2</td>\n",
       "      <td>N</td>\n",
       "      <td>41.941200</td>\n",
       "      <td>-70.288000</td>\n",
       "      <td>2011-05-08</td>\n",
       "      <td>5000</td>\n",
       "      <td>2011-02-20</td>\n",
       "    </tr>\n",
       "    <tr>\n",
       "      <th>0</th>\n",
       "      <td>71</td>\n",
       "      <td>2011_BRP_CCB_S1016_Dep20_20110217_PU0205_FD020...</td>\n",
       "      <td>2011-02-17</td>\n",
       "      <td>37.2</td>\n",
       "      <td>N</td>\n",
       "      <td>41.941200</td>\n",
       "      <td>-70.288000</td>\n",
       "      <td>2011-05-08</td>\n",
       "      <td>5000</td>\n",
       "      <td>2011-02-21</td>\n",
       "    </tr>\n",
       "    <tr>\n",
       "      <th>...</th>\n",
       "      <td>...</td>\n",
       "      <td>...</td>\n",
       "      <td>...</td>\n",
       "      <td>...</td>\n",
       "      <td>...</td>\n",
       "      <td>...</td>\n",
       "      <td>...</td>\n",
       "      <td>...</td>\n",
       "      <td>...</td>\n",
       "      <td>...</td>\n",
       "    </tr>\n",
       "    <tr>\n",
       "      <th>37</th>\n",
       "      <td>106</td>\n",
       "      <td>2018_BRP_CCB_S1074_Dep27_20180213_PU0222_FD03178</td>\n",
       "      <td>2018-02-13</td>\n",
       "      <td>NaN</td>\n",
       "      <td>N</td>\n",
       "      <td>41.937667</td>\n",
       "      <td>-70.237983</td>\n",
       "      <td>2018-05-30</td>\n",
       "      <td>5000</td>\n",
       "      <td>2018-05-26</td>\n",
       "    </tr>\n",
       "    <tr>\n",
       "      <th>37</th>\n",
       "      <td>106</td>\n",
       "      <td>2018_BRP_CCB_S1074_Dep27_20180213_PU0222_FD03178</td>\n",
       "      <td>2018-02-13</td>\n",
       "      <td>NaN</td>\n",
       "      <td>N</td>\n",
       "      <td>41.937667</td>\n",
       "      <td>-70.237983</td>\n",
       "      <td>2018-05-30</td>\n",
       "      <td>5000</td>\n",
       "      <td>2018-05-27</td>\n",
       "    </tr>\n",
       "    <tr>\n",
       "      <th>37</th>\n",
       "      <td>106</td>\n",
       "      <td>2018_BRP_CCB_S1074_Dep27_20180213_PU0222_FD03178</td>\n",
       "      <td>2018-02-13</td>\n",
       "      <td>NaN</td>\n",
       "      <td>N</td>\n",
       "      <td>41.937667</td>\n",
       "      <td>-70.237983</td>\n",
       "      <td>2018-05-30</td>\n",
       "      <td>5000</td>\n",
       "      <td>2018-05-28</td>\n",
       "    </tr>\n",
       "    <tr>\n",
       "      <th>37</th>\n",
       "      <td>106</td>\n",
       "      <td>2018_BRP_CCB_S1074_Dep27_20180213_PU0222_FD03178</td>\n",
       "      <td>2018-02-13</td>\n",
       "      <td>NaN</td>\n",
       "      <td>N</td>\n",
       "      <td>41.937667</td>\n",
       "      <td>-70.237983</td>\n",
       "      <td>2018-05-30</td>\n",
       "      <td>5000</td>\n",
       "      <td>2018-05-29</td>\n",
       "    </tr>\n",
       "    <tr>\n",
       "      <th>37</th>\n",
       "      <td>106</td>\n",
       "      <td>2018_BRP_CCB_S1074_Dep27_20180213_PU0222_FD03178</td>\n",
       "      <td>2018-02-13</td>\n",
       "      <td>NaN</td>\n",
       "      <td>N</td>\n",
       "      <td>41.937667</td>\n",
       "      <td>-70.237983</td>\n",
       "      <td>2018-05-30</td>\n",
       "      <td>5000</td>\n",
       "      <td>2018-05-30</td>\n",
       "    </tr>\n",
       "  </tbody>\n",
       "</table>\n",
       "<p>3515 rows × 10 columns</p>\n",
       "</div>"
      ],
      "text/plain": [
       "    c_recordOnDays                                     c_uniqueUnitID  \\\n",
       "0               71  2011_BRP_CCB_S1016_Dep20_20110217_PU0205_FD020...   \n",
       "0               71  2011_BRP_CCB_S1016_Dep20_20110217_PU0205_FD020...   \n",
       "0               71  2011_BRP_CCB_S1016_Dep20_20110217_PU0205_FD020...   \n",
       "0               71  2011_BRP_CCB_S1016_Dep20_20110217_PU0205_FD020...   \n",
       "0               71  2011_BRP_CCB_S1016_Dep20_20110217_PU0205_FD020...   \n",
       "..             ...                                                ...   \n",
       "37             106   2018_BRP_CCB_S1074_Dep27_20180213_PU0222_FD03178   \n",
       "37             106   2018_BRP_CCB_S1074_Dep27_20180213_PU0222_FD03178   \n",
       "37             106   2018_BRP_CCB_S1074_Dep27_20180213_PU0222_FD03178   \n",
       "37             106   2018_BRP_CCB_S1074_Dep27_20180213_PU0222_FD03178   \n",
       "37             106   2018_BRP_CCB_S1074_Dep27_20180213_PU0222_FD03178   \n",
       "\n",
       "   deployDate  deploymentDepth_Meters dutyCycle_Flag  latitudeDeployed_DecDeg  \\\n",
       "0  2011-02-17                    37.2              N                41.941200   \n",
       "0  2011-02-17                    37.2              N                41.941200   \n",
       "0  2011-02-17                    37.2              N                41.941200   \n",
       "0  2011-02-17                    37.2              N                41.941200   \n",
       "0  2011-02-17                    37.2              N                41.941200   \n",
       "..        ...                     ...            ...                      ...   \n",
       "37 2018-02-13                     NaN              N                41.937667   \n",
       "37 2018-02-13                     NaN              N                41.937667   \n",
       "37 2018-02-13                     NaN              N                41.937667   \n",
       "37 2018-02-13                     NaN              N                41.937667   \n",
       "37 2018-02-13                     NaN              N                41.937667   \n",
       "\n",
       "    longitudeDeployed_DecDeg recoveryDate  samplingRate_Hz between_days  \n",
       "0                 -70.288000   2011-05-08             5000   2011-02-17  \n",
       "0                 -70.288000   2011-05-08             5000   2011-02-18  \n",
       "0                 -70.288000   2011-05-08             5000   2011-02-19  \n",
       "0                 -70.288000   2011-05-08             5000   2011-02-20  \n",
       "0                 -70.288000   2011-05-08             5000   2011-02-21  \n",
       "..                       ...          ...              ...          ...  \n",
       "37                -70.237983   2018-05-30             5000   2018-05-26  \n",
       "37                -70.237983   2018-05-30             5000   2018-05-27  \n",
       "37                -70.237983   2018-05-30             5000   2018-05-28  \n",
       "37                -70.237983   2018-05-30             5000   2018-05-29  \n",
       "37                -70.237983   2018-05-30             5000   2018-05-30  \n",
       "\n",
       "[3515 rows x 10 columns]"
      ]
     },
     "execution_count": 7,
     "metadata": {},
     "output_type": "execute_result"
    }
   ],
   "source": [
    "# add between days column, explode out (row for each day)\n",
    "ccb['between_days'] = ccb.apply(lambda row: pd.date_range(row['deployDate'],row['recoveryDate'],freq='D'), axis=1)\n",
    "ccb_days = ccb.explode('between_days')\n",
    "ccb_days"
   ]
  },
  {
   "cell_type": "markdown",
   "metadata": {},
   "source": [
    "### Create new dataframe with test date range (Jan-Feb of 2011)"
   ]
  },
  {
   "cell_type": "code",
   "execution_count": null,
   "metadata": {},
   "outputs": [],
   "source": [
    "# create date range for full time period and add it to dataframe (will test with Jan-Feb 2011)\n",
    "start_date = '2011-01-01'\n",
    "end_date = '2011-02-28'\n",
    "\n",
    "JanFeb2011 = pd.DataFrame({'between_days':pd.date_range(start_date, end_date)})\n",
    "JanFeb2011.info()"
   ]
  },
  {
   "cell_type": "code",
   "execution_count": null,
   "metadata": {},
   "outputs": [],
   "source": [
    "# join ccb data to JanFeb date range\n",
    "JanFeb_ccb = JanFeb2011.merge(ccb_days, on = 'between_days', how = 'left')\n",
    "JanFeb_ccb"
   ]
  },
  {
   "cell_type": "code",
   "execution_count": null,
   "metadata": {},
   "outputs": [],
   "source": [
    "#pd.DataFrame.to_csv(JanFeb_ccb, \"./scratch/JanFeb_ccb.csv\")"
   ]
  },
  {
   "cell_type": "markdown",
   "metadata": {},
   "source": [
    "### Create example prey data"
   ]
  },
  {
   "cell_type": "code",
   "execution_count": null,
   "metadata": {},
   "outputs": [],
   "source": [
    "# create fake prey data (add between days column, explode out (row for each day))\n",
    "# (fake prey = Jan03 - Feb03, 2011)\n",
    "prey_count = 40\n",
    "prey_start = '2011-01-03'\n",
    "prey_end = '2011-02-03'\n",
    "\n",
    "prey = pd.DataFrame({'Transect': prey_count,\n",
    "                    'between_days': pd.date_range(prey_start, prey_end)})\n",
    "prey.head()"
   ]
  },
  {
   "cell_type": "markdown",
   "metadata": {},
   "source": [
    "### Clean acoustic data"
   ]
  },
  {
   "cell_type": "code",
   "execution_count": null,
   "metadata": {},
   "outputs": [],
   "source": [
    "ccb_days.head()"
   ]
  },
  {
   "cell_type": "code",
   "execution_count": null,
   "metadata": {},
   "outputs": [],
   "source": [
    "# select essential columns of acoustic data\n",
    "Acoustic_clean = ccb_days[['c_uniqueUnitID', 'between_days']]\n",
    "Acoustic_clean"
   ]
  },
  {
   "cell_type": "code",
   "execution_count": null,
   "metadata": {},
   "outputs": [],
   "source": [
    "# join clean acoustic data to test (JanFeb) date range\n",
    "acou_JanFeb = JanFeb2011.merge(Acoustic_clean, on = 'between_days', how = 'left')\n",
    "acou_JanFeb"
   ]
  },
  {
   "cell_type": "code",
   "execution_count": null,
   "metadata": {},
   "outputs": [],
   "source": [
    "# join Acou_JanFeb to fake prey data\n",
    "CCB_JanFeb = acou_JanFeb.merge(prey, on = 'between_days', how = 'left')\n",
    "CCB_JanFeb"
   ]
  },
  {
   "cell_type": "code",
   "execution_count": null,
   "metadata": {},
   "outputs": [],
   "source": [
    "CCB_JanFeb.dtypes"
   ]
  },
  {
   "cell_type": "markdown",
   "metadata": {},
   "source": [
    "### Create fake 'data availability' column"
   ]
  },
  {
   "cell_type": "code",
   "execution_count": null,
   "metadata": {},
   "outputs": [],
   "source": [
    "CCB_JanFeb"
   ]
  },
  {
   "cell_type": "code",
   "execution_count": 3,
   "metadata": {},
   "outputs": [
    {
     "data": {
      "text/html": [
       "<div>\n",
       "<style scoped>\n",
       "    .dataframe tbody tr th:only-of-type {\n",
       "        vertical-align: middle;\n",
       "    }\n",
       "\n",
       "    .dataframe tbody tr th {\n",
       "        vertical-align: top;\n",
       "    }\n",
       "\n",
       "    .dataframe thead th {\n",
       "        text-align: right;\n",
       "    }\n",
       "</style>\n",
       "<table border=\"1\" class=\"dataframe\">\n",
       "  <thead>\n",
       "    <tr style=\"text-align: right;\">\n",
       "      <th></th>\n",
       "      <th>Unnamed: 0</th>\n",
       "      <th>between_days</th>\n",
       "      <th>c_uniqueUnitID</th>\n",
       "      <th>Transect</th>\n",
       "      <th>DataAvail</th>\n",
       "    </tr>\n",
       "  </thead>\n",
       "  <tbody>\n",
       "    <tr>\n",
       "      <th>0</th>\n",
       "      <td>0.0</td>\n",
       "      <td>2011-01-01</td>\n",
       "      <td>NaN</td>\n",
       "      <td>NaN</td>\n",
       "      <td>None</td>\n",
       "    </tr>\n",
       "    <tr>\n",
       "      <th>1</th>\n",
       "      <td>1.0</td>\n",
       "      <td>2011-01-02</td>\n",
       "      <td>NaN</td>\n",
       "      <td>NaN</td>\n",
       "      <td>None</td>\n",
       "    </tr>\n",
       "    <tr>\n",
       "      <th>2</th>\n",
       "      <td>2.0</td>\n",
       "      <td>2011-01-03</td>\n",
       "      <td>NaN</td>\n",
       "      <td>40.0</td>\n",
       "      <td>Prey</td>\n",
       "    </tr>\n",
       "    <tr>\n",
       "      <th>3</th>\n",
       "      <td>3.0</td>\n",
       "      <td>2011-01-04</td>\n",
       "      <td>NaN</td>\n",
       "      <td>40.0</td>\n",
       "      <td>Prey</td>\n",
       "    </tr>\n",
       "    <tr>\n",
       "      <th>4</th>\n",
       "      <td>4.0</td>\n",
       "      <td>2011-01-05</td>\n",
       "      <td>NaN</td>\n",
       "      <td>40.0</td>\n",
       "      <td>Prey</td>\n",
       "    </tr>\n",
       "  </tbody>\n",
       "</table>\n",
       "</div>"
      ],
      "text/plain": [
       "   Unnamed: 0 between_days c_uniqueUnitID  Transect DataAvail\n",
       "0         0.0   2011-01-01            NaN       NaN      None\n",
       "1         1.0   2011-01-02            NaN       NaN      None\n",
       "2         2.0   2011-01-03            NaN      40.0      Prey\n",
       "3         3.0   2011-01-04            NaN      40.0      Prey\n",
       "4         4.0   2011-01-05            NaN      40.0      Prey"
      ]
     },
     "execution_count": 3,
     "metadata": {},
     "output_type": "execute_result"
    }
   ],
   "source": [
    "# read in CCB Acoustic metadata, parse date columns\n",
    "CCB_fake = pd.read_csv('./scratch/CCB_JanFeb_fakecolumn_twoyear.csv', \n",
    "                 sep=',', \n",
    "                 encoding='utf-8',\n",
    "                 parse_dates = ['between_days'])\n",
    "\n",
    "CCB_fake.head()"
   ]
  },
  {
   "cell_type": "code",
   "execution_count": null,
   "metadata": {},
   "outputs": [],
   "source": [
    "CCB_JanFeb['DataAvail'] = ['No' if x.month == '01' else 'Yes' for x in CCB_JanFeb['between_days']] \n",
    "CCB_JanFeb"
   ]
  },
  {
   "cell_type": "code",
   "execution_count": null,
   "metadata": {},
   "outputs": [],
   "source": [
    "#pd.DataFrame.to_csv(CCB_JanFeb, \"./scratch/CCB_JanFeb_fakecolumn.csv\")"
   ]
  },
  {
   "cell_type": "code",
   "execution_count": null,
   "metadata": {},
   "outputs": [],
   "source": []
  },
  {
   "cell_type": "code",
   "execution_count": null,
   "metadata": {},
   "outputs": [],
   "source": [
    "# the acoustics column is a general type ('object') that has floats and strings..conditions aren't picking up NaN's\n",
    "CCB_JanFeb['c_uniqueUnitID'].astype('str')"
   ]
  },
  {
   "cell_type": "code",
   "execution_count": null,
   "metadata": {},
   "outputs": [],
   "source": [
    "CCB_JanFeb.info()"
   ]
  },
  {
   "cell_type": "code",
   "execution_count": null,
   "metadata": {},
   "outputs": [],
   "source": [
    "type(CCB_JanFeb['c_uniqueUnitID'][1])"
   ]
  },
  {
   "cell_type": "markdown",
   "metadata": {},
   "source": [
    "### Try to list data availability/overlap in one column"
   ]
  },
  {
   "cell_type": "code",
   "execution_count": null,
   "metadata": {},
   "outputs": [],
   "source": [
    "CCB_JanFeb['Transect']"
   ]
  },
  {
   "cell_type": "code",
   "execution_count": null,
   "metadata": {},
   "outputs": [],
   "source": [
    "for x in CCB_JanFeb['Transect']:\n",
    "    print(x, type(x))"
   ]
  },
  {
   "cell_type": "code",
   "execution_count": null,
   "metadata": {},
   "outputs": [],
   "source": [
    "CCB_JanFeb['DataAvail'] = ['No' if x == 'nan' else 'Yes' for x in CCB_JanFeb['Transect']] \n",
    "CCB_JanFeb"
   ]
  },
  {
   "cell_type": "code",
   "execution_count": null,
   "metadata": {},
   "outputs": [],
   "source": [
    "# create conditions\n",
    "conditions = [\n",
    "        (CCB_JanFeb['c_uniqueUnitID'] == 'NaN') & (CCB_JanFeb['Transect'] == 'NaN'),\n",
    "        (CCB_JanFeb['c_uniqueUnitID'] != 'NaN') & (CCB_JanFeb['Transect'] != 'NaN'),\n",
    "        (CCB_JanFeb['c_uniqueUnitID'] == 'NaN') & (CCB_JanFeb['Transect'] != 'NaN'),\n",
    "        (CCB_JanFeb['c_uniqueUnitID'] != 'NaN') & (CCB_JanFeb['Transect'] == 'NaN')]\n",
    "\n",
    "# create resulting values for conditions\n",
    "values = ['No Data', 'Both', 'Prey', 'Acoustic']\n",
    "\n",
    "# create column to fill\n",
    "CCB_JanFeb['DataAvailability'] = np.select(conditions, values)\n",
    "\n",
    "CCB_JanFeb"
   ]
  },
  {
   "cell_type": "code",
   "execution_count": null,
   "metadata": {},
   "outputs": [],
   "source": [
    "# create a list of our conditions\n",
    "conditions = [\n",
    "    (df['likes_count'] <= 2),\n",
    "    (df['likes_count'] > 2) & (df['likes_count'] <= 9),\n",
    "    (df['likes_count'] > 9) & (df['likes_count'] <= 15),\n",
    "    (df['likes_count'] > 15)\n",
    "    ]\n",
    "\n",
    "# create a list of the values we want to assign for each condition\n",
    "values = ['tier_4', 'tier_3', 'tier_2', 'tier_1']\n",
    "\n",
    "# create a new column and use np.select to assign values to it using our lists as arguments\n",
    "df['tier'] = np.select(conditions, values)\n",
    "\n",
    "# display updated DataFrame\n",
    "df.head()"
   ]
  },
  {
   "cell_type": "markdown",
   "metadata": {},
   "source": [
    "### Plahts"
   ]
  },
  {
   "cell_type": "code",
   "execution_count": 7,
   "metadata": {},
   "outputs": [
    {
     "data": {
      "text/html": [
       "\n",
       "<div id=\"altair-viz-625fcfb467c54255ade11771ba149bf5\"></div>\n",
       "<script type=\"text/javascript\">\n",
       "  (function(spec, embedOpt){\n",
       "    let outputDiv = document.currentScript.previousElementSibling;\n",
       "    if (outputDiv.id !== \"altair-viz-625fcfb467c54255ade11771ba149bf5\") {\n",
       "      outputDiv = document.getElementById(\"altair-viz-625fcfb467c54255ade11771ba149bf5\");\n",
       "    }\n",
       "    const paths = {\n",
       "      \"vega\": \"https://cdn.jsdelivr.net/npm//vega@5?noext\",\n",
       "      \"vega-lib\": \"https://cdn.jsdelivr.net/npm//vega-lib?noext\",\n",
       "      \"vega-lite\": \"https://cdn.jsdelivr.net/npm//vega-lite@4.8.1?noext\",\n",
       "      \"vega-embed\": \"https://cdn.jsdelivr.net/npm//vega-embed@6?noext\",\n",
       "    };\n",
       "\n",
       "    function loadScript(lib) {\n",
       "      return new Promise(function(resolve, reject) {\n",
       "        var s = document.createElement('script');\n",
       "        s.src = paths[lib];\n",
       "        s.async = true;\n",
       "        s.onload = () => resolve(paths[lib]);\n",
       "        s.onerror = () => reject(`Error loading script: ${paths[lib]}`);\n",
       "        document.getElementsByTagName(\"head\")[0].appendChild(s);\n",
       "      });\n",
       "    }\n",
       "\n",
       "    function showError(err) {\n",
       "      outputDiv.innerHTML = `<div class=\"error\" style=\"color:red;\">${err}</div>`;\n",
       "      throw err;\n",
       "    }\n",
       "\n",
       "    function displayChart(vegaEmbed) {\n",
       "      vegaEmbed(outputDiv, spec, embedOpt)\n",
       "        .catch(err => showError(`Javascript Error: ${err.message}<br>This usually means there's a typo in your chart specification. See the javascript console for the full traceback.`));\n",
       "    }\n",
       "\n",
       "    if(typeof define === \"function\" && define.amd) {\n",
       "      requirejs.config({paths});\n",
       "      require([\"vega-embed\"], displayChart, err => showError(`Error loading script: ${err.message}`));\n",
       "    } else if (typeof vegaEmbed === \"function\") {\n",
       "      displayChart(vegaEmbed);\n",
       "    } else {\n",
       "      loadScript(\"vega\")\n",
       "        .then(() => loadScript(\"vega-lite\"))\n",
       "        .then(() => loadScript(\"vega-embed\"))\n",
       "        .catch(showError)\n",
       "        .then(() => displayChart(vegaEmbed));\n",
       "    }\n",
       "  })({\"config\": {\"view\": {\"continuousWidth\": 400, \"continuousHeight\": 300}}, \"data\": {\"name\": \"data-668ca22b7d62a93f729130cf0f88c7a8\"}, \"facet\": {\"row\": {\"type\": \"temporal\", \"field\": \"between_days\", \"timeUnit\": \"month\"}}, \"spec\": {\"mark\": \"rect\", \"encoding\": {\"color\": {\"type\": \"nominal\", \"field\": \"DataAvail\"}, \"x\": {\"type\": \"temporal\", \"field\": \"between_days\", \"timeUnit\": \"monthdate\"}}, \"height\": 50, \"width\": 500}, \"$schema\": \"https://vega.github.io/schema/vega-lite/v4.8.1.json\", \"datasets\": {\"data-668ca22b7d62a93f729130cf0f88c7a8\": [{\"Unnamed: 0\": 0.0, \"between_days\": \"2011-01-01T00:00:00\", \"c_uniqueUnitID\": null, \"Transect\": null, \"DataAvail\": \"None\"}, {\"Unnamed: 0\": 1.0, \"between_days\": \"2011-01-02T00:00:00\", \"c_uniqueUnitID\": null, \"Transect\": null, \"DataAvail\": \"None\"}, {\"Unnamed: 0\": 2.0, \"between_days\": \"2011-01-03T00:00:00\", \"c_uniqueUnitID\": null, \"Transect\": 40.0, \"DataAvail\": \"Prey\"}, {\"Unnamed: 0\": 3.0, \"between_days\": \"2011-01-04T00:00:00\", \"c_uniqueUnitID\": null, \"Transect\": 40.0, \"DataAvail\": \"Prey\"}, {\"Unnamed: 0\": 4.0, \"between_days\": \"2011-01-05T00:00:00\", \"c_uniqueUnitID\": null, \"Transect\": 40.0, \"DataAvail\": \"Prey\"}, {\"Unnamed: 0\": 5.0, \"between_days\": \"2011-01-06T00:00:00\", \"c_uniqueUnitID\": null, \"Transect\": 40.0, \"DataAvail\": \"Prey\"}, {\"Unnamed: 0\": 6.0, \"between_days\": \"2011-01-07T00:00:00\", \"c_uniqueUnitID\": null, \"Transect\": 40.0, \"DataAvail\": \"Prey\"}, {\"Unnamed: 0\": 7.0, \"between_days\": \"2011-01-08T00:00:00\", \"c_uniqueUnitID\": null, \"Transect\": 40.0, \"DataAvail\": \"Prey\"}, {\"Unnamed: 0\": 8.0, \"between_days\": \"2011-01-09T00:00:00\", \"c_uniqueUnitID\": null, \"Transect\": 40.0, \"DataAvail\": \"Prey\"}, {\"Unnamed: 0\": 9.0, \"between_days\": \"2011-01-10T00:00:00\", \"c_uniqueUnitID\": null, \"Transect\": 40.0, \"DataAvail\": \"Prey\"}, {\"Unnamed: 0\": 10.0, \"between_days\": \"2011-01-11T00:00:00\", \"c_uniqueUnitID\": null, \"Transect\": 40.0, \"DataAvail\": \"Prey\"}, {\"Unnamed: 0\": 11.0, \"between_days\": \"2011-01-12T00:00:00\", \"c_uniqueUnitID\": null, \"Transect\": 40.0, \"DataAvail\": \"Prey\"}, {\"Unnamed: 0\": 12.0, \"between_days\": \"2011-01-13T00:00:00\", \"c_uniqueUnitID\": null, \"Transect\": 40.0, \"DataAvail\": \"Prey\"}, {\"Unnamed: 0\": 13.0, \"between_days\": \"2011-01-14T00:00:00\", \"c_uniqueUnitID\": null, \"Transect\": 40.0, \"DataAvail\": \"Prey\"}, {\"Unnamed: 0\": 14.0, \"between_days\": \"2011-01-15T00:00:00\", \"c_uniqueUnitID\": null, \"Transect\": 40.0, \"DataAvail\": \"Prey\"}, {\"Unnamed: 0\": 15.0, \"between_days\": \"2011-01-16T00:00:00\", \"c_uniqueUnitID\": null, \"Transect\": 40.0, \"DataAvail\": \"Prey\"}, {\"Unnamed: 0\": 16.0, \"between_days\": \"2011-01-17T00:00:00\", \"c_uniqueUnitID\": null, \"Transect\": 40.0, \"DataAvail\": \"Prey\"}, {\"Unnamed: 0\": 17.0, \"between_days\": \"2011-01-18T00:00:00\", \"c_uniqueUnitID\": null, \"Transect\": 40.0, \"DataAvail\": \"Prey\"}, {\"Unnamed: 0\": 18.0, \"between_days\": \"2011-01-19T00:00:00\", \"c_uniqueUnitID\": null, \"Transect\": 40.0, \"DataAvail\": \"Prey\"}, {\"Unnamed: 0\": 19.0, \"between_days\": \"2011-01-20T00:00:00\", \"c_uniqueUnitID\": null, \"Transect\": 40.0, \"DataAvail\": \"Prey\"}, {\"Unnamed: 0\": 20.0, \"between_days\": \"2011-01-21T00:00:00\", \"c_uniqueUnitID\": null, \"Transect\": 40.0, \"DataAvail\": \"Prey\"}, {\"Unnamed: 0\": 21.0, \"between_days\": \"2011-01-22T00:00:00\", \"c_uniqueUnitID\": null, \"Transect\": 40.0, \"DataAvail\": \"Prey\"}, {\"Unnamed: 0\": 22.0, \"between_days\": \"2011-01-23T00:00:00\", \"c_uniqueUnitID\": null, \"Transect\": 40.0, \"DataAvail\": \"Prey\"}, {\"Unnamed: 0\": 23.0, \"between_days\": \"2011-01-24T00:00:00\", \"c_uniqueUnitID\": null, \"Transect\": 40.0, \"DataAvail\": \"Prey\"}, {\"Unnamed: 0\": 24.0, \"between_days\": \"2011-01-25T00:00:00\", \"c_uniqueUnitID\": null, \"Transect\": 40.0, \"DataAvail\": \"Prey\"}, {\"Unnamed: 0\": 25.0, \"between_days\": \"2011-01-26T00:00:00\", \"c_uniqueUnitID\": null, \"Transect\": 40.0, \"DataAvail\": \"Prey\"}, {\"Unnamed: 0\": 26.0, \"between_days\": \"2011-01-27T00:00:00\", \"c_uniqueUnitID\": null, \"Transect\": 40.0, \"DataAvail\": \"Prey\"}, {\"Unnamed: 0\": 27.0, \"between_days\": \"2011-01-28T00:00:00\", \"c_uniqueUnitID\": null, \"Transect\": 40.0, \"DataAvail\": \"Prey\"}, {\"Unnamed: 0\": 28.0, \"between_days\": \"2011-01-29T00:00:00\", \"c_uniqueUnitID\": null, \"Transect\": 40.0, \"DataAvail\": \"Prey\"}, {\"Unnamed: 0\": 29.0, \"between_days\": \"2011-01-30T00:00:00\", \"c_uniqueUnitID\": null, \"Transect\": 40.0, \"DataAvail\": \"Prey\"}, {\"Unnamed: 0\": 30.0, \"between_days\": \"2011-01-31T00:00:00\", \"c_uniqueUnitID\": null, \"Transect\": 40.0, \"DataAvail\": \"Prey\"}, {\"Unnamed: 0\": 31.0, \"between_days\": \"2011-02-01T00:00:00\", \"c_uniqueUnitID\": null, \"Transect\": 40.0, \"DataAvail\": \"Prey\"}, {\"Unnamed: 0\": 32.0, \"between_days\": \"2011-02-02T00:00:00\", \"c_uniqueUnitID\": null, \"Transect\": 40.0, \"DataAvail\": \"Prey\"}, {\"Unnamed: 0\": 33.0, \"between_days\": \"2011-02-03T00:00:00\", \"c_uniqueUnitID\": null, \"Transect\": 40.0, \"DataAvail\": \"Prey\"}, {\"Unnamed: 0\": 34.0, \"between_days\": \"2011-02-04T00:00:00\", \"c_uniqueUnitID\": null, \"Transect\": null, \"DataAvail\": \"None\"}, {\"Unnamed: 0\": 35.0, \"between_days\": \"2011-02-05T00:00:00\", \"c_uniqueUnitID\": null, \"Transect\": null, \"DataAvail\": \"None\"}, {\"Unnamed: 0\": 36.0, \"between_days\": \"2011-02-06T00:00:00\", \"c_uniqueUnitID\": null, \"Transect\": null, \"DataAvail\": \"None\"}, {\"Unnamed: 0\": 37.0, \"between_days\": \"2011-02-07T00:00:00\", \"c_uniqueUnitID\": null, \"Transect\": null, \"DataAvail\": \"None\"}, {\"Unnamed: 0\": 38.0, \"between_days\": \"2011-02-08T00:00:00\", \"c_uniqueUnitID\": null, \"Transect\": null, \"DataAvail\": \"None\"}, {\"Unnamed: 0\": 39.0, \"between_days\": \"2011-02-09T00:00:00\", \"c_uniqueUnitID\": null, \"Transect\": null, \"DataAvail\": \"None\"}, {\"Unnamed: 0\": 40.0, \"between_days\": \"2011-02-10T00:00:00\", \"c_uniqueUnitID\": null, \"Transect\": null, \"DataAvail\": \"None\"}, {\"Unnamed: 0\": 41.0, \"between_days\": \"2011-02-11T00:00:00\", \"c_uniqueUnitID\": null, \"Transect\": null, \"DataAvail\": \"None\"}, {\"Unnamed: 0\": 42.0, \"between_days\": \"2011-02-12T00:00:00\", \"c_uniqueUnitID\": null, \"Transect\": null, \"DataAvail\": \"None\"}, {\"Unnamed: 0\": 43.0, \"between_days\": \"2011-02-13T00:00:00\", \"c_uniqueUnitID\": null, \"Transect\": null, \"DataAvail\": \"None\"}, {\"Unnamed: 0\": 44.0, \"between_days\": \"2011-02-14T00:00:00\", \"c_uniqueUnitID\": null, \"Transect\": null, \"DataAvail\": \"None\"}, {\"Unnamed: 0\": 45.0, \"between_days\": \"2011-02-15T00:00:00\", \"c_uniqueUnitID\": null, \"Transect\": null, \"DataAvail\": \"None\"}, {\"Unnamed: 0\": 46.0, \"between_days\": \"2011-02-16T00:00:00\", \"c_uniqueUnitID\": null, \"Transect\": null, \"DataAvail\": \"None\"}, {\"Unnamed: 0\": 47.0, \"between_days\": \"2011-02-17T00:00:00\", \"c_uniqueUnitID\": \"2011_BRP_CCB_S1016_Dep20_20110217_PU0205_FD02018_CCB20\", \"Transect\": 50.0, \"DataAvail\": \"Both\"}, {\"Unnamed: 0\": 48.0, \"between_days\": \"2011-02-17T00:00:00\", \"c_uniqueUnitID\": \"2011_BRP_CCB_S1016_Dep20_20110217_PU0206_FD02008_CCB20\", \"Transect\": 50.0, \"DataAvail\": \"Both\"}, {\"Unnamed: 0\": 49.0, \"between_days\": \"2011-02-17T00:00:00\", \"c_uniqueUnitID\": \"2011_BRP_CCB_S1016_Dep20_20110217_PU0207_FD02006_CCB20\", \"Transect\": 50.0, \"DataAvail\": \"Both\"}, {\"Unnamed: 0\": 50.0, \"between_days\": \"2011-02-17T00:00:00\", \"c_uniqueUnitID\": \"2011_BRP_CCB_S1016_Dep20_20110217_PU0208_FD02020_CCB20\", \"Transect\": 50.0, \"DataAvail\": \"Both\"}, {\"Unnamed: 0\": 51.0, \"between_days\": \"2011-02-17T00:00:00\", \"c_uniqueUnitID\": \"2011_BRP_CCB_S1016_Dep20_20110217_PU0209_FD02000_CCB20\", \"Transect\": 50.0, \"DataAvail\": \"Both\"}, {\"Unnamed: 0\": 52.0, \"between_days\": \"2011-02-17T00:00:00\", \"c_uniqueUnitID\": \"2011_BRP_CCB_S1016_Dep20_20110217_PU0211_FD02002_CCB20\", \"Transect\": 50.0, \"DataAvail\": \"Both\"}, {\"Unnamed: 0\": 53.0, \"between_days\": \"2011-02-17T00:00:00\", \"c_uniqueUnitID\": \"2011_BRP_CCB_S1016_Dep20_20110217_PU0212_FD02016_CCB20\", \"Transect\": 50.0, \"DataAvail\": \"Both\"}, {\"Unnamed: 0\": 54.0, \"between_days\": \"2011-02-17T00:00:00\", \"c_uniqueUnitID\": \"2011_BRP_CCB_S1016_Dep20_20110217_PU0213_FD02010_CCB20\", \"Transect\": 50.0, \"DataAvail\": \"Both\"}, {\"Unnamed: 0\": 55.0, \"between_days\": \"2011-02-18T00:00:00\", \"c_uniqueUnitID\": \"2011_BRP_CCB_S1016_Dep20_20110217_PU0205_FD02018_CCB20\", \"Transect\": 50.0, \"DataAvail\": \"Both\"}, {\"Unnamed: 0\": 56.0, \"between_days\": \"2011-02-18T00:00:00\", \"c_uniqueUnitID\": \"2011_BRP_CCB_S1016_Dep20_20110217_PU0206_FD02008_CCB20\", \"Transect\": 50.0, \"DataAvail\": \"Both\"}, {\"Unnamed: 0\": 57.0, \"between_days\": \"2011-02-18T00:00:00\", \"c_uniqueUnitID\": \"2011_BRP_CCB_S1016_Dep20_20110217_PU0207_FD02006_CCB20\", \"Transect\": 50.0, \"DataAvail\": \"Both\"}, {\"Unnamed: 0\": 58.0, \"between_days\": \"2011-02-18T00:00:00\", \"c_uniqueUnitID\": \"2011_BRP_CCB_S1016_Dep20_20110217_PU0208_FD02020_CCB20\", \"Transect\": 50.0, \"DataAvail\": \"Both\"}, {\"Unnamed: 0\": 59.0, \"between_days\": \"2011-02-18T00:00:00\", \"c_uniqueUnitID\": \"2011_BRP_CCB_S1016_Dep20_20110217_PU0209_FD02000_CCB20\", \"Transect\": 50.0, \"DataAvail\": \"Both\"}, {\"Unnamed: 0\": 60.0, \"between_days\": \"2011-02-18T00:00:00\", \"c_uniqueUnitID\": \"2011_BRP_CCB_S1016_Dep20_20110217_PU0211_FD02002_CCB20\", \"Transect\": 50.0, \"DataAvail\": \"Both\"}, {\"Unnamed: 0\": 61.0, \"between_days\": \"2011-02-18T00:00:00\", \"c_uniqueUnitID\": \"2011_BRP_CCB_S1016_Dep20_20110217_PU0212_FD02016_CCB20\", \"Transect\": 50.0, \"DataAvail\": \"Both\"}, {\"Unnamed: 0\": 62.0, \"between_days\": \"2011-02-18T00:00:00\", \"c_uniqueUnitID\": \"2011_BRP_CCB_S1016_Dep20_20110217_PU0213_FD02010_CCB20\", \"Transect\": 50.0, \"DataAvail\": \"Acoustic\"}, {\"Unnamed: 0\": 63.0, \"between_days\": \"2011-02-19T00:00:00\", \"c_uniqueUnitID\": \"2011_BRP_CCB_S1016_Dep20_20110217_PU0205_FD02018_CCB20\", \"Transect\": 50.0, \"DataAvail\": \"Acoustic\"}, {\"Unnamed: 0\": 64.0, \"between_days\": \"2011-02-19T00:00:00\", \"c_uniqueUnitID\": \"2011_BRP_CCB_S1016_Dep20_20110217_PU0206_FD02008_CCB20\", \"Transect\": 50.0, \"DataAvail\": \"Acoustic\"}, {\"Unnamed: 0\": 65.0, \"between_days\": \"2011-02-19T00:00:00\", \"c_uniqueUnitID\": \"2011_BRP_CCB_S1016_Dep20_20110217_PU0207_FD02006_CCB20\", \"Transect\": 50.0, \"DataAvail\": \"Acoustic\"}, {\"Unnamed: 0\": 66.0, \"between_days\": \"2011-02-19T00:00:00\", \"c_uniqueUnitID\": \"2011_BRP_CCB_S1016_Dep20_20110217_PU0208_FD02020_CCB20\", \"Transect\": 50.0, \"DataAvail\": \"Acoustic\"}, {\"Unnamed: 0\": 67.0, \"between_days\": \"2011-02-19T00:00:00\", \"c_uniqueUnitID\": \"2011_BRP_CCB_S1016_Dep20_20110217_PU0209_FD02000_CCB20\", \"Transect\": 50.0, \"DataAvail\": \"Acoustic\"}, {\"Unnamed: 0\": 68.0, \"between_days\": \"2011-02-19T00:00:00\", \"c_uniqueUnitID\": \"2011_BRP_CCB_S1016_Dep20_20110217_PU0211_FD02002_CCB20\", \"Transect\": 50.0, \"DataAvail\": \"Acoustic\"}, {\"Unnamed: 0\": 69.0, \"between_days\": \"2011-02-19T00:00:00\", \"c_uniqueUnitID\": \"2011_BRP_CCB_S1016_Dep20_20110217_PU0212_FD02016_CCB20\", \"Transect\": 50.0, \"DataAvail\": \"Acoustic\"}, {\"Unnamed: 0\": 70.0, \"between_days\": \"2011-02-19T00:00:00\", \"c_uniqueUnitID\": \"2011_BRP_CCB_S1016_Dep20_20110217_PU0213_FD02010_CCB20\", \"Transect\": 50.0, \"DataAvail\": \"Acoustic\"}, {\"Unnamed: 0\": 71.0, \"between_days\": \"2011-02-20T00:00:00\", \"c_uniqueUnitID\": \"2011_BRP_CCB_S1016_Dep20_20110217_PU0205_FD02018_CCB20\", \"Transect\": 50.0, \"DataAvail\": \"Acoustic\"}, {\"Unnamed: 0\": 72.0, \"between_days\": \"2011-02-20T00:00:00\", \"c_uniqueUnitID\": \"2011_BRP_CCB_S1016_Dep20_20110217_PU0206_FD02008_CCB20\", \"Transect\": 50.0, \"DataAvail\": \"Acoustic\"}, {\"Unnamed: 0\": 73.0, \"between_days\": \"2011-02-20T00:00:00\", \"c_uniqueUnitID\": \"2011_BRP_CCB_S1016_Dep20_20110217_PU0207_FD02006_CCB20\", \"Transect\": 50.0, \"DataAvail\": \"Acoustic\"}, {\"Unnamed: 0\": 74.0, \"between_days\": \"2011-02-20T00:00:00\", \"c_uniqueUnitID\": \"2011_BRP_CCB_S1016_Dep20_20110217_PU0208_FD02020_CCB20\", \"Transect\": 50.0, \"DataAvail\": \"Acoustic\"}, {\"Unnamed: 0\": 75.0, \"between_days\": \"2011-02-20T00:00:00\", \"c_uniqueUnitID\": \"2011_BRP_CCB_S1016_Dep20_20110217_PU0209_FD02000_CCB20\", \"Transect\": 50.0, \"DataAvail\": \"Acoustic\"}, {\"Unnamed: 0\": 76.0, \"between_days\": \"2011-02-20T00:00:00\", \"c_uniqueUnitID\": \"2011_BRP_CCB_S1016_Dep20_20110217_PU0211_FD02002_CCB20\", \"Transect\": 50.0, \"DataAvail\": \"Acoustic\"}, {\"Unnamed: 0\": 77.0, \"between_days\": \"2011-02-20T00:00:00\", \"c_uniqueUnitID\": \"2011_BRP_CCB_S1016_Dep20_20110217_PU0212_FD02016_CCB20\", \"Transect\": 50.0, \"DataAvail\": \"Acoustic\"}, {\"Unnamed: 0\": 78.0, \"between_days\": \"2011-02-20T00:00:00\", \"c_uniqueUnitID\": \"2011_BRP_CCB_S1016_Dep20_20110217_PU0213_FD02010_CCB20\", \"Transect\": 50.0, \"DataAvail\": \"Acoustic\"}, {\"Unnamed: 0\": 79.0, \"between_days\": \"2011-02-21T00:00:00\", \"c_uniqueUnitID\": \"2011_BRP_CCB_S1016_Dep20_20110217_PU0205_FD02018_CCB20\", \"Transect\": 50.0, \"DataAvail\": \"Acoustic\"}, {\"Unnamed: 0\": 80.0, \"between_days\": \"2011-02-21T00:00:00\", \"c_uniqueUnitID\": \"2011_BRP_CCB_S1016_Dep20_20110217_PU0206_FD02008_CCB20\", \"Transect\": 50.0, \"DataAvail\": \"Acoustic\"}, {\"Unnamed: 0\": 81.0, \"between_days\": \"2011-02-21T00:00:00\", \"c_uniqueUnitID\": \"2011_BRP_CCB_S1016_Dep20_20110217_PU0207_FD02006_CCB20\", \"Transect\": 50.0, \"DataAvail\": \"Acoustic\"}, {\"Unnamed: 0\": 82.0, \"between_days\": \"2011-02-21T00:00:00\", \"c_uniqueUnitID\": \"2011_BRP_CCB_S1016_Dep20_20110217_PU0208_FD02020_CCB20\", \"Transect\": 50.0, \"DataAvail\": \"Acoustic\"}, {\"Unnamed: 0\": 83.0, \"between_days\": \"2011-02-21T00:00:00\", \"c_uniqueUnitID\": \"2011_BRP_CCB_S1016_Dep20_20110217_PU0209_FD02000_CCB20\", \"Transect\": null, \"DataAvail\": \"Acoustic\"}, {\"Unnamed: 0\": 84.0, \"between_days\": \"2011-02-21T00:00:00\", \"c_uniqueUnitID\": \"2011_BRP_CCB_S1016_Dep20_20110217_PU0211_FD02002_CCB20\", \"Transect\": null, \"DataAvail\": \"Acoustic\"}, {\"Unnamed: 0\": 85.0, \"between_days\": \"2011-02-21T00:00:00\", \"c_uniqueUnitID\": \"2011_BRP_CCB_S1016_Dep20_20110217_PU0212_FD02016_CCB20\", \"Transect\": null, \"DataAvail\": \"Acoustic\"}, {\"Unnamed: 0\": 86.0, \"between_days\": \"2011-02-21T00:00:00\", \"c_uniqueUnitID\": \"2011_BRP_CCB_S1016_Dep20_20110217_PU0213_FD02010_CCB20\", \"Transect\": null, \"DataAvail\": \"Acoustic\"}, {\"Unnamed: 0\": 87.0, \"between_days\": \"2011-02-22T00:00:00\", \"c_uniqueUnitID\": \"2011_BRP_CCB_S1016_Dep20_20110217_PU0205_FD02018_CCB20\", \"Transect\": null, \"DataAvail\": \"Acoustic\"}, {\"Unnamed: 0\": 88.0, \"between_days\": \"2011-02-22T00:00:00\", \"c_uniqueUnitID\": \"2011_BRP_CCB_S1016_Dep20_20110217_PU0206_FD02008_CCB20\", \"Transect\": null, \"DataAvail\": \"Acoustic\"}, {\"Unnamed: 0\": 89.0, \"between_days\": \"2011-02-22T00:00:00\", \"c_uniqueUnitID\": \"2011_BRP_CCB_S1016_Dep20_20110217_PU0207_FD02006_CCB20\", \"Transect\": null, \"DataAvail\": \"Acoustic\"}, {\"Unnamed: 0\": 90.0, \"between_days\": \"2011-02-22T00:00:00\", \"c_uniqueUnitID\": \"2011_BRP_CCB_S1016_Dep20_20110217_PU0208_FD02020_CCB20\", \"Transect\": null, \"DataAvail\": \"Acoustic\"}, {\"Unnamed: 0\": 91.0, \"between_days\": \"2011-02-22T00:00:00\", \"c_uniqueUnitID\": \"2011_BRP_CCB_S1016_Dep20_20110217_PU0209_FD02000_CCB20\", \"Transect\": null, \"DataAvail\": \"Acoustic\"}, {\"Unnamed: 0\": 92.0, \"between_days\": \"2011-02-22T00:00:00\", \"c_uniqueUnitID\": \"2011_BRP_CCB_S1016_Dep20_20110217_PU0211_FD02002_CCB20\", \"Transect\": null, \"DataAvail\": \"Acoustic\"}, {\"Unnamed: 0\": 93.0, \"between_days\": \"2011-02-22T00:00:00\", \"c_uniqueUnitID\": \"2011_BRP_CCB_S1016_Dep20_20110217_PU0212_FD02016_CCB20\", \"Transect\": null, \"DataAvail\": \"Acoustic\"}, {\"Unnamed: 0\": 94.0, \"between_days\": \"2011-02-22T00:00:00\", \"c_uniqueUnitID\": \"2011_BRP_CCB_S1016_Dep20_20110217_PU0213_FD02010_CCB20\", \"Transect\": null, \"DataAvail\": \"Acoustic\"}, {\"Unnamed: 0\": 95.0, \"between_days\": \"2011-02-23T00:00:00\", \"c_uniqueUnitID\": \"2011_BRP_CCB_S1016_Dep20_20110217_PU0205_FD02018_CCB20\", \"Transect\": null, \"DataAvail\": \"Acoustic\"}, {\"Unnamed: 0\": 96.0, \"between_days\": \"2011-02-23T00:00:00\", \"c_uniqueUnitID\": \"2011_BRP_CCB_S1016_Dep20_20110217_PU0206_FD02008_CCB20\", \"Transect\": null, \"DataAvail\": \"Acoustic\"}, {\"Unnamed: 0\": 97.0, \"between_days\": \"2011-02-23T00:00:00\", \"c_uniqueUnitID\": \"2011_BRP_CCB_S1016_Dep20_20110217_PU0207_FD02006_CCB20\", \"Transect\": null, \"DataAvail\": \"Acoustic\"}, {\"Unnamed: 0\": 98.0, \"between_days\": \"2011-02-23T00:00:00\", \"c_uniqueUnitID\": \"2011_BRP_CCB_S1016_Dep20_20110217_PU0208_FD02020_CCB20\", \"Transect\": null, \"DataAvail\": \"Acoustic\"}, {\"Unnamed: 0\": 99.0, \"between_days\": \"2011-02-23T00:00:00\", \"c_uniqueUnitID\": \"2011_BRP_CCB_S1016_Dep20_20110217_PU0209_FD02000_CCB20\", \"Transect\": null, \"DataAvail\": \"Acoustic\"}, {\"Unnamed: 0\": 100.0, \"between_days\": \"2011-02-23T00:00:00\", \"c_uniqueUnitID\": \"2011_BRP_CCB_S1016_Dep20_20110217_PU0211_FD02002_CCB20\", \"Transect\": null, \"DataAvail\": \"Acoustic\"}, {\"Unnamed: 0\": 101.0, \"between_days\": \"2011-02-23T00:00:00\", \"c_uniqueUnitID\": \"2011_BRP_CCB_S1016_Dep20_20110217_PU0212_FD02016_CCB20\", \"Transect\": null, \"DataAvail\": \"Acoustic\"}, {\"Unnamed: 0\": 102.0, \"between_days\": \"2011-02-23T00:00:00\", \"c_uniqueUnitID\": \"2011_BRP_CCB_S1016_Dep20_20110217_PU0213_FD02010_CCB20\", \"Transect\": null, \"DataAvail\": \"Acoustic\"}, {\"Unnamed: 0\": 103.0, \"between_days\": \"2011-02-24T00:00:00\", \"c_uniqueUnitID\": \"2011_BRP_CCB_S1016_Dep20_20110217_PU0205_FD02018_CCB20\", \"Transect\": null, \"DataAvail\": \"Acoustic\"}, {\"Unnamed: 0\": 104.0, \"between_days\": \"2011-02-24T00:00:00\", \"c_uniqueUnitID\": \"2011_BRP_CCB_S1016_Dep20_20110217_PU0206_FD02008_CCB20\", \"Transect\": null, \"DataAvail\": \"Acoustic\"}, {\"Unnamed: 0\": 105.0, \"between_days\": \"2011-02-24T00:00:00\", \"c_uniqueUnitID\": \"2011_BRP_CCB_S1016_Dep20_20110217_PU0207_FD02006_CCB20\", \"Transect\": null, \"DataAvail\": \"Acoustic\"}, {\"Unnamed: 0\": 106.0, \"between_days\": \"2011-02-24T00:00:00\", \"c_uniqueUnitID\": \"2011_BRP_CCB_S1016_Dep20_20110217_PU0208_FD02020_CCB20\", \"Transect\": null, \"DataAvail\": \"Acoustic\"}, {\"Unnamed: 0\": 107.0, \"between_days\": \"2011-02-24T00:00:00\", \"c_uniqueUnitID\": \"2011_BRP_CCB_S1016_Dep20_20110217_PU0209_FD02000_CCB20\", \"Transect\": null, \"DataAvail\": \"Acoustic\"}, {\"Unnamed: 0\": 108.0, \"between_days\": \"2011-02-24T00:00:00\", \"c_uniqueUnitID\": \"2011_BRP_CCB_S1016_Dep20_20110217_PU0211_FD02002_CCB20\", \"Transect\": null, \"DataAvail\": \"Acoustic\"}, {\"Unnamed: 0\": 109.0, \"between_days\": \"2011-02-24T00:00:00\", \"c_uniqueUnitID\": \"2011_BRP_CCB_S1016_Dep20_20110217_PU0212_FD02016_CCB20\", \"Transect\": null, \"DataAvail\": \"Acoustic\"}, {\"Unnamed: 0\": 110.0, \"between_days\": \"2011-02-24T00:00:00\", \"c_uniqueUnitID\": \"2011_BRP_CCB_S1016_Dep20_20110217_PU0213_FD02010_CCB20\", \"Transect\": null, \"DataAvail\": \"Acoustic\"}, {\"Unnamed: 0\": 111.0, \"between_days\": \"2011-02-25T00:00:00\", \"c_uniqueUnitID\": \"2011_BRP_CCB_S1016_Dep20_20110217_PU0205_FD02018_CCB20\", \"Transect\": null, \"DataAvail\": \"Acoustic\"}, {\"Unnamed: 0\": 112.0, \"between_days\": \"2011-02-25T00:00:00\", \"c_uniqueUnitID\": \"2011_BRP_CCB_S1016_Dep20_20110217_PU0206_FD02008_CCB20\", \"Transect\": null, \"DataAvail\": \"Acoustic\"}, {\"Unnamed: 0\": 113.0, \"between_days\": \"2011-02-25T00:00:00\", \"c_uniqueUnitID\": \"2011_BRP_CCB_S1016_Dep20_20110217_PU0207_FD02006_CCB20\", \"Transect\": null, \"DataAvail\": \"Acoustic\"}, {\"Unnamed: 0\": 114.0, \"between_days\": \"2011-02-25T00:00:00\", \"c_uniqueUnitID\": \"2011_BRP_CCB_S1016_Dep20_20110217_PU0208_FD02020_CCB20\", \"Transect\": null, \"DataAvail\": \"Acoustic\"}, {\"Unnamed: 0\": 115.0, \"between_days\": \"2011-02-25T00:00:00\", \"c_uniqueUnitID\": \"2011_BRP_CCB_S1016_Dep20_20110217_PU0209_FD02000_CCB20\", \"Transect\": null, \"DataAvail\": \"Acoustic\"}, {\"Unnamed: 0\": 116.0, \"between_days\": \"2011-02-25T00:00:00\", \"c_uniqueUnitID\": \"2011_BRP_CCB_S1016_Dep20_20110217_PU0211_FD02002_CCB20\", \"Transect\": null, \"DataAvail\": \"Acoustic\"}, {\"Unnamed: 0\": 117.0, \"between_days\": \"2011-02-25T00:00:00\", \"c_uniqueUnitID\": \"2011_BRP_CCB_S1016_Dep20_20110217_PU0212_FD02016_CCB20\", \"Transect\": null, \"DataAvail\": \"Acoustic\"}, {\"Unnamed: 0\": 118.0, \"between_days\": \"2011-02-25T00:00:00\", \"c_uniqueUnitID\": \"2011_BRP_CCB_S1016_Dep20_20110217_PU0213_FD02010_CCB20\", \"Transect\": null, \"DataAvail\": \"Acoustic\"}, {\"Unnamed: 0\": 119.0, \"between_days\": \"2011-02-26T00:00:00\", \"c_uniqueUnitID\": \"2011_BRP_CCB_S1016_Dep20_20110217_PU0205_FD02018_CCB20\", \"Transect\": null, \"DataAvail\": \"Acoustic\"}, {\"Unnamed: 0\": 120.0, \"between_days\": \"2011-02-26T00:00:00\", \"c_uniqueUnitID\": \"2011_BRP_CCB_S1016_Dep20_20110217_PU0206_FD02008_CCB20\", \"Transect\": null, \"DataAvail\": \"Acoustic\"}, {\"Unnamed: 0\": 121.0, \"between_days\": \"2011-02-26T00:00:00\", \"c_uniqueUnitID\": \"2011_BRP_CCB_S1016_Dep20_20110217_PU0207_FD02006_CCB20\", \"Transect\": null, \"DataAvail\": \"Acoustic\"}, {\"Unnamed: 0\": 122.0, \"between_days\": \"2011-02-26T00:00:00\", \"c_uniqueUnitID\": \"2011_BRP_CCB_S1016_Dep20_20110217_PU0208_FD02020_CCB20\", \"Transect\": null, \"DataAvail\": \"Acoustic\"}, {\"Unnamed: 0\": 123.0, \"between_days\": \"2011-02-26T00:00:00\", \"c_uniqueUnitID\": \"2011_BRP_CCB_S1016_Dep20_20110217_PU0209_FD02000_CCB20\", \"Transect\": null, \"DataAvail\": \"Acoustic\"}, {\"Unnamed: 0\": 124.0, \"between_days\": \"2011-02-26T00:00:00\", \"c_uniqueUnitID\": \"2011_BRP_CCB_S1016_Dep20_20110217_PU0211_FD02002_CCB20\", \"Transect\": null, \"DataAvail\": \"Acoustic\"}, {\"Unnamed: 0\": 125.0, \"between_days\": \"2011-02-26T00:00:00\", \"c_uniqueUnitID\": \"2011_BRP_CCB_S1016_Dep20_20110217_PU0212_FD02016_CCB20\", \"Transect\": null, \"DataAvail\": \"Acoustic\"}, {\"Unnamed: 0\": 126.0, \"between_days\": \"2011-02-26T00:00:00\", \"c_uniqueUnitID\": \"2011_BRP_CCB_S1016_Dep20_20110217_PU0213_FD02010_CCB20\", \"Transect\": null, \"DataAvail\": \"Acoustic\"}, {\"Unnamed: 0\": 127.0, \"between_days\": \"2011-02-27T00:00:00\", \"c_uniqueUnitID\": \"2011_BRP_CCB_S1016_Dep20_20110217_PU0205_FD02018_CCB20\", \"Transect\": null, \"DataAvail\": \"Acoustic\"}, {\"Unnamed: 0\": 128.0, \"between_days\": \"2011-02-27T00:00:00\", \"c_uniqueUnitID\": \"2011_BRP_CCB_S1016_Dep20_20110217_PU0206_FD02008_CCB20\", \"Transect\": null, \"DataAvail\": \"Acoustic\"}, {\"Unnamed: 0\": 129.0, \"between_days\": \"2011-02-27T00:00:00\", \"c_uniqueUnitID\": \"2011_BRP_CCB_S1016_Dep20_20110217_PU0207_FD02006_CCB20\", \"Transect\": null, \"DataAvail\": \"Acoustic\"}, {\"Unnamed: 0\": 130.0, \"between_days\": \"2011-02-27T00:00:00\", \"c_uniqueUnitID\": \"2011_BRP_CCB_S1016_Dep20_20110217_PU0208_FD02020_CCB20\", \"Transect\": null, \"DataAvail\": \"Acoustic\"}, {\"Unnamed: 0\": 131.0, \"between_days\": \"2011-02-27T00:00:00\", \"c_uniqueUnitID\": \"2011_BRP_CCB_S1016_Dep20_20110217_PU0209_FD02000_CCB20\", \"Transect\": null, \"DataAvail\": \"Acoustic\"}, {\"Unnamed: 0\": 132.0, \"between_days\": \"2011-02-27T00:00:00\", \"c_uniqueUnitID\": \"2011_BRP_CCB_S1016_Dep20_20110217_PU0211_FD02002_CCB20\", \"Transect\": null, \"DataAvail\": \"Acoustic\"}, {\"Unnamed: 0\": 133.0, \"between_days\": \"2011-02-27T00:00:00\", \"c_uniqueUnitID\": \"2011_BRP_CCB_S1016_Dep20_20110217_PU0212_FD02016_CCB20\", \"Transect\": null, \"DataAvail\": \"Acoustic\"}, {\"Unnamed: 0\": 134.0, \"between_days\": \"2011-02-27T00:00:00\", \"c_uniqueUnitID\": \"2011_BRP_CCB_S1016_Dep20_20110217_PU0213_FD02010_CCB20\", \"Transect\": null, \"DataAvail\": \"Acoustic\"}, {\"Unnamed: 0\": 135.0, \"between_days\": \"2011-02-28T00:00:00\", \"c_uniqueUnitID\": \"2011_BRP_CCB_S1016_Dep20_20110217_PU0205_FD02018_CCB20\", \"Transect\": null, \"DataAvail\": \"Acoustic\"}, {\"Unnamed: 0\": 136.0, \"between_days\": \"2011-02-28T00:00:00\", \"c_uniqueUnitID\": \"2011_BRP_CCB_S1016_Dep20_20110217_PU0206_FD02008_CCB20\", \"Transect\": null, \"DataAvail\": \"Acoustic\"}, {\"Unnamed: 0\": 137.0, \"between_days\": \"2011-02-28T00:00:00\", \"c_uniqueUnitID\": \"2011_BRP_CCB_S1016_Dep20_20110217_PU0207_FD02006_CCB20\", \"Transect\": null, \"DataAvail\": \"Acoustic\"}, {\"Unnamed: 0\": 138.0, \"between_days\": \"2011-02-28T00:00:00\", \"c_uniqueUnitID\": \"2011_BRP_CCB_S1016_Dep20_20110217_PU0208_FD02020_CCB20\", \"Transect\": null, \"DataAvail\": \"Acoustic\"}, {\"Unnamed: 0\": 139.0, \"between_days\": \"2011-02-28T00:00:00\", \"c_uniqueUnitID\": \"2011_BRP_CCB_S1016_Dep20_20110217_PU0209_FD02000_CCB20\", \"Transect\": null, \"DataAvail\": \"Acoustic\"}, {\"Unnamed: 0\": 140.0, \"between_days\": \"2011-02-28T00:00:00\", \"c_uniqueUnitID\": \"2011_BRP_CCB_S1016_Dep20_20110217_PU0211_FD02002_CCB20\", \"Transect\": null, \"DataAvail\": \"Acoustic\"}, {\"Unnamed: 0\": 141.0, \"between_days\": \"2011-02-28T00:00:00\", \"c_uniqueUnitID\": \"2011_BRP_CCB_S1016_Dep20_20110217_PU0212_FD02016_CCB20\", \"Transect\": null, \"DataAvail\": \"Acoustic\"}, {\"Unnamed: 0\": 142.0, \"between_days\": \"2011-02-28T00:00:00\", \"c_uniqueUnitID\": \"2011_BRP_CCB_S1016_Dep20_20110217_PU0213_FD02010_CCB20\", \"Transect\": null, \"DataAvail\": \"Acoustic\"}, {\"Unnamed: 0\": null, \"between_days\": \"2012-01-02T00:00:00\", \"c_uniqueUnitID\": null, \"Transect\": null, \"DataAvail\": \"None\"}, {\"Unnamed: 0\": null, \"between_days\": \"2012-01-03T00:00:00\", \"c_uniqueUnitID\": null, \"Transect\": null, \"DataAvail\": \"None\"}, {\"Unnamed: 0\": null, \"between_days\": \"2012-01-04T00:00:00\", \"c_uniqueUnitID\": null, \"Transect\": 40.0, \"DataAvail\": \"Prey\"}, {\"Unnamed: 0\": null, \"between_days\": \"2012-01-05T00:00:00\", \"c_uniqueUnitID\": null, \"Transect\": 40.0, \"DataAvail\": \"Prey\"}, {\"Unnamed: 0\": null, \"between_days\": \"2012-01-06T00:00:00\", \"c_uniqueUnitID\": null, \"Transect\": 40.0, \"DataAvail\": \"Prey\"}, {\"Unnamed: 0\": null, \"between_days\": \"2012-01-07T00:00:00\", \"c_uniqueUnitID\": null, \"Transect\": 40.0, \"DataAvail\": \"Prey\"}, {\"Unnamed: 0\": null, \"between_days\": \"2012-01-08T00:00:00\", \"c_uniqueUnitID\": null, \"Transect\": 40.0, \"DataAvail\": \"Prey\"}, {\"Unnamed: 0\": null, \"between_days\": \"2012-01-09T00:00:00\", \"c_uniqueUnitID\": null, \"Transect\": 40.0, \"DataAvail\": \"Prey\"}, {\"Unnamed: 0\": null, \"between_days\": \"2012-01-10T00:00:00\", \"c_uniqueUnitID\": null, \"Transect\": 40.0, \"DataAvail\": \"Prey\"}, {\"Unnamed: 0\": null, \"between_days\": \"2012-01-11T00:00:00\", \"c_uniqueUnitID\": null, \"Transect\": 40.0, \"DataAvail\": \"Prey\"}, {\"Unnamed: 0\": null, \"between_days\": \"2012-01-12T00:00:00\", \"c_uniqueUnitID\": null, \"Transect\": 40.0, \"DataAvail\": \"Prey\"}, {\"Unnamed: 0\": null, \"between_days\": \"2012-01-13T00:00:00\", \"c_uniqueUnitID\": null, \"Transect\": 40.0, \"DataAvail\": \"Prey\"}, {\"Unnamed: 0\": null, \"between_days\": \"2012-01-14T00:00:00\", \"c_uniqueUnitID\": null, \"Transect\": 40.0, \"DataAvail\": \"Prey\"}, {\"Unnamed: 0\": null, \"between_days\": \"2012-01-15T00:00:00\", \"c_uniqueUnitID\": null, \"Transect\": 40.0, \"DataAvail\": \"Prey\"}, {\"Unnamed: 0\": null, \"between_days\": \"2012-01-16T00:00:00\", \"c_uniqueUnitID\": null, \"Transect\": 40.0, \"DataAvail\": \"Prey\"}, {\"Unnamed: 0\": null, \"between_days\": \"2012-01-17T00:00:00\", \"c_uniqueUnitID\": null, \"Transect\": 40.0, \"DataAvail\": \"Prey\"}, {\"Unnamed: 0\": null, \"between_days\": \"2012-01-18T00:00:00\", \"c_uniqueUnitID\": null, \"Transect\": 40.0, \"DataAvail\": \"Prey\"}, {\"Unnamed: 0\": null, \"between_days\": \"2012-01-19T00:00:00\", \"c_uniqueUnitID\": null, \"Transect\": 40.0, \"DataAvail\": \"Prey\"}, {\"Unnamed: 0\": null, \"between_days\": \"2012-01-20T00:00:00\", \"c_uniqueUnitID\": null, \"Transect\": 40.0, \"DataAvail\": \"Prey\"}, {\"Unnamed: 0\": null, \"between_days\": \"2012-01-21T00:00:00\", \"c_uniqueUnitID\": null, \"Transect\": 40.0, \"DataAvail\": \"Prey\"}, {\"Unnamed: 0\": null, \"between_days\": \"2012-01-22T00:00:00\", \"c_uniqueUnitID\": null, \"Transect\": 40.0, \"DataAvail\": \"Prey\"}, {\"Unnamed: 0\": null, \"between_days\": \"2012-01-23T00:00:00\", \"c_uniqueUnitID\": null, \"Transect\": 40.0, \"DataAvail\": \"Prey\"}, {\"Unnamed: 0\": null, \"between_days\": \"2012-01-24T00:00:00\", \"c_uniqueUnitID\": null, \"Transect\": 40.0, \"DataAvail\": \"Prey\"}, {\"Unnamed: 0\": null, \"between_days\": \"2012-01-25T00:00:00\", \"c_uniqueUnitID\": null, \"Transect\": 40.0, \"DataAvail\": \"Prey\"}, {\"Unnamed: 0\": null, \"between_days\": \"2012-01-26T00:00:00\", \"c_uniqueUnitID\": null, \"Transect\": 40.0, \"DataAvail\": \"Prey\"}, {\"Unnamed: 0\": null, \"between_days\": \"2012-01-27T00:00:00\", \"c_uniqueUnitID\": null, \"Transect\": 40.0, \"DataAvail\": \"Prey\"}, {\"Unnamed: 0\": null, \"between_days\": \"2012-01-28T00:00:00\", \"c_uniqueUnitID\": null, \"Transect\": 40.0, \"DataAvail\": \"Prey\"}, {\"Unnamed: 0\": null, \"between_days\": \"2012-01-29T00:00:00\", \"c_uniqueUnitID\": null, \"Transect\": 40.0, \"DataAvail\": \"Prey\"}, {\"Unnamed: 0\": null, \"between_days\": \"2012-01-30T00:00:00\", \"c_uniqueUnitID\": null, \"Transect\": 40.0, \"DataAvail\": \"Prey\"}, {\"Unnamed: 0\": null, \"between_days\": \"2012-01-31T00:00:00\", \"c_uniqueUnitID\": null, \"Transect\": 40.0, \"DataAvail\": \"Prey\"}, {\"Unnamed: 0\": null, \"between_days\": \"2012-02-01T00:00:00\", \"c_uniqueUnitID\": null, \"Transect\": 40.0, \"DataAvail\": \"Prey\"}, {\"Unnamed: 0\": null, \"between_days\": \"2012-02-02T00:00:00\", \"c_uniqueUnitID\": null, \"Transect\": 40.0, \"DataAvail\": \"Prey\"}, {\"Unnamed: 0\": null, \"between_days\": \"2012-02-03T00:00:00\", \"c_uniqueUnitID\": null, \"Transect\": 40.0, \"DataAvail\": \"Prey\"}, {\"Unnamed: 0\": null, \"between_days\": \"2012-02-04T00:00:00\", \"c_uniqueUnitID\": null, \"Transect\": 40.0, \"DataAvail\": \"Prey\"}, {\"Unnamed: 0\": null, \"between_days\": \"2012-02-05T00:00:00\", \"c_uniqueUnitID\": null, \"Transect\": null, \"DataAvail\": \"None\"}, {\"Unnamed: 0\": null, \"between_days\": \"2012-02-06T00:00:00\", \"c_uniqueUnitID\": null, \"Transect\": null, \"DataAvail\": \"None\"}, {\"Unnamed: 0\": null, \"between_days\": \"2012-02-07T00:00:00\", \"c_uniqueUnitID\": null, \"Transect\": null, \"DataAvail\": \"None\"}, {\"Unnamed: 0\": null, \"between_days\": \"2012-02-08T00:00:00\", \"c_uniqueUnitID\": null, \"Transect\": null, \"DataAvail\": \"None\"}, {\"Unnamed: 0\": null, \"between_days\": \"2012-02-09T00:00:00\", \"c_uniqueUnitID\": null, \"Transect\": null, \"DataAvail\": \"None\"}, {\"Unnamed: 0\": null, \"between_days\": \"2012-02-10T00:00:00\", \"c_uniqueUnitID\": null, \"Transect\": null, \"DataAvail\": \"None\"}, {\"Unnamed: 0\": null, \"between_days\": \"2012-02-11T00:00:00\", \"c_uniqueUnitID\": null, \"Transect\": null, \"DataAvail\": \"None\"}, {\"Unnamed: 0\": null, \"between_days\": \"2012-02-12T00:00:00\", \"c_uniqueUnitID\": null, \"Transect\": null, \"DataAvail\": \"None\"}, {\"Unnamed: 0\": null, \"between_days\": \"2012-02-13T00:00:00\", \"c_uniqueUnitID\": null, \"Transect\": null, \"DataAvail\": \"None\"}, {\"Unnamed: 0\": null, \"between_days\": \"2012-02-14T00:00:00\", \"c_uniqueUnitID\": null, \"Transect\": null, \"DataAvail\": \"None\"}, {\"Unnamed: 0\": null, \"between_days\": \"2012-02-15T00:00:00\", \"c_uniqueUnitID\": null, \"Transect\": null, \"DataAvail\": \"None\"}, {\"Unnamed: 0\": null, \"between_days\": \"2012-02-16T00:00:00\", \"c_uniqueUnitID\": null, \"Transect\": null, \"DataAvail\": \"None\"}, {\"Unnamed: 0\": null, \"between_days\": \"2012-02-17T00:00:00\", \"c_uniqueUnitID\": null, \"Transect\": null, \"DataAvail\": \"None\"}, {\"Unnamed: 0\": null, \"between_days\": \"2012-02-18T00:00:00\", \"c_uniqueUnitID\": \"2011_BRP_CCB_S1016_Dep20_20110217_PU0205_FD02018_CCB20\", \"Transect\": 50.0, \"DataAvail\": \"Both\"}, {\"Unnamed: 0\": null, \"between_days\": \"2012-02-19T00:00:00\", \"c_uniqueUnitID\": \"2011_BRP_CCB_S1016_Dep20_20110217_PU0206_FD02008_CCB20\", \"Transect\": 50.0, \"DataAvail\": \"Both\"}, {\"Unnamed: 0\": null, \"between_days\": \"2012-02-20T00:00:00\", \"c_uniqueUnitID\": \"2011_BRP_CCB_S1016_Dep20_20110217_PU0207_FD02006_CCB20\", \"Transect\": 50.0, \"DataAvail\": \"Both\"}, {\"Unnamed: 0\": null, \"between_days\": \"2012-02-21T00:00:00\", \"c_uniqueUnitID\": \"2011_BRP_CCB_S1016_Dep20_20110217_PU0208_FD02020_CCB20\", \"Transect\": 50.0, \"DataAvail\": \"Both\"}, {\"Unnamed: 0\": null, \"between_days\": \"2012-02-22T00:00:00\", \"c_uniqueUnitID\": \"2011_BRP_CCB_S1016_Dep20_20110217_PU0209_FD02000_CCB20\", \"Transect\": 50.0, \"DataAvail\": \"Both\"}, {\"Unnamed: 0\": null, \"between_days\": \"2012-02-23T00:00:00\", \"c_uniqueUnitID\": \"2011_BRP_CCB_S1016_Dep20_20110217_PU0211_FD02002_CCB20\", \"Transect\": 50.0, \"DataAvail\": \"Both\"}, {\"Unnamed: 0\": null, \"between_days\": \"2012-02-24T00:00:00\", \"c_uniqueUnitID\": \"2011_BRP_CCB_S1016_Dep20_20110217_PU0212_FD02016_CCB20\", \"Transect\": 50.0, \"DataAvail\": \"Both\"}, {\"Unnamed: 0\": null, \"between_days\": \"2012-02-25T00:00:00\", \"c_uniqueUnitID\": \"2011_BRP_CCB_S1016_Dep20_20110217_PU0213_FD02010_CCB20\", \"Transect\": 50.0, \"DataAvail\": \"Both\"}, {\"Unnamed: 0\": null, \"between_days\": \"2012-02-26T00:00:00\", \"c_uniqueUnitID\": \"2011_BRP_CCB_S1016_Dep20_20110217_PU0205_FD02018_CCB20\", \"Transect\": 50.0, \"DataAvail\": \"Both\"}, {\"Unnamed: 0\": null, \"between_days\": \"2012-02-27T00:00:00\", \"c_uniqueUnitID\": \"2011_BRP_CCB_S1016_Dep20_20110217_PU0206_FD02008_CCB20\", \"Transect\": 50.0, \"DataAvail\": \"Both\"}, {\"Unnamed: 0\": null, \"between_days\": \"2012-02-28T00:00:00\", \"c_uniqueUnitID\": \"2011_BRP_CCB_S1016_Dep20_20110217_PU0207_FD02006_CCB20\", \"Transect\": 50.0, \"DataAvail\": \"Both\"}, {\"Unnamed: 0\": null, \"between_days\": \"2012-02-29T00:00:00\", \"c_uniqueUnitID\": \"2011_BRP_CCB_S1016_Dep20_20110217_PU0208_FD02020_CCB20\", \"Transect\": 50.0, \"DataAvail\": \"Both\"}, {\"Unnamed: 0\": null, \"between_days\": \"2012-03-01T00:00:00\", \"c_uniqueUnitID\": \"2011_BRP_CCB_S1016_Dep20_20110217_PU0209_FD02000_CCB20\", \"Transect\": 50.0, \"DataAvail\": \"Both\"}, {\"Unnamed: 0\": null, \"between_days\": \"2012-03-02T00:00:00\", \"c_uniqueUnitID\": \"2011_BRP_CCB_S1016_Dep20_20110217_PU0211_FD02002_CCB20\", \"Transect\": 50.0, \"DataAvail\": \"Both\"}, {\"Unnamed: 0\": null, \"between_days\": \"2012-03-03T00:00:00\", \"c_uniqueUnitID\": \"2011_BRP_CCB_S1016_Dep20_20110217_PU0212_FD02016_CCB20\", \"Transect\": 50.0, \"DataAvail\": \"Both\"}, {\"Unnamed: 0\": null, \"between_days\": \"2012-03-04T00:00:00\", \"c_uniqueUnitID\": \"2011_BRP_CCB_S1016_Dep20_20110217_PU0213_FD02010_CCB20\", \"Transect\": 50.0, \"DataAvail\": \"Acoustic\"}, {\"Unnamed: 0\": null, \"between_days\": \"2012-03-05T00:00:00\", \"c_uniqueUnitID\": \"2011_BRP_CCB_S1016_Dep20_20110217_PU0205_FD02018_CCB20\", \"Transect\": 50.0, \"DataAvail\": \"Acoustic\"}, {\"Unnamed: 0\": null, \"between_days\": \"2012-03-06T00:00:00\", \"c_uniqueUnitID\": \"2011_BRP_CCB_S1016_Dep20_20110217_PU0206_FD02008_CCB20\", \"Transect\": 50.0, \"DataAvail\": \"Acoustic\"}, {\"Unnamed: 0\": null, \"between_days\": \"2012-03-07T00:00:00\", \"c_uniqueUnitID\": \"2011_BRP_CCB_S1016_Dep20_20110217_PU0207_FD02006_CCB20\", \"Transect\": 50.0, \"DataAvail\": \"Acoustic\"}, {\"Unnamed: 0\": null, \"between_days\": \"2012-03-08T00:00:00\", \"c_uniqueUnitID\": \"2011_BRP_CCB_S1016_Dep20_20110217_PU0208_FD02020_CCB20\", \"Transect\": 50.0, \"DataAvail\": \"Acoustic\"}, {\"Unnamed: 0\": null, \"between_days\": \"2012-03-09T00:00:00\", \"c_uniqueUnitID\": \"2011_BRP_CCB_S1016_Dep20_20110217_PU0209_FD02000_CCB20\", \"Transect\": 50.0, \"DataAvail\": \"Acoustic\"}, {\"Unnamed: 0\": null, \"between_days\": \"2012-03-10T00:00:00\", \"c_uniqueUnitID\": \"2011_BRP_CCB_S1016_Dep20_20110217_PU0211_FD02002_CCB20\", \"Transect\": 50.0, \"DataAvail\": \"Acoustic\"}, {\"Unnamed: 0\": null, \"between_days\": \"2012-03-11T00:00:00\", \"c_uniqueUnitID\": \"2011_BRP_CCB_S1016_Dep20_20110217_PU0212_FD02016_CCB20\", \"Transect\": 50.0, \"DataAvail\": \"Acoustic\"}, {\"Unnamed: 0\": null, \"between_days\": \"2012-03-12T00:00:00\", \"c_uniqueUnitID\": \"2011_BRP_CCB_S1016_Dep20_20110217_PU0213_FD02010_CCB20\", \"Transect\": 50.0, \"DataAvail\": \"Acoustic\"}, {\"Unnamed: 0\": null, \"between_days\": \"2012-03-13T00:00:00\", \"c_uniqueUnitID\": \"2011_BRP_CCB_S1016_Dep20_20110217_PU0205_FD02018_CCB20\", \"Transect\": 50.0, \"DataAvail\": \"Acoustic\"}, {\"Unnamed: 0\": null, \"between_days\": \"2012-03-14T00:00:00\", \"c_uniqueUnitID\": \"2011_BRP_CCB_S1016_Dep20_20110217_PU0206_FD02008_CCB20\", \"Transect\": 50.0, \"DataAvail\": \"Acoustic\"}, {\"Unnamed: 0\": null, \"between_days\": \"2012-03-15T00:00:00\", \"c_uniqueUnitID\": \"2011_BRP_CCB_S1016_Dep20_20110217_PU0207_FD02006_CCB20\", \"Transect\": 50.0, \"DataAvail\": \"Acoustic\"}, {\"Unnamed: 0\": null, \"between_days\": \"2012-03-16T00:00:00\", \"c_uniqueUnitID\": \"2011_BRP_CCB_S1016_Dep20_20110217_PU0208_FD02020_CCB20\", \"Transect\": 50.0, \"DataAvail\": \"Acoustic\"}, {\"Unnamed: 0\": null, \"between_days\": \"2012-03-17T00:00:00\", \"c_uniqueUnitID\": \"2011_BRP_CCB_S1016_Dep20_20110217_PU0209_FD02000_CCB20\", \"Transect\": 50.0, \"DataAvail\": \"Acoustic\"}, {\"Unnamed: 0\": null, \"between_days\": \"2012-03-18T00:00:00\", \"c_uniqueUnitID\": \"2011_BRP_CCB_S1016_Dep20_20110217_PU0211_FD02002_CCB20\", \"Transect\": 50.0, \"DataAvail\": \"Acoustic\"}, {\"Unnamed: 0\": null, \"between_days\": \"2012-03-19T00:00:00\", \"c_uniqueUnitID\": \"2011_BRP_CCB_S1016_Dep20_20110217_PU0212_FD02016_CCB20\", \"Transect\": 50.0, \"DataAvail\": \"Acoustic\"}, {\"Unnamed: 0\": null, \"between_days\": \"2012-03-20T00:00:00\", \"c_uniqueUnitID\": \"2011_BRP_CCB_S1016_Dep20_20110217_PU0213_FD02010_CCB20\", \"Transect\": 50.0, \"DataAvail\": \"Acoustic\"}, {\"Unnamed: 0\": null, \"between_days\": \"2012-03-21T00:00:00\", \"c_uniqueUnitID\": \"2011_BRP_CCB_S1016_Dep20_20110217_PU0205_FD02018_CCB20\", \"Transect\": 50.0, \"DataAvail\": \"Acoustic\"}, {\"Unnamed: 0\": null, \"between_days\": \"2012-03-22T00:00:00\", \"c_uniqueUnitID\": \"2011_BRP_CCB_S1016_Dep20_20110217_PU0206_FD02008_CCB20\", \"Transect\": 50.0, \"DataAvail\": \"Acoustic\"}, {\"Unnamed: 0\": null, \"between_days\": \"2012-03-23T00:00:00\", \"c_uniqueUnitID\": \"2011_BRP_CCB_S1016_Dep20_20110217_PU0207_FD02006_CCB20\", \"Transect\": 50.0, \"DataAvail\": \"Acoustic\"}, {\"Unnamed: 0\": null, \"between_days\": \"2012-03-24T00:00:00\", \"c_uniqueUnitID\": \"2011_BRP_CCB_S1016_Dep20_20110217_PU0208_FD02020_CCB20\", \"Transect\": 50.0, \"DataAvail\": \"Acoustic\"}, {\"Unnamed: 0\": null, \"between_days\": \"2012-03-25T00:00:00\", \"c_uniqueUnitID\": \"2011_BRP_CCB_S1016_Dep20_20110217_PU0209_FD02000_CCB20\", \"Transect\": null, \"DataAvail\": \"Acoustic\"}, {\"Unnamed: 0\": null, \"between_days\": \"2012-03-26T00:00:00\", \"c_uniqueUnitID\": \"2011_BRP_CCB_S1016_Dep20_20110217_PU0211_FD02002_CCB20\", \"Transect\": null, \"DataAvail\": \"Acoustic\"}, {\"Unnamed: 0\": null, \"between_days\": \"2012-03-27T00:00:00\", \"c_uniqueUnitID\": \"2011_BRP_CCB_S1016_Dep20_20110217_PU0212_FD02016_CCB20\", \"Transect\": null, \"DataAvail\": \"Acoustic\"}, {\"Unnamed: 0\": null, \"between_days\": \"2012-03-28T00:00:00\", \"c_uniqueUnitID\": \"2011_BRP_CCB_S1016_Dep20_20110217_PU0213_FD02010_CCB20\", \"Transect\": null, \"DataAvail\": \"Acoustic\"}, {\"Unnamed: 0\": null, \"between_days\": \"2012-03-29T00:00:00\", \"c_uniqueUnitID\": \"2011_BRP_CCB_S1016_Dep20_20110217_PU0205_FD02018_CCB20\", \"Transect\": null, \"DataAvail\": \"Acoustic\"}, {\"Unnamed: 0\": null, \"between_days\": \"2012-03-30T00:00:00\", \"c_uniqueUnitID\": \"2011_BRP_CCB_S1016_Dep20_20110217_PU0206_FD02008_CCB20\", \"Transect\": null, \"DataAvail\": \"Acoustic\"}, {\"Unnamed: 0\": null, \"between_days\": \"2012-03-31T00:00:00\", \"c_uniqueUnitID\": \"2011_BRP_CCB_S1016_Dep20_20110217_PU0207_FD02006_CCB20\", \"Transect\": null, \"DataAvail\": \"Acoustic\"}, {\"Unnamed: 0\": null, \"between_days\": \"2012-04-01T00:00:00\", \"c_uniqueUnitID\": \"2011_BRP_CCB_S1016_Dep20_20110217_PU0208_FD02020_CCB20\", \"Transect\": null, \"DataAvail\": \"Acoustic\"}, {\"Unnamed: 0\": null, \"between_days\": \"2012-04-02T00:00:00\", \"c_uniqueUnitID\": \"2011_BRP_CCB_S1016_Dep20_20110217_PU0209_FD02000_CCB20\", \"Transect\": null, \"DataAvail\": \"Acoustic\"}, {\"Unnamed: 0\": null, \"between_days\": \"2012-04-03T00:00:00\", \"c_uniqueUnitID\": \"2011_BRP_CCB_S1016_Dep20_20110217_PU0211_FD02002_CCB20\", \"Transect\": null, \"DataAvail\": \"Acoustic\"}, {\"Unnamed: 0\": null, \"between_days\": \"2012-04-04T00:00:00\", \"c_uniqueUnitID\": \"2011_BRP_CCB_S1016_Dep20_20110217_PU0212_FD02016_CCB20\", \"Transect\": null, \"DataAvail\": \"Acoustic\"}, {\"Unnamed: 0\": null, \"between_days\": \"2012-04-05T00:00:00\", \"c_uniqueUnitID\": \"2011_BRP_CCB_S1016_Dep20_20110217_PU0213_FD02010_CCB20\", \"Transect\": null, \"DataAvail\": \"Acoustic\"}, {\"Unnamed: 0\": null, \"between_days\": \"2012-04-06T00:00:00\", \"c_uniqueUnitID\": \"2011_BRP_CCB_S1016_Dep20_20110217_PU0205_FD02018_CCB20\", \"Transect\": null, \"DataAvail\": \"Acoustic\"}, {\"Unnamed: 0\": null, \"between_days\": \"2012-04-07T00:00:00\", \"c_uniqueUnitID\": \"2011_BRP_CCB_S1016_Dep20_20110217_PU0206_FD02008_CCB20\", \"Transect\": null, \"DataAvail\": \"Acoustic\"}, {\"Unnamed: 0\": null, \"between_days\": \"2012-04-08T00:00:00\", \"c_uniqueUnitID\": \"2011_BRP_CCB_S1016_Dep20_20110217_PU0207_FD02006_CCB20\", \"Transect\": null, \"DataAvail\": \"Acoustic\"}, {\"Unnamed: 0\": null, \"between_days\": \"2012-04-09T00:00:00\", \"c_uniqueUnitID\": \"2011_BRP_CCB_S1016_Dep20_20110217_PU0208_FD02020_CCB20\", \"Transect\": null, \"DataAvail\": \"Acoustic\"}, {\"Unnamed: 0\": null, \"between_days\": \"2012-04-10T00:00:00\", \"c_uniqueUnitID\": \"2011_BRP_CCB_S1016_Dep20_20110217_PU0209_FD02000_CCB20\", \"Transect\": null, \"DataAvail\": \"Acoustic\"}, {\"Unnamed: 0\": null, \"between_days\": \"2012-04-11T00:00:00\", \"c_uniqueUnitID\": \"2011_BRP_CCB_S1016_Dep20_20110217_PU0211_FD02002_CCB20\", \"Transect\": null, \"DataAvail\": \"Acoustic\"}, {\"Unnamed: 0\": null, \"between_days\": \"2012-04-12T00:00:00\", \"c_uniqueUnitID\": \"2011_BRP_CCB_S1016_Dep20_20110217_PU0212_FD02016_CCB20\", \"Transect\": null, \"DataAvail\": \"Acoustic\"}, {\"Unnamed: 0\": null, \"between_days\": \"2012-04-13T00:00:00\", \"c_uniqueUnitID\": \"2011_BRP_CCB_S1016_Dep20_20110217_PU0213_FD02010_CCB20\", \"Transect\": null, \"DataAvail\": \"Acoustic\"}, {\"Unnamed: 0\": null, \"between_days\": \"2012-04-14T00:00:00\", \"c_uniqueUnitID\": \"2011_BRP_CCB_S1016_Dep20_20110217_PU0205_FD02018_CCB20\", \"Transect\": null, \"DataAvail\": \"Acoustic\"}, {\"Unnamed: 0\": null, \"between_days\": \"2012-04-15T00:00:00\", \"c_uniqueUnitID\": \"2011_BRP_CCB_S1016_Dep20_20110217_PU0206_FD02008_CCB20\", \"Transect\": null, \"DataAvail\": \"Acoustic\"}, {\"Unnamed: 0\": null, \"between_days\": \"2012-04-16T00:00:00\", \"c_uniqueUnitID\": \"2011_BRP_CCB_S1016_Dep20_20110217_PU0207_FD02006_CCB20\", \"Transect\": null, \"DataAvail\": \"Acoustic\"}, {\"Unnamed: 0\": null, \"between_days\": \"2012-04-17T00:00:00\", \"c_uniqueUnitID\": \"2011_BRP_CCB_S1016_Dep20_20110217_PU0208_FD02020_CCB20\", \"Transect\": null, \"DataAvail\": \"Acoustic\"}, {\"Unnamed: 0\": null, \"between_days\": \"2012-04-18T00:00:00\", \"c_uniqueUnitID\": \"2011_BRP_CCB_S1016_Dep20_20110217_PU0209_FD02000_CCB20\", \"Transect\": null, \"DataAvail\": \"Acoustic\"}, {\"Unnamed: 0\": null, \"between_days\": \"2012-04-19T00:00:00\", \"c_uniqueUnitID\": \"2011_BRP_CCB_S1016_Dep20_20110217_PU0211_FD02002_CCB20\", \"Transect\": null, \"DataAvail\": \"Acoustic\"}, {\"Unnamed: 0\": null, \"between_days\": \"2012-04-20T00:00:00\", \"c_uniqueUnitID\": \"2011_BRP_CCB_S1016_Dep20_20110217_PU0212_FD02016_CCB20\", \"Transect\": null, \"DataAvail\": \"Acoustic\"}, {\"Unnamed: 0\": null, \"between_days\": \"2012-04-21T00:00:00\", \"c_uniqueUnitID\": \"2011_BRP_CCB_S1016_Dep20_20110217_PU0213_FD02010_CCB20\", \"Transect\": null, \"DataAvail\": \"Acoustic\"}, {\"Unnamed: 0\": null, \"between_days\": \"2012-04-22T00:00:00\", \"c_uniqueUnitID\": \"2011_BRP_CCB_S1016_Dep20_20110217_PU0205_FD02018_CCB20\", \"Transect\": null, \"DataAvail\": \"Acoustic\"}, {\"Unnamed: 0\": null, \"between_days\": \"2012-04-23T00:00:00\", \"c_uniqueUnitID\": \"2011_BRP_CCB_S1016_Dep20_20110217_PU0206_FD02008_CCB20\", \"Transect\": null, \"DataAvail\": \"Acoustic\"}, {\"Unnamed: 0\": null, \"between_days\": \"2012-04-24T00:00:00\", \"c_uniqueUnitID\": \"2011_BRP_CCB_S1016_Dep20_20110217_PU0207_FD02006_CCB20\", \"Transect\": null, \"DataAvail\": \"Acoustic\"}, {\"Unnamed: 0\": null, \"between_days\": \"2012-04-25T00:00:00\", \"c_uniqueUnitID\": \"2011_BRP_CCB_S1016_Dep20_20110217_PU0208_FD02020_CCB20\", \"Transect\": null, \"DataAvail\": \"Acoustic\"}, {\"Unnamed: 0\": null, \"between_days\": \"2012-04-26T00:00:00\", \"c_uniqueUnitID\": \"2011_BRP_CCB_S1016_Dep20_20110217_PU0209_FD02000_CCB20\", \"Transect\": null, \"DataAvail\": \"Acoustic\"}, {\"Unnamed: 0\": null, \"between_days\": \"2012-04-27T00:00:00\", \"c_uniqueUnitID\": \"2011_BRP_CCB_S1016_Dep20_20110217_PU0211_FD02002_CCB20\", \"Transect\": null, \"DataAvail\": \"Acoustic\"}, {\"Unnamed: 0\": null, \"between_days\": \"2012-04-28T00:00:00\", \"c_uniqueUnitID\": \"2011_BRP_CCB_S1016_Dep20_20110217_PU0212_FD02016_CCB20\", \"Transect\": null, \"DataAvail\": \"Acoustic\"}, {\"Unnamed: 0\": null, \"between_days\": \"2012-04-29T00:00:00\", \"c_uniqueUnitID\": \"2011_BRP_CCB_S1016_Dep20_20110217_PU0213_FD02010_CCB20\", \"Transect\": null, \"DataAvail\": \"Acoustic\"}, {\"Unnamed: 0\": null, \"between_days\": \"2012-04-30T00:00:00\", \"c_uniqueUnitID\": \"2011_BRP_CCB_S1016_Dep20_20110217_PU0205_FD02018_CCB20\", \"Transect\": null, \"DataAvail\": \"Acoustic\"}, {\"Unnamed: 0\": null, \"between_days\": \"2012-05-01T00:00:00\", \"c_uniqueUnitID\": \"2011_BRP_CCB_S1016_Dep20_20110217_PU0206_FD02008_CCB20\", \"Transect\": null, \"DataAvail\": \"Acoustic\"}, {\"Unnamed: 0\": null, \"between_days\": \"2012-05-02T00:00:00\", \"c_uniqueUnitID\": \"2011_BRP_CCB_S1016_Dep20_20110217_PU0207_FD02006_CCB20\", \"Transect\": null, \"DataAvail\": \"Acoustic\"}, {\"Unnamed: 0\": null, \"between_days\": \"2012-05-03T00:00:00\", \"c_uniqueUnitID\": \"2011_BRP_CCB_S1016_Dep20_20110217_PU0208_FD02020_CCB20\", \"Transect\": null, \"DataAvail\": \"Acoustic\"}, {\"Unnamed: 0\": null, \"between_days\": \"2012-05-04T00:00:00\", \"c_uniqueUnitID\": \"2011_BRP_CCB_S1016_Dep20_20110217_PU0209_FD02000_CCB20\", \"Transect\": null, \"DataAvail\": \"Acoustic\"}, {\"Unnamed: 0\": null, \"between_days\": \"2012-05-05T00:00:00\", \"c_uniqueUnitID\": \"2011_BRP_CCB_S1016_Dep20_20110217_PU0211_FD02002_CCB20\", \"Transect\": null, \"DataAvail\": \"Acoustic\"}, {\"Unnamed: 0\": null, \"between_days\": \"2012-05-06T00:00:00\", \"c_uniqueUnitID\": \"2011_BRP_CCB_S1016_Dep20_20110217_PU0212_FD02016_CCB20\", \"Transect\": null, \"DataAvail\": \"Acoustic\"}, {\"Unnamed: 0\": null, \"between_days\": \"2012-05-07T00:00:00\", \"c_uniqueUnitID\": \"2011_BRP_CCB_S1016_Dep20_20110217_PU0213_FD02010_CCB20\", \"Transect\": null, \"DataAvail\": \"Acoustic\"}, {\"Unnamed: 0\": null, \"between_days\": \"2012-05-08T00:00:00\", \"c_uniqueUnitID\": \"2011_BRP_CCB_S1016_Dep20_20110217_PU0205_FD02018_CCB20\", \"Transect\": null, \"DataAvail\": \"Acoustic\"}, {\"Unnamed: 0\": null, \"between_days\": \"2012-05-09T00:00:00\", \"c_uniqueUnitID\": \"2011_BRP_CCB_S1016_Dep20_20110217_PU0206_FD02008_CCB20\", \"Transect\": null, \"DataAvail\": \"Acoustic\"}, {\"Unnamed: 0\": null, \"between_days\": \"2012-05-10T00:00:00\", \"c_uniqueUnitID\": \"2011_BRP_CCB_S1016_Dep20_20110217_PU0207_FD02006_CCB20\", \"Transect\": null, \"DataAvail\": \"Acoustic\"}, {\"Unnamed: 0\": null, \"between_days\": \"2012-05-11T00:00:00\", \"c_uniqueUnitID\": \"2011_BRP_CCB_S1016_Dep20_20110217_PU0208_FD02020_CCB20\", \"Transect\": null, \"DataAvail\": \"Acoustic\"}, {\"Unnamed: 0\": null, \"between_days\": \"2012-05-12T00:00:00\", \"c_uniqueUnitID\": \"2011_BRP_CCB_S1016_Dep20_20110217_PU0209_FD02000_CCB20\", \"Transect\": null, \"DataAvail\": \"Acoustic\"}, {\"Unnamed: 0\": null, \"between_days\": \"2012-05-13T00:00:00\", \"c_uniqueUnitID\": \"2011_BRP_CCB_S1016_Dep20_20110217_PU0211_FD02002_CCB20\", \"Transect\": null, \"DataAvail\": \"Acoustic\"}, {\"Unnamed: 0\": null, \"between_days\": \"2012-05-14T00:00:00\", \"c_uniqueUnitID\": \"2011_BRP_CCB_S1016_Dep20_20110217_PU0212_FD02016_CCB20\", \"Transect\": null, \"DataAvail\": \"Acoustic\"}, {\"Unnamed: 0\": null, \"between_days\": \"2012-05-15T00:00:00\", \"c_uniqueUnitID\": \"2011_BRP_CCB_S1016_Dep20_20110217_PU0213_FD02010_CCB20\", \"Transect\": null, \"DataAvail\": \"Acoustic\"}, {\"Unnamed: 0\": null, \"between_days\": \"2012-05-16T00:00:00\", \"c_uniqueUnitID\": \"2011_BRP_CCB_S1016_Dep20_20110217_PU0205_FD02018_CCB20\", \"Transect\": null, \"DataAvail\": \"Acoustic\"}, {\"Unnamed: 0\": null, \"between_days\": \"2012-05-17T00:00:00\", \"c_uniqueUnitID\": \"2011_BRP_CCB_S1016_Dep20_20110217_PU0206_FD02008_CCB20\", \"Transect\": null, \"DataAvail\": \"Acoustic\"}, {\"Unnamed: 0\": null, \"between_days\": \"2012-05-18T00:00:00\", \"c_uniqueUnitID\": \"2011_BRP_CCB_S1016_Dep20_20110217_PU0207_FD02006_CCB20\", \"Transect\": null, \"DataAvail\": \"Acoustic\"}, {\"Unnamed: 0\": null, \"between_days\": \"2012-05-19T00:00:00\", \"c_uniqueUnitID\": \"2011_BRP_CCB_S1016_Dep20_20110217_PU0208_FD02020_CCB20\", \"Transect\": null, \"DataAvail\": \"Acoustic\"}, {\"Unnamed: 0\": null, \"between_days\": \"2012-05-20T00:00:00\", \"c_uniqueUnitID\": \"2011_BRP_CCB_S1016_Dep20_20110217_PU0209_FD02000_CCB20\", \"Transect\": null, \"DataAvail\": \"Acoustic\"}, {\"Unnamed: 0\": null, \"between_days\": \"2012-05-21T00:00:00\", \"c_uniqueUnitID\": \"2011_BRP_CCB_S1016_Dep20_20110217_PU0211_FD02002_CCB20\", \"Transect\": null, \"DataAvail\": \"Acoustic\"}, {\"Unnamed: 0\": null, \"between_days\": \"2012-05-22T00:00:00\", \"c_uniqueUnitID\": \"2011_BRP_CCB_S1016_Dep20_20110217_PU0212_FD02016_CCB20\", \"Transect\": null, \"DataAvail\": \"Acoustic\"}, {\"Unnamed: 0\": null, \"between_days\": \"2012-05-23T00:00:00\", \"c_uniqueUnitID\": \"2011_BRP_CCB_S1016_Dep20_20110217_PU0213_FD02010_CCB20\", \"Transect\": null, \"DataAvail\": \"Acoustic\"}]}}, {\"mode\": \"vega-lite\"});\n",
       "</script>"
      ],
      "text/plain": [
       "alt.FacetChart(...)"
      ]
     },
     "execution_count": 7,
     "metadata": {},
     "output_type": "execute_result"
    }
   ],
   "source": [
    "# plot prey and acoustic data availability in Jan and Feb\n",
    "alt.Chart(CCB_fake).mark_rect().encode(\n",
    "    x = alt.X('between_days:T', timeUnit = 'monthdate'), # dif btwn year(btwn_days) and btwndays, timUnit\n",
    "    color = 'DataAvail:N'\n",
    ").properties(\n",
    "    width = 500,\n",
    "    height = 50\n",
    ").facet(\n",
    "    row = 'month(between_days)')\n",
    "\n"
   ]
  },
  {
   "cell_type": "code",
   "execution_count": 8,
   "metadata": {},
   "outputs": [
    {
     "data": {
      "text/html": [
       "\n",
       "<div id=\"altair-viz-36e692c8395f4affba7d287408b85459\"></div>\n",
       "<script type=\"text/javascript\">\n",
       "  (function(spec, embedOpt){\n",
       "    let outputDiv = document.currentScript.previousElementSibling;\n",
       "    if (outputDiv.id !== \"altair-viz-36e692c8395f4affba7d287408b85459\") {\n",
       "      outputDiv = document.getElementById(\"altair-viz-36e692c8395f4affba7d287408b85459\");\n",
       "    }\n",
       "    const paths = {\n",
       "      \"vega\": \"https://cdn.jsdelivr.net/npm//vega@5?noext\",\n",
       "      \"vega-lib\": \"https://cdn.jsdelivr.net/npm//vega-lib?noext\",\n",
       "      \"vega-lite\": \"https://cdn.jsdelivr.net/npm//vega-lite@4.8.1?noext\",\n",
       "      \"vega-embed\": \"https://cdn.jsdelivr.net/npm//vega-embed@6?noext\",\n",
       "    };\n",
       "\n",
       "    function loadScript(lib) {\n",
       "      return new Promise(function(resolve, reject) {\n",
       "        var s = document.createElement('script');\n",
       "        s.src = paths[lib];\n",
       "        s.async = true;\n",
       "        s.onload = () => resolve(paths[lib]);\n",
       "        s.onerror = () => reject(`Error loading script: ${paths[lib]}`);\n",
       "        document.getElementsByTagName(\"head\")[0].appendChild(s);\n",
       "      });\n",
       "    }\n",
       "\n",
       "    function showError(err) {\n",
       "      outputDiv.innerHTML = `<div class=\"error\" style=\"color:red;\">${err}</div>`;\n",
       "      throw err;\n",
       "    }\n",
       "\n",
       "    function displayChart(vegaEmbed) {\n",
       "      vegaEmbed(outputDiv, spec, embedOpt)\n",
       "        .catch(err => showError(`Javascript Error: ${err.message}<br>This usually means there's a typo in your chart specification. See the javascript console for the full traceback.`));\n",
       "    }\n",
       "\n",
       "    if(typeof define === \"function\" && define.amd) {\n",
       "      requirejs.config({paths});\n",
       "      require([\"vega-embed\"], displayChart, err => showError(`Error loading script: ${err.message}`));\n",
       "    } else if (typeof vegaEmbed === \"function\") {\n",
       "      displayChart(vegaEmbed);\n",
       "    } else {\n",
       "      loadScript(\"vega\")\n",
       "        .then(() => loadScript(\"vega-lite\"))\n",
       "        .then(() => loadScript(\"vega-embed\"))\n",
       "        .catch(showError)\n",
       "        .then(() => displayChart(vegaEmbed));\n",
       "    }\n",
       "  })({\"config\": {\"view\": {\"continuousWidth\": 400, \"continuousHeight\": 300}}, \"data\": {\"name\": \"data-668ca22b7d62a93f729130cf0f88c7a8\"}, \"facet\": {\"row\": {\"type\": \"temporal\", \"field\": \"between_days\", \"timeUnit\": \"year\"}}, \"spec\": {\"mark\": \"rect\", \"encoding\": {\"color\": {\"type\": \"nominal\", \"field\": \"DataAvail\"}, \"x\": {\"type\": \"temporal\", \"field\": \"between_days\", \"timeUnit\": \"monthdate\"}, \"y\": {\"type\": \"nominal\", \"field\": \"DataAvail\"}}}, \"$schema\": \"https://vega.github.io/schema/vega-lite/v4.8.1.json\", \"datasets\": {\"data-668ca22b7d62a93f729130cf0f88c7a8\": [{\"Unnamed: 0\": 0.0, \"between_days\": \"2011-01-01T00:00:00\", \"c_uniqueUnitID\": null, \"Transect\": null, \"DataAvail\": \"None\"}, {\"Unnamed: 0\": 1.0, \"between_days\": \"2011-01-02T00:00:00\", \"c_uniqueUnitID\": null, \"Transect\": null, \"DataAvail\": \"None\"}, {\"Unnamed: 0\": 2.0, \"between_days\": \"2011-01-03T00:00:00\", \"c_uniqueUnitID\": null, \"Transect\": 40.0, \"DataAvail\": \"Prey\"}, {\"Unnamed: 0\": 3.0, \"between_days\": \"2011-01-04T00:00:00\", \"c_uniqueUnitID\": null, \"Transect\": 40.0, \"DataAvail\": \"Prey\"}, {\"Unnamed: 0\": 4.0, \"between_days\": \"2011-01-05T00:00:00\", \"c_uniqueUnitID\": null, \"Transect\": 40.0, \"DataAvail\": \"Prey\"}, {\"Unnamed: 0\": 5.0, \"between_days\": \"2011-01-06T00:00:00\", \"c_uniqueUnitID\": null, \"Transect\": 40.0, \"DataAvail\": \"Prey\"}, {\"Unnamed: 0\": 6.0, \"between_days\": \"2011-01-07T00:00:00\", \"c_uniqueUnitID\": null, \"Transect\": 40.0, \"DataAvail\": \"Prey\"}, {\"Unnamed: 0\": 7.0, \"between_days\": \"2011-01-08T00:00:00\", \"c_uniqueUnitID\": null, \"Transect\": 40.0, \"DataAvail\": \"Prey\"}, {\"Unnamed: 0\": 8.0, \"between_days\": \"2011-01-09T00:00:00\", \"c_uniqueUnitID\": null, \"Transect\": 40.0, \"DataAvail\": \"Prey\"}, {\"Unnamed: 0\": 9.0, \"between_days\": \"2011-01-10T00:00:00\", \"c_uniqueUnitID\": null, \"Transect\": 40.0, \"DataAvail\": \"Prey\"}, {\"Unnamed: 0\": 10.0, \"between_days\": \"2011-01-11T00:00:00\", \"c_uniqueUnitID\": null, \"Transect\": 40.0, \"DataAvail\": \"Prey\"}, {\"Unnamed: 0\": 11.0, \"between_days\": \"2011-01-12T00:00:00\", \"c_uniqueUnitID\": null, \"Transect\": 40.0, \"DataAvail\": \"Prey\"}, {\"Unnamed: 0\": 12.0, \"between_days\": \"2011-01-13T00:00:00\", \"c_uniqueUnitID\": null, \"Transect\": 40.0, \"DataAvail\": \"Prey\"}, {\"Unnamed: 0\": 13.0, \"between_days\": \"2011-01-14T00:00:00\", \"c_uniqueUnitID\": null, \"Transect\": 40.0, \"DataAvail\": \"Prey\"}, {\"Unnamed: 0\": 14.0, \"between_days\": \"2011-01-15T00:00:00\", \"c_uniqueUnitID\": null, \"Transect\": 40.0, \"DataAvail\": \"Prey\"}, {\"Unnamed: 0\": 15.0, \"between_days\": \"2011-01-16T00:00:00\", \"c_uniqueUnitID\": null, \"Transect\": 40.0, \"DataAvail\": \"Prey\"}, {\"Unnamed: 0\": 16.0, \"between_days\": \"2011-01-17T00:00:00\", \"c_uniqueUnitID\": null, \"Transect\": 40.0, \"DataAvail\": \"Prey\"}, {\"Unnamed: 0\": 17.0, \"between_days\": \"2011-01-18T00:00:00\", \"c_uniqueUnitID\": null, \"Transect\": 40.0, \"DataAvail\": \"Prey\"}, {\"Unnamed: 0\": 18.0, \"between_days\": \"2011-01-19T00:00:00\", \"c_uniqueUnitID\": null, \"Transect\": 40.0, \"DataAvail\": \"Prey\"}, {\"Unnamed: 0\": 19.0, \"between_days\": \"2011-01-20T00:00:00\", \"c_uniqueUnitID\": null, \"Transect\": 40.0, \"DataAvail\": \"Prey\"}, {\"Unnamed: 0\": 20.0, \"between_days\": \"2011-01-21T00:00:00\", \"c_uniqueUnitID\": null, \"Transect\": 40.0, \"DataAvail\": \"Prey\"}, {\"Unnamed: 0\": 21.0, \"between_days\": \"2011-01-22T00:00:00\", \"c_uniqueUnitID\": null, \"Transect\": 40.0, \"DataAvail\": \"Prey\"}, {\"Unnamed: 0\": 22.0, \"between_days\": \"2011-01-23T00:00:00\", \"c_uniqueUnitID\": null, \"Transect\": 40.0, \"DataAvail\": \"Prey\"}, {\"Unnamed: 0\": 23.0, \"between_days\": \"2011-01-24T00:00:00\", \"c_uniqueUnitID\": null, \"Transect\": 40.0, \"DataAvail\": \"Prey\"}, {\"Unnamed: 0\": 24.0, \"between_days\": \"2011-01-25T00:00:00\", \"c_uniqueUnitID\": null, \"Transect\": 40.0, \"DataAvail\": \"Prey\"}, {\"Unnamed: 0\": 25.0, \"between_days\": \"2011-01-26T00:00:00\", \"c_uniqueUnitID\": null, \"Transect\": 40.0, \"DataAvail\": \"Prey\"}, {\"Unnamed: 0\": 26.0, \"between_days\": \"2011-01-27T00:00:00\", \"c_uniqueUnitID\": null, \"Transect\": 40.0, \"DataAvail\": \"Prey\"}, {\"Unnamed: 0\": 27.0, \"between_days\": \"2011-01-28T00:00:00\", \"c_uniqueUnitID\": null, \"Transect\": 40.0, \"DataAvail\": \"Prey\"}, {\"Unnamed: 0\": 28.0, \"between_days\": \"2011-01-29T00:00:00\", \"c_uniqueUnitID\": null, \"Transect\": 40.0, \"DataAvail\": \"Prey\"}, {\"Unnamed: 0\": 29.0, \"between_days\": \"2011-01-30T00:00:00\", \"c_uniqueUnitID\": null, \"Transect\": 40.0, \"DataAvail\": \"Prey\"}, {\"Unnamed: 0\": 30.0, \"between_days\": \"2011-01-31T00:00:00\", \"c_uniqueUnitID\": null, \"Transect\": 40.0, \"DataAvail\": \"Prey\"}, {\"Unnamed: 0\": 31.0, \"between_days\": \"2011-02-01T00:00:00\", \"c_uniqueUnitID\": null, \"Transect\": 40.0, \"DataAvail\": \"Prey\"}, {\"Unnamed: 0\": 32.0, \"between_days\": \"2011-02-02T00:00:00\", \"c_uniqueUnitID\": null, \"Transect\": 40.0, \"DataAvail\": \"Prey\"}, {\"Unnamed: 0\": 33.0, \"between_days\": \"2011-02-03T00:00:00\", \"c_uniqueUnitID\": null, \"Transect\": 40.0, \"DataAvail\": \"Prey\"}, {\"Unnamed: 0\": 34.0, \"between_days\": \"2011-02-04T00:00:00\", \"c_uniqueUnitID\": null, \"Transect\": null, \"DataAvail\": \"None\"}, {\"Unnamed: 0\": 35.0, \"between_days\": \"2011-02-05T00:00:00\", \"c_uniqueUnitID\": null, \"Transect\": null, \"DataAvail\": \"None\"}, {\"Unnamed: 0\": 36.0, \"between_days\": \"2011-02-06T00:00:00\", \"c_uniqueUnitID\": null, \"Transect\": null, \"DataAvail\": \"None\"}, {\"Unnamed: 0\": 37.0, \"between_days\": \"2011-02-07T00:00:00\", \"c_uniqueUnitID\": null, \"Transect\": null, \"DataAvail\": \"None\"}, {\"Unnamed: 0\": 38.0, \"between_days\": \"2011-02-08T00:00:00\", \"c_uniqueUnitID\": null, \"Transect\": null, \"DataAvail\": \"None\"}, {\"Unnamed: 0\": 39.0, \"between_days\": \"2011-02-09T00:00:00\", \"c_uniqueUnitID\": null, \"Transect\": null, \"DataAvail\": \"None\"}, {\"Unnamed: 0\": 40.0, \"between_days\": \"2011-02-10T00:00:00\", \"c_uniqueUnitID\": null, \"Transect\": null, \"DataAvail\": \"None\"}, {\"Unnamed: 0\": 41.0, \"between_days\": \"2011-02-11T00:00:00\", \"c_uniqueUnitID\": null, \"Transect\": null, \"DataAvail\": \"None\"}, {\"Unnamed: 0\": 42.0, \"between_days\": \"2011-02-12T00:00:00\", \"c_uniqueUnitID\": null, \"Transect\": null, \"DataAvail\": \"None\"}, {\"Unnamed: 0\": 43.0, \"between_days\": \"2011-02-13T00:00:00\", \"c_uniqueUnitID\": null, \"Transect\": null, \"DataAvail\": \"None\"}, {\"Unnamed: 0\": 44.0, \"between_days\": \"2011-02-14T00:00:00\", \"c_uniqueUnitID\": null, \"Transect\": null, \"DataAvail\": \"None\"}, {\"Unnamed: 0\": 45.0, \"between_days\": \"2011-02-15T00:00:00\", \"c_uniqueUnitID\": null, \"Transect\": null, \"DataAvail\": \"None\"}, {\"Unnamed: 0\": 46.0, \"between_days\": \"2011-02-16T00:00:00\", \"c_uniqueUnitID\": null, \"Transect\": null, \"DataAvail\": \"None\"}, {\"Unnamed: 0\": 47.0, \"between_days\": \"2011-02-17T00:00:00\", \"c_uniqueUnitID\": \"2011_BRP_CCB_S1016_Dep20_20110217_PU0205_FD02018_CCB20\", \"Transect\": 50.0, \"DataAvail\": \"Both\"}, {\"Unnamed: 0\": 48.0, \"between_days\": \"2011-02-17T00:00:00\", \"c_uniqueUnitID\": \"2011_BRP_CCB_S1016_Dep20_20110217_PU0206_FD02008_CCB20\", \"Transect\": 50.0, \"DataAvail\": \"Both\"}, {\"Unnamed: 0\": 49.0, \"between_days\": \"2011-02-17T00:00:00\", \"c_uniqueUnitID\": \"2011_BRP_CCB_S1016_Dep20_20110217_PU0207_FD02006_CCB20\", \"Transect\": 50.0, \"DataAvail\": \"Both\"}, {\"Unnamed: 0\": 50.0, \"between_days\": \"2011-02-17T00:00:00\", \"c_uniqueUnitID\": \"2011_BRP_CCB_S1016_Dep20_20110217_PU0208_FD02020_CCB20\", \"Transect\": 50.0, \"DataAvail\": \"Both\"}, {\"Unnamed: 0\": 51.0, \"between_days\": \"2011-02-17T00:00:00\", \"c_uniqueUnitID\": \"2011_BRP_CCB_S1016_Dep20_20110217_PU0209_FD02000_CCB20\", \"Transect\": 50.0, \"DataAvail\": \"Both\"}, {\"Unnamed: 0\": 52.0, \"between_days\": \"2011-02-17T00:00:00\", \"c_uniqueUnitID\": \"2011_BRP_CCB_S1016_Dep20_20110217_PU0211_FD02002_CCB20\", \"Transect\": 50.0, \"DataAvail\": \"Both\"}, {\"Unnamed: 0\": 53.0, \"between_days\": \"2011-02-17T00:00:00\", \"c_uniqueUnitID\": \"2011_BRP_CCB_S1016_Dep20_20110217_PU0212_FD02016_CCB20\", \"Transect\": 50.0, \"DataAvail\": \"Both\"}, {\"Unnamed: 0\": 54.0, \"between_days\": \"2011-02-17T00:00:00\", \"c_uniqueUnitID\": \"2011_BRP_CCB_S1016_Dep20_20110217_PU0213_FD02010_CCB20\", \"Transect\": 50.0, \"DataAvail\": \"Both\"}, {\"Unnamed: 0\": 55.0, \"between_days\": \"2011-02-18T00:00:00\", \"c_uniqueUnitID\": \"2011_BRP_CCB_S1016_Dep20_20110217_PU0205_FD02018_CCB20\", \"Transect\": 50.0, \"DataAvail\": \"Both\"}, {\"Unnamed: 0\": 56.0, \"between_days\": \"2011-02-18T00:00:00\", \"c_uniqueUnitID\": \"2011_BRP_CCB_S1016_Dep20_20110217_PU0206_FD02008_CCB20\", \"Transect\": 50.0, \"DataAvail\": \"Both\"}, {\"Unnamed: 0\": 57.0, \"between_days\": \"2011-02-18T00:00:00\", \"c_uniqueUnitID\": \"2011_BRP_CCB_S1016_Dep20_20110217_PU0207_FD02006_CCB20\", \"Transect\": 50.0, \"DataAvail\": \"Both\"}, {\"Unnamed: 0\": 58.0, \"between_days\": \"2011-02-18T00:00:00\", \"c_uniqueUnitID\": \"2011_BRP_CCB_S1016_Dep20_20110217_PU0208_FD02020_CCB20\", \"Transect\": 50.0, \"DataAvail\": \"Both\"}, {\"Unnamed: 0\": 59.0, \"between_days\": \"2011-02-18T00:00:00\", \"c_uniqueUnitID\": \"2011_BRP_CCB_S1016_Dep20_20110217_PU0209_FD02000_CCB20\", \"Transect\": 50.0, \"DataAvail\": \"Both\"}, {\"Unnamed: 0\": 60.0, \"between_days\": \"2011-02-18T00:00:00\", \"c_uniqueUnitID\": \"2011_BRP_CCB_S1016_Dep20_20110217_PU0211_FD02002_CCB20\", \"Transect\": 50.0, \"DataAvail\": \"Both\"}, {\"Unnamed: 0\": 61.0, \"between_days\": \"2011-02-18T00:00:00\", \"c_uniqueUnitID\": \"2011_BRP_CCB_S1016_Dep20_20110217_PU0212_FD02016_CCB20\", \"Transect\": 50.0, \"DataAvail\": \"Both\"}, {\"Unnamed: 0\": 62.0, \"between_days\": \"2011-02-18T00:00:00\", \"c_uniqueUnitID\": \"2011_BRP_CCB_S1016_Dep20_20110217_PU0213_FD02010_CCB20\", \"Transect\": 50.0, \"DataAvail\": \"Acoustic\"}, {\"Unnamed: 0\": 63.0, \"between_days\": \"2011-02-19T00:00:00\", \"c_uniqueUnitID\": \"2011_BRP_CCB_S1016_Dep20_20110217_PU0205_FD02018_CCB20\", \"Transect\": 50.0, \"DataAvail\": \"Acoustic\"}, {\"Unnamed: 0\": 64.0, \"between_days\": \"2011-02-19T00:00:00\", \"c_uniqueUnitID\": \"2011_BRP_CCB_S1016_Dep20_20110217_PU0206_FD02008_CCB20\", \"Transect\": 50.0, \"DataAvail\": \"Acoustic\"}, {\"Unnamed: 0\": 65.0, \"between_days\": \"2011-02-19T00:00:00\", \"c_uniqueUnitID\": \"2011_BRP_CCB_S1016_Dep20_20110217_PU0207_FD02006_CCB20\", \"Transect\": 50.0, \"DataAvail\": \"Acoustic\"}, {\"Unnamed: 0\": 66.0, \"between_days\": \"2011-02-19T00:00:00\", \"c_uniqueUnitID\": \"2011_BRP_CCB_S1016_Dep20_20110217_PU0208_FD02020_CCB20\", \"Transect\": 50.0, \"DataAvail\": \"Acoustic\"}, {\"Unnamed: 0\": 67.0, \"between_days\": \"2011-02-19T00:00:00\", \"c_uniqueUnitID\": \"2011_BRP_CCB_S1016_Dep20_20110217_PU0209_FD02000_CCB20\", \"Transect\": 50.0, \"DataAvail\": \"Acoustic\"}, {\"Unnamed: 0\": 68.0, \"between_days\": \"2011-02-19T00:00:00\", \"c_uniqueUnitID\": \"2011_BRP_CCB_S1016_Dep20_20110217_PU0211_FD02002_CCB20\", \"Transect\": 50.0, \"DataAvail\": \"Acoustic\"}, {\"Unnamed: 0\": 69.0, \"between_days\": \"2011-02-19T00:00:00\", \"c_uniqueUnitID\": \"2011_BRP_CCB_S1016_Dep20_20110217_PU0212_FD02016_CCB20\", \"Transect\": 50.0, \"DataAvail\": \"Acoustic\"}, {\"Unnamed: 0\": 70.0, \"between_days\": \"2011-02-19T00:00:00\", \"c_uniqueUnitID\": \"2011_BRP_CCB_S1016_Dep20_20110217_PU0213_FD02010_CCB20\", \"Transect\": 50.0, \"DataAvail\": \"Acoustic\"}, {\"Unnamed: 0\": 71.0, \"between_days\": \"2011-02-20T00:00:00\", \"c_uniqueUnitID\": \"2011_BRP_CCB_S1016_Dep20_20110217_PU0205_FD02018_CCB20\", \"Transect\": 50.0, \"DataAvail\": \"Acoustic\"}, {\"Unnamed: 0\": 72.0, \"between_days\": \"2011-02-20T00:00:00\", \"c_uniqueUnitID\": \"2011_BRP_CCB_S1016_Dep20_20110217_PU0206_FD02008_CCB20\", \"Transect\": 50.0, \"DataAvail\": \"Acoustic\"}, {\"Unnamed: 0\": 73.0, \"between_days\": \"2011-02-20T00:00:00\", \"c_uniqueUnitID\": \"2011_BRP_CCB_S1016_Dep20_20110217_PU0207_FD02006_CCB20\", \"Transect\": 50.0, \"DataAvail\": \"Acoustic\"}, {\"Unnamed: 0\": 74.0, \"between_days\": \"2011-02-20T00:00:00\", \"c_uniqueUnitID\": \"2011_BRP_CCB_S1016_Dep20_20110217_PU0208_FD02020_CCB20\", \"Transect\": 50.0, \"DataAvail\": \"Acoustic\"}, {\"Unnamed: 0\": 75.0, \"between_days\": \"2011-02-20T00:00:00\", \"c_uniqueUnitID\": \"2011_BRP_CCB_S1016_Dep20_20110217_PU0209_FD02000_CCB20\", \"Transect\": 50.0, \"DataAvail\": \"Acoustic\"}, {\"Unnamed: 0\": 76.0, \"between_days\": \"2011-02-20T00:00:00\", \"c_uniqueUnitID\": \"2011_BRP_CCB_S1016_Dep20_20110217_PU0211_FD02002_CCB20\", \"Transect\": 50.0, \"DataAvail\": \"Acoustic\"}, {\"Unnamed: 0\": 77.0, \"between_days\": \"2011-02-20T00:00:00\", \"c_uniqueUnitID\": \"2011_BRP_CCB_S1016_Dep20_20110217_PU0212_FD02016_CCB20\", \"Transect\": 50.0, \"DataAvail\": \"Acoustic\"}, {\"Unnamed: 0\": 78.0, \"between_days\": \"2011-02-20T00:00:00\", \"c_uniqueUnitID\": \"2011_BRP_CCB_S1016_Dep20_20110217_PU0213_FD02010_CCB20\", \"Transect\": 50.0, \"DataAvail\": \"Acoustic\"}, {\"Unnamed: 0\": 79.0, \"between_days\": \"2011-02-21T00:00:00\", \"c_uniqueUnitID\": \"2011_BRP_CCB_S1016_Dep20_20110217_PU0205_FD02018_CCB20\", \"Transect\": 50.0, \"DataAvail\": \"Acoustic\"}, {\"Unnamed: 0\": 80.0, \"between_days\": \"2011-02-21T00:00:00\", \"c_uniqueUnitID\": \"2011_BRP_CCB_S1016_Dep20_20110217_PU0206_FD02008_CCB20\", \"Transect\": 50.0, \"DataAvail\": \"Acoustic\"}, {\"Unnamed: 0\": 81.0, \"between_days\": \"2011-02-21T00:00:00\", \"c_uniqueUnitID\": \"2011_BRP_CCB_S1016_Dep20_20110217_PU0207_FD02006_CCB20\", \"Transect\": 50.0, \"DataAvail\": \"Acoustic\"}, {\"Unnamed: 0\": 82.0, \"between_days\": \"2011-02-21T00:00:00\", \"c_uniqueUnitID\": \"2011_BRP_CCB_S1016_Dep20_20110217_PU0208_FD02020_CCB20\", \"Transect\": 50.0, \"DataAvail\": \"Acoustic\"}, {\"Unnamed: 0\": 83.0, \"between_days\": \"2011-02-21T00:00:00\", \"c_uniqueUnitID\": \"2011_BRP_CCB_S1016_Dep20_20110217_PU0209_FD02000_CCB20\", \"Transect\": null, \"DataAvail\": \"Acoustic\"}, {\"Unnamed: 0\": 84.0, \"between_days\": \"2011-02-21T00:00:00\", \"c_uniqueUnitID\": \"2011_BRP_CCB_S1016_Dep20_20110217_PU0211_FD02002_CCB20\", \"Transect\": null, \"DataAvail\": \"Acoustic\"}, {\"Unnamed: 0\": 85.0, \"between_days\": \"2011-02-21T00:00:00\", \"c_uniqueUnitID\": \"2011_BRP_CCB_S1016_Dep20_20110217_PU0212_FD02016_CCB20\", \"Transect\": null, \"DataAvail\": \"Acoustic\"}, {\"Unnamed: 0\": 86.0, \"between_days\": \"2011-02-21T00:00:00\", \"c_uniqueUnitID\": \"2011_BRP_CCB_S1016_Dep20_20110217_PU0213_FD02010_CCB20\", \"Transect\": null, \"DataAvail\": \"Acoustic\"}, {\"Unnamed: 0\": 87.0, \"between_days\": \"2011-02-22T00:00:00\", \"c_uniqueUnitID\": \"2011_BRP_CCB_S1016_Dep20_20110217_PU0205_FD02018_CCB20\", \"Transect\": null, \"DataAvail\": \"Acoustic\"}, {\"Unnamed: 0\": 88.0, \"between_days\": \"2011-02-22T00:00:00\", \"c_uniqueUnitID\": \"2011_BRP_CCB_S1016_Dep20_20110217_PU0206_FD02008_CCB20\", \"Transect\": null, \"DataAvail\": \"Acoustic\"}, {\"Unnamed: 0\": 89.0, \"between_days\": \"2011-02-22T00:00:00\", \"c_uniqueUnitID\": \"2011_BRP_CCB_S1016_Dep20_20110217_PU0207_FD02006_CCB20\", \"Transect\": null, \"DataAvail\": \"Acoustic\"}, {\"Unnamed: 0\": 90.0, \"between_days\": \"2011-02-22T00:00:00\", \"c_uniqueUnitID\": \"2011_BRP_CCB_S1016_Dep20_20110217_PU0208_FD02020_CCB20\", \"Transect\": null, \"DataAvail\": \"Acoustic\"}, {\"Unnamed: 0\": 91.0, \"between_days\": \"2011-02-22T00:00:00\", \"c_uniqueUnitID\": \"2011_BRP_CCB_S1016_Dep20_20110217_PU0209_FD02000_CCB20\", \"Transect\": null, \"DataAvail\": \"Acoustic\"}, {\"Unnamed: 0\": 92.0, \"between_days\": \"2011-02-22T00:00:00\", \"c_uniqueUnitID\": \"2011_BRP_CCB_S1016_Dep20_20110217_PU0211_FD02002_CCB20\", \"Transect\": null, \"DataAvail\": \"Acoustic\"}, {\"Unnamed: 0\": 93.0, \"between_days\": \"2011-02-22T00:00:00\", \"c_uniqueUnitID\": \"2011_BRP_CCB_S1016_Dep20_20110217_PU0212_FD02016_CCB20\", \"Transect\": null, \"DataAvail\": \"Acoustic\"}, {\"Unnamed: 0\": 94.0, \"between_days\": \"2011-02-22T00:00:00\", \"c_uniqueUnitID\": \"2011_BRP_CCB_S1016_Dep20_20110217_PU0213_FD02010_CCB20\", \"Transect\": null, \"DataAvail\": \"Acoustic\"}, {\"Unnamed: 0\": 95.0, \"between_days\": \"2011-02-23T00:00:00\", \"c_uniqueUnitID\": \"2011_BRP_CCB_S1016_Dep20_20110217_PU0205_FD02018_CCB20\", \"Transect\": null, \"DataAvail\": \"Acoustic\"}, {\"Unnamed: 0\": 96.0, \"between_days\": \"2011-02-23T00:00:00\", \"c_uniqueUnitID\": \"2011_BRP_CCB_S1016_Dep20_20110217_PU0206_FD02008_CCB20\", \"Transect\": null, \"DataAvail\": \"Acoustic\"}, {\"Unnamed: 0\": 97.0, \"between_days\": \"2011-02-23T00:00:00\", \"c_uniqueUnitID\": \"2011_BRP_CCB_S1016_Dep20_20110217_PU0207_FD02006_CCB20\", \"Transect\": null, \"DataAvail\": \"Acoustic\"}, {\"Unnamed: 0\": 98.0, \"between_days\": \"2011-02-23T00:00:00\", \"c_uniqueUnitID\": \"2011_BRP_CCB_S1016_Dep20_20110217_PU0208_FD02020_CCB20\", \"Transect\": null, \"DataAvail\": \"Acoustic\"}, {\"Unnamed: 0\": 99.0, \"between_days\": \"2011-02-23T00:00:00\", \"c_uniqueUnitID\": \"2011_BRP_CCB_S1016_Dep20_20110217_PU0209_FD02000_CCB20\", \"Transect\": null, \"DataAvail\": \"Acoustic\"}, {\"Unnamed: 0\": 100.0, \"between_days\": \"2011-02-23T00:00:00\", \"c_uniqueUnitID\": \"2011_BRP_CCB_S1016_Dep20_20110217_PU0211_FD02002_CCB20\", \"Transect\": null, \"DataAvail\": \"Acoustic\"}, {\"Unnamed: 0\": 101.0, \"between_days\": \"2011-02-23T00:00:00\", \"c_uniqueUnitID\": \"2011_BRP_CCB_S1016_Dep20_20110217_PU0212_FD02016_CCB20\", \"Transect\": null, \"DataAvail\": \"Acoustic\"}, {\"Unnamed: 0\": 102.0, \"between_days\": \"2011-02-23T00:00:00\", \"c_uniqueUnitID\": \"2011_BRP_CCB_S1016_Dep20_20110217_PU0213_FD02010_CCB20\", \"Transect\": null, \"DataAvail\": \"Acoustic\"}, {\"Unnamed: 0\": 103.0, \"between_days\": \"2011-02-24T00:00:00\", \"c_uniqueUnitID\": \"2011_BRP_CCB_S1016_Dep20_20110217_PU0205_FD02018_CCB20\", \"Transect\": null, \"DataAvail\": \"Acoustic\"}, {\"Unnamed: 0\": 104.0, \"between_days\": \"2011-02-24T00:00:00\", \"c_uniqueUnitID\": \"2011_BRP_CCB_S1016_Dep20_20110217_PU0206_FD02008_CCB20\", \"Transect\": null, \"DataAvail\": \"Acoustic\"}, {\"Unnamed: 0\": 105.0, \"between_days\": \"2011-02-24T00:00:00\", \"c_uniqueUnitID\": \"2011_BRP_CCB_S1016_Dep20_20110217_PU0207_FD02006_CCB20\", \"Transect\": null, \"DataAvail\": \"Acoustic\"}, {\"Unnamed: 0\": 106.0, \"between_days\": \"2011-02-24T00:00:00\", \"c_uniqueUnitID\": \"2011_BRP_CCB_S1016_Dep20_20110217_PU0208_FD02020_CCB20\", \"Transect\": null, \"DataAvail\": \"Acoustic\"}, {\"Unnamed: 0\": 107.0, \"between_days\": \"2011-02-24T00:00:00\", \"c_uniqueUnitID\": \"2011_BRP_CCB_S1016_Dep20_20110217_PU0209_FD02000_CCB20\", \"Transect\": null, \"DataAvail\": \"Acoustic\"}, {\"Unnamed: 0\": 108.0, \"between_days\": \"2011-02-24T00:00:00\", \"c_uniqueUnitID\": \"2011_BRP_CCB_S1016_Dep20_20110217_PU0211_FD02002_CCB20\", \"Transect\": null, \"DataAvail\": \"Acoustic\"}, {\"Unnamed: 0\": 109.0, \"between_days\": \"2011-02-24T00:00:00\", \"c_uniqueUnitID\": \"2011_BRP_CCB_S1016_Dep20_20110217_PU0212_FD02016_CCB20\", \"Transect\": null, \"DataAvail\": \"Acoustic\"}, {\"Unnamed: 0\": 110.0, \"between_days\": \"2011-02-24T00:00:00\", \"c_uniqueUnitID\": \"2011_BRP_CCB_S1016_Dep20_20110217_PU0213_FD02010_CCB20\", \"Transect\": null, \"DataAvail\": \"Acoustic\"}, {\"Unnamed: 0\": 111.0, \"between_days\": \"2011-02-25T00:00:00\", \"c_uniqueUnitID\": \"2011_BRP_CCB_S1016_Dep20_20110217_PU0205_FD02018_CCB20\", \"Transect\": null, \"DataAvail\": \"Acoustic\"}, {\"Unnamed: 0\": 112.0, \"between_days\": \"2011-02-25T00:00:00\", \"c_uniqueUnitID\": \"2011_BRP_CCB_S1016_Dep20_20110217_PU0206_FD02008_CCB20\", \"Transect\": null, \"DataAvail\": \"Acoustic\"}, {\"Unnamed: 0\": 113.0, \"between_days\": \"2011-02-25T00:00:00\", \"c_uniqueUnitID\": \"2011_BRP_CCB_S1016_Dep20_20110217_PU0207_FD02006_CCB20\", \"Transect\": null, \"DataAvail\": \"Acoustic\"}, {\"Unnamed: 0\": 114.0, \"between_days\": \"2011-02-25T00:00:00\", \"c_uniqueUnitID\": \"2011_BRP_CCB_S1016_Dep20_20110217_PU0208_FD02020_CCB20\", \"Transect\": null, \"DataAvail\": \"Acoustic\"}, {\"Unnamed: 0\": 115.0, \"between_days\": \"2011-02-25T00:00:00\", \"c_uniqueUnitID\": \"2011_BRP_CCB_S1016_Dep20_20110217_PU0209_FD02000_CCB20\", \"Transect\": null, \"DataAvail\": \"Acoustic\"}, {\"Unnamed: 0\": 116.0, \"between_days\": \"2011-02-25T00:00:00\", \"c_uniqueUnitID\": \"2011_BRP_CCB_S1016_Dep20_20110217_PU0211_FD02002_CCB20\", \"Transect\": null, \"DataAvail\": \"Acoustic\"}, {\"Unnamed: 0\": 117.0, \"between_days\": \"2011-02-25T00:00:00\", \"c_uniqueUnitID\": \"2011_BRP_CCB_S1016_Dep20_20110217_PU0212_FD02016_CCB20\", \"Transect\": null, \"DataAvail\": \"Acoustic\"}, {\"Unnamed: 0\": 118.0, \"between_days\": \"2011-02-25T00:00:00\", \"c_uniqueUnitID\": \"2011_BRP_CCB_S1016_Dep20_20110217_PU0213_FD02010_CCB20\", \"Transect\": null, \"DataAvail\": \"Acoustic\"}, {\"Unnamed: 0\": 119.0, \"between_days\": \"2011-02-26T00:00:00\", \"c_uniqueUnitID\": \"2011_BRP_CCB_S1016_Dep20_20110217_PU0205_FD02018_CCB20\", \"Transect\": null, \"DataAvail\": \"Acoustic\"}, {\"Unnamed: 0\": 120.0, \"between_days\": \"2011-02-26T00:00:00\", \"c_uniqueUnitID\": \"2011_BRP_CCB_S1016_Dep20_20110217_PU0206_FD02008_CCB20\", \"Transect\": null, \"DataAvail\": \"Acoustic\"}, {\"Unnamed: 0\": 121.0, \"between_days\": \"2011-02-26T00:00:00\", \"c_uniqueUnitID\": \"2011_BRP_CCB_S1016_Dep20_20110217_PU0207_FD02006_CCB20\", \"Transect\": null, \"DataAvail\": \"Acoustic\"}, {\"Unnamed: 0\": 122.0, \"between_days\": \"2011-02-26T00:00:00\", \"c_uniqueUnitID\": \"2011_BRP_CCB_S1016_Dep20_20110217_PU0208_FD02020_CCB20\", \"Transect\": null, \"DataAvail\": \"Acoustic\"}, {\"Unnamed: 0\": 123.0, \"between_days\": \"2011-02-26T00:00:00\", \"c_uniqueUnitID\": \"2011_BRP_CCB_S1016_Dep20_20110217_PU0209_FD02000_CCB20\", \"Transect\": null, \"DataAvail\": \"Acoustic\"}, {\"Unnamed: 0\": 124.0, \"between_days\": \"2011-02-26T00:00:00\", \"c_uniqueUnitID\": \"2011_BRP_CCB_S1016_Dep20_20110217_PU0211_FD02002_CCB20\", \"Transect\": null, \"DataAvail\": \"Acoustic\"}, {\"Unnamed: 0\": 125.0, \"between_days\": \"2011-02-26T00:00:00\", \"c_uniqueUnitID\": \"2011_BRP_CCB_S1016_Dep20_20110217_PU0212_FD02016_CCB20\", \"Transect\": null, \"DataAvail\": \"Acoustic\"}, {\"Unnamed: 0\": 126.0, \"between_days\": \"2011-02-26T00:00:00\", \"c_uniqueUnitID\": \"2011_BRP_CCB_S1016_Dep20_20110217_PU0213_FD02010_CCB20\", \"Transect\": null, \"DataAvail\": \"Acoustic\"}, {\"Unnamed: 0\": 127.0, \"between_days\": \"2011-02-27T00:00:00\", \"c_uniqueUnitID\": \"2011_BRP_CCB_S1016_Dep20_20110217_PU0205_FD02018_CCB20\", \"Transect\": null, \"DataAvail\": \"Acoustic\"}, {\"Unnamed: 0\": 128.0, \"between_days\": \"2011-02-27T00:00:00\", \"c_uniqueUnitID\": \"2011_BRP_CCB_S1016_Dep20_20110217_PU0206_FD02008_CCB20\", \"Transect\": null, \"DataAvail\": \"Acoustic\"}, {\"Unnamed: 0\": 129.0, \"between_days\": \"2011-02-27T00:00:00\", \"c_uniqueUnitID\": \"2011_BRP_CCB_S1016_Dep20_20110217_PU0207_FD02006_CCB20\", \"Transect\": null, \"DataAvail\": \"Acoustic\"}, {\"Unnamed: 0\": 130.0, \"between_days\": \"2011-02-27T00:00:00\", \"c_uniqueUnitID\": \"2011_BRP_CCB_S1016_Dep20_20110217_PU0208_FD02020_CCB20\", \"Transect\": null, \"DataAvail\": \"Acoustic\"}, {\"Unnamed: 0\": 131.0, \"between_days\": \"2011-02-27T00:00:00\", \"c_uniqueUnitID\": \"2011_BRP_CCB_S1016_Dep20_20110217_PU0209_FD02000_CCB20\", \"Transect\": null, \"DataAvail\": \"Acoustic\"}, {\"Unnamed: 0\": 132.0, \"between_days\": \"2011-02-27T00:00:00\", \"c_uniqueUnitID\": \"2011_BRP_CCB_S1016_Dep20_20110217_PU0211_FD02002_CCB20\", \"Transect\": null, \"DataAvail\": \"Acoustic\"}, {\"Unnamed: 0\": 133.0, \"between_days\": \"2011-02-27T00:00:00\", \"c_uniqueUnitID\": \"2011_BRP_CCB_S1016_Dep20_20110217_PU0212_FD02016_CCB20\", \"Transect\": null, \"DataAvail\": \"Acoustic\"}, {\"Unnamed: 0\": 134.0, \"between_days\": \"2011-02-27T00:00:00\", \"c_uniqueUnitID\": \"2011_BRP_CCB_S1016_Dep20_20110217_PU0213_FD02010_CCB20\", \"Transect\": null, \"DataAvail\": \"Acoustic\"}, {\"Unnamed: 0\": 135.0, \"between_days\": \"2011-02-28T00:00:00\", \"c_uniqueUnitID\": \"2011_BRP_CCB_S1016_Dep20_20110217_PU0205_FD02018_CCB20\", \"Transect\": null, \"DataAvail\": \"Acoustic\"}, {\"Unnamed: 0\": 136.0, \"between_days\": \"2011-02-28T00:00:00\", \"c_uniqueUnitID\": \"2011_BRP_CCB_S1016_Dep20_20110217_PU0206_FD02008_CCB20\", \"Transect\": null, \"DataAvail\": \"Acoustic\"}, {\"Unnamed: 0\": 137.0, \"between_days\": \"2011-02-28T00:00:00\", \"c_uniqueUnitID\": \"2011_BRP_CCB_S1016_Dep20_20110217_PU0207_FD02006_CCB20\", \"Transect\": null, \"DataAvail\": \"Acoustic\"}, {\"Unnamed: 0\": 138.0, \"between_days\": \"2011-02-28T00:00:00\", \"c_uniqueUnitID\": \"2011_BRP_CCB_S1016_Dep20_20110217_PU0208_FD02020_CCB20\", \"Transect\": null, \"DataAvail\": \"Acoustic\"}, {\"Unnamed: 0\": 139.0, \"between_days\": \"2011-02-28T00:00:00\", \"c_uniqueUnitID\": \"2011_BRP_CCB_S1016_Dep20_20110217_PU0209_FD02000_CCB20\", \"Transect\": null, \"DataAvail\": \"Acoustic\"}, {\"Unnamed: 0\": 140.0, \"between_days\": \"2011-02-28T00:00:00\", \"c_uniqueUnitID\": \"2011_BRP_CCB_S1016_Dep20_20110217_PU0211_FD02002_CCB20\", \"Transect\": null, \"DataAvail\": \"Acoustic\"}, {\"Unnamed: 0\": 141.0, \"between_days\": \"2011-02-28T00:00:00\", \"c_uniqueUnitID\": \"2011_BRP_CCB_S1016_Dep20_20110217_PU0212_FD02016_CCB20\", \"Transect\": null, \"DataAvail\": \"Acoustic\"}, {\"Unnamed: 0\": 142.0, \"between_days\": \"2011-02-28T00:00:00\", \"c_uniqueUnitID\": \"2011_BRP_CCB_S1016_Dep20_20110217_PU0213_FD02010_CCB20\", \"Transect\": null, \"DataAvail\": \"Acoustic\"}, {\"Unnamed: 0\": null, \"between_days\": \"2012-01-02T00:00:00\", \"c_uniqueUnitID\": null, \"Transect\": null, \"DataAvail\": \"None\"}, {\"Unnamed: 0\": null, \"between_days\": \"2012-01-03T00:00:00\", \"c_uniqueUnitID\": null, \"Transect\": null, \"DataAvail\": \"None\"}, {\"Unnamed: 0\": null, \"between_days\": \"2012-01-04T00:00:00\", \"c_uniqueUnitID\": null, \"Transect\": 40.0, \"DataAvail\": \"Prey\"}, {\"Unnamed: 0\": null, \"between_days\": \"2012-01-05T00:00:00\", \"c_uniqueUnitID\": null, \"Transect\": 40.0, \"DataAvail\": \"Prey\"}, {\"Unnamed: 0\": null, \"between_days\": \"2012-01-06T00:00:00\", \"c_uniqueUnitID\": null, \"Transect\": 40.0, \"DataAvail\": \"Prey\"}, {\"Unnamed: 0\": null, \"between_days\": \"2012-01-07T00:00:00\", \"c_uniqueUnitID\": null, \"Transect\": 40.0, \"DataAvail\": \"Prey\"}, {\"Unnamed: 0\": null, \"between_days\": \"2012-01-08T00:00:00\", \"c_uniqueUnitID\": null, \"Transect\": 40.0, \"DataAvail\": \"Prey\"}, {\"Unnamed: 0\": null, \"between_days\": \"2012-01-09T00:00:00\", \"c_uniqueUnitID\": null, \"Transect\": 40.0, \"DataAvail\": \"Prey\"}, {\"Unnamed: 0\": null, \"between_days\": \"2012-01-10T00:00:00\", \"c_uniqueUnitID\": null, \"Transect\": 40.0, \"DataAvail\": \"Prey\"}, {\"Unnamed: 0\": null, \"between_days\": \"2012-01-11T00:00:00\", \"c_uniqueUnitID\": null, \"Transect\": 40.0, \"DataAvail\": \"Prey\"}, {\"Unnamed: 0\": null, \"between_days\": \"2012-01-12T00:00:00\", \"c_uniqueUnitID\": null, \"Transect\": 40.0, \"DataAvail\": \"Prey\"}, {\"Unnamed: 0\": null, \"between_days\": \"2012-01-13T00:00:00\", \"c_uniqueUnitID\": null, \"Transect\": 40.0, \"DataAvail\": \"Prey\"}, {\"Unnamed: 0\": null, \"between_days\": \"2012-01-14T00:00:00\", \"c_uniqueUnitID\": null, \"Transect\": 40.0, \"DataAvail\": \"Prey\"}, {\"Unnamed: 0\": null, \"between_days\": \"2012-01-15T00:00:00\", \"c_uniqueUnitID\": null, \"Transect\": 40.0, \"DataAvail\": \"Prey\"}, {\"Unnamed: 0\": null, \"between_days\": \"2012-01-16T00:00:00\", \"c_uniqueUnitID\": null, \"Transect\": 40.0, \"DataAvail\": \"Prey\"}, {\"Unnamed: 0\": null, \"between_days\": \"2012-01-17T00:00:00\", \"c_uniqueUnitID\": null, \"Transect\": 40.0, \"DataAvail\": \"Prey\"}, {\"Unnamed: 0\": null, \"between_days\": \"2012-01-18T00:00:00\", \"c_uniqueUnitID\": null, \"Transect\": 40.0, \"DataAvail\": \"Prey\"}, {\"Unnamed: 0\": null, \"between_days\": \"2012-01-19T00:00:00\", \"c_uniqueUnitID\": null, \"Transect\": 40.0, \"DataAvail\": \"Prey\"}, {\"Unnamed: 0\": null, \"between_days\": \"2012-01-20T00:00:00\", \"c_uniqueUnitID\": null, \"Transect\": 40.0, \"DataAvail\": \"Prey\"}, {\"Unnamed: 0\": null, \"between_days\": \"2012-01-21T00:00:00\", \"c_uniqueUnitID\": null, \"Transect\": 40.0, \"DataAvail\": \"Prey\"}, {\"Unnamed: 0\": null, \"between_days\": \"2012-01-22T00:00:00\", \"c_uniqueUnitID\": null, \"Transect\": 40.0, \"DataAvail\": \"Prey\"}, {\"Unnamed: 0\": null, \"between_days\": \"2012-01-23T00:00:00\", \"c_uniqueUnitID\": null, \"Transect\": 40.0, \"DataAvail\": \"Prey\"}, {\"Unnamed: 0\": null, \"between_days\": \"2012-01-24T00:00:00\", \"c_uniqueUnitID\": null, \"Transect\": 40.0, \"DataAvail\": \"Prey\"}, {\"Unnamed: 0\": null, \"between_days\": \"2012-01-25T00:00:00\", \"c_uniqueUnitID\": null, \"Transect\": 40.0, \"DataAvail\": \"Prey\"}, {\"Unnamed: 0\": null, \"between_days\": \"2012-01-26T00:00:00\", \"c_uniqueUnitID\": null, \"Transect\": 40.0, \"DataAvail\": \"Prey\"}, {\"Unnamed: 0\": null, \"between_days\": \"2012-01-27T00:00:00\", \"c_uniqueUnitID\": null, \"Transect\": 40.0, \"DataAvail\": \"Prey\"}, {\"Unnamed: 0\": null, \"between_days\": \"2012-01-28T00:00:00\", \"c_uniqueUnitID\": null, \"Transect\": 40.0, \"DataAvail\": \"Prey\"}, {\"Unnamed: 0\": null, \"between_days\": \"2012-01-29T00:00:00\", \"c_uniqueUnitID\": null, \"Transect\": 40.0, \"DataAvail\": \"Prey\"}, {\"Unnamed: 0\": null, \"between_days\": \"2012-01-30T00:00:00\", \"c_uniqueUnitID\": null, \"Transect\": 40.0, \"DataAvail\": \"Prey\"}, {\"Unnamed: 0\": null, \"between_days\": \"2012-01-31T00:00:00\", \"c_uniqueUnitID\": null, \"Transect\": 40.0, \"DataAvail\": \"Prey\"}, {\"Unnamed: 0\": null, \"between_days\": \"2012-02-01T00:00:00\", \"c_uniqueUnitID\": null, \"Transect\": 40.0, \"DataAvail\": \"Prey\"}, {\"Unnamed: 0\": null, \"between_days\": \"2012-02-02T00:00:00\", \"c_uniqueUnitID\": null, \"Transect\": 40.0, \"DataAvail\": \"Prey\"}, {\"Unnamed: 0\": null, \"between_days\": \"2012-02-03T00:00:00\", \"c_uniqueUnitID\": null, \"Transect\": 40.0, \"DataAvail\": \"Prey\"}, {\"Unnamed: 0\": null, \"between_days\": \"2012-02-04T00:00:00\", \"c_uniqueUnitID\": null, \"Transect\": 40.0, \"DataAvail\": \"Prey\"}, {\"Unnamed: 0\": null, \"between_days\": \"2012-02-05T00:00:00\", \"c_uniqueUnitID\": null, \"Transect\": null, \"DataAvail\": \"None\"}, {\"Unnamed: 0\": null, \"between_days\": \"2012-02-06T00:00:00\", \"c_uniqueUnitID\": null, \"Transect\": null, \"DataAvail\": \"None\"}, {\"Unnamed: 0\": null, \"between_days\": \"2012-02-07T00:00:00\", \"c_uniqueUnitID\": null, \"Transect\": null, \"DataAvail\": \"None\"}, {\"Unnamed: 0\": null, \"between_days\": \"2012-02-08T00:00:00\", \"c_uniqueUnitID\": null, \"Transect\": null, \"DataAvail\": \"None\"}, {\"Unnamed: 0\": null, \"between_days\": \"2012-02-09T00:00:00\", \"c_uniqueUnitID\": null, \"Transect\": null, \"DataAvail\": \"None\"}, {\"Unnamed: 0\": null, \"between_days\": \"2012-02-10T00:00:00\", \"c_uniqueUnitID\": null, \"Transect\": null, \"DataAvail\": \"None\"}, {\"Unnamed: 0\": null, \"between_days\": \"2012-02-11T00:00:00\", \"c_uniqueUnitID\": null, \"Transect\": null, \"DataAvail\": \"None\"}, {\"Unnamed: 0\": null, \"between_days\": \"2012-02-12T00:00:00\", \"c_uniqueUnitID\": null, \"Transect\": null, \"DataAvail\": \"None\"}, {\"Unnamed: 0\": null, \"between_days\": \"2012-02-13T00:00:00\", \"c_uniqueUnitID\": null, \"Transect\": null, \"DataAvail\": \"None\"}, {\"Unnamed: 0\": null, \"between_days\": \"2012-02-14T00:00:00\", \"c_uniqueUnitID\": null, \"Transect\": null, \"DataAvail\": \"None\"}, {\"Unnamed: 0\": null, \"between_days\": \"2012-02-15T00:00:00\", \"c_uniqueUnitID\": null, \"Transect\": null, \"DataAvail\": \"None\"}, {\"Unnamed: 0\": null, \"between_days\": \"2012-02-16T00:00:00\", \"c_uniqueUnitID\": null, \"Transect\": null, \"DataAvail\": \"None\"}, {\"Unnamed: 0\": null, \"between_days\": \"2012-02-17T00:00:00\", \"c_uniqueUnitID\": null, \"Transect\": null, \"DataAvail\": \"None\"}, {\"Unnamed: 0\": null, \"between_days\": \"2012-02-18T00:00:00\", \"c_uniqueUnitID\": \"2011_BRP_CCB_S1016_Dep20_20110217_PU0205_FD02018_CCB20\", \"Transect\": 50.0, \"DataAvail\": \"Both\"}, {\"Unnamed: 0\": null, \"between_days\": \"2012-02-19T00:00:00\", \"c_uniqueUnitID\": \"2011_BRP_CCB_S1016_Dep20_20110217_PU0206_FD02008_CCB20\", \"Transect\": 50.0, \"DataAvail\": \"Both\"}, {\"Unnamed: 0\": null, \"between_days\": \"2012-02-20T00:00:00\", \"c_uniqueUnitID\": \"2011_BRP_CCB_S1016_Dep20_20110217_PU0207_FD02006_CCB20\", \"Transect\": 50.0, \"DataAvail\": \"Both\"}, {\"Unnamed: 0\": null, \"between_days\": \"2012-02-21T00:00:00\", \"c_uniqueUnitID\": \"2011_BRP_CCB_S1016_Dep20_20110217_PU0208_FD02020_CCB20\", \"Transect\": 50.0, \"DataAvail\": \"Both\"}, {\"Unnamed: 0\": null, \"between_days\": \"2012-02-22T00:00:00\", \"c_uniqueUnitID\": \"2011_BRP_CCB_S1016_Dep20_20110217_PU0209_FD02000_CCB20\", \"Transect\": 50.0, \"DataAvail\": \"Both\"}, {\"Unnamed: 0\": null, \"between_days\": \"2012-02-23T00:00:00\", \"c_uniqueUnitID\": \"2011_BRP_CCB_S1016_Dep20_20110217_PU0211_FD02002_CCB20\", \"Transect\": 50.0, \"DataAvail\": \"Both\"}, {\"Unnamed: 0\": null, \"between_days\": \"2012-02-24T00:00:00\", \"c_uniqueUnitID\": \"2011_BRP_CCB_S1016_Dep20_20110217_PU0212_FD02016_CCB20\", \"Transect\": 50.0, \"DataAvail\": \"Both\"}, {\"Unnamed: 0\": null, \"between_days\": \"2012-02-25T00:00:00\", \"c_uniqueUnitID\": \"2011_BRP_CCB_S1016_Dep20_20110217_PU0213_FD02010_CCB20\", \"Transect\": 50.0, \"DataAvail\": \"Both\"}, {\"Unnamed: 0\": null, \"between_days\": \"2012-02-26T00:00:00\", \"c_uniqueUnitID\": \"2011_BRP_CCB_S1016_Dep20_20110217_PU0205_FD02018_CCB20\", \"Transect\": 50.0, \"DataAvail\": \"Both\"}, {\"Unnamed: 0\": null, \"between_days\": \"2012-02-27T00:00:00\", \"c_uniqueUnitID\": \"2011_BRP_CCB_S1016_Dep20_20110217_PU0206_FD02008_CCB20\", \"Transect\": 50.0, \"DataAvail\": \"Both\"}, {\"Unnamed: 0\": null, \"between_days\": \"2012-02-28T00:00:00\", \"c_uniqueUnitID\": \"2011_BRP_CCB_S1016_Dep20_20110217_PU0207_FD02006_CCB20\", \"Transect\": 50.0, \"DataAvail\": \"Both\"}, {\"Unnamed: 0\": null, \"between_days\": \"2012-02-29T00:00:00\", \"c_uniqueUnitID\": \"2011_BRP_CCB_S1016_Dep20_20110217_PU0208_FD02020_CCB20\", \"Transect\": 50.0, \"DataAvail\": \"Both\"}, {\"Unnamed: 0\": null, \"between_days\": \"2012-03-01T00:00:00\", \"c_uniqueUnitID\": \"2011_BRP_CCB_S1016_Dep20_20110217_PU0209_FD02000_CCB20\", \"Transect\": 50.0, \"DataAvail\": \"Both\"}, {\"Unnamed: 0\": null, \"between_days\": \"2012-03-02T00:00:00\", \"c_uniqueUnitID\": \"2011_BRP_CCB_S1016_Dep20_20110217_PU0211_FD02002_CCB20\", \"Transect\": 50.0, \"DataAvail\": \"Both\"}, {\"Unnamed: 0\": null, \"between_days\": \"2012-03-03T00:00:00\", \"c_uniqueUnitID\": \"2011_BRP_CCB_S1016_Dep20_20110217_PU0212_FD02016_CCB20\", \"Transect\": 50.0, \"DataAvail\": \"Both\"}, {\"Unnamed: 0\": null, \"between_days\": \"2012-03-04T00:00:00\", \"c_uniqueUnitID\": \"2011_BRP_CCB_S1016_Dep20_20110217_PU0213_FD02010_CCB20\", \"Transect\": 50.0, \"DataAvail\": \"Acoustic\"}, {\"Unnamed: 0\": null, \"between_days\": \"2012-03-05T00:00:00\", \"c_uniqueUnitID\": \"2011_BRP_CCB_S1016_Dep20_20110217_PU0205_FD02018_CCB20\", \"Transect\": 50.0, \"DataAvail\": \"Acoustic\"}, {\"Unnamed: 0\": null, \"between_days\": \"2012-03-06T00:00:00\", \"c_uniqueUnitID\": \"2011_BRP_CCB_S1016_Dep20_20110217_PU0206_FD02008_CCB20\", \"Transect\": 50.0, \"DataAvail\": \"Acoustic\"}, {\"Unnamed: 0\": null, \"between_days\": \"2012-03-07T00:00:00\", \"c_uniqueUnitID\": \"2011_BRP_CCB_S1016_Dep20_20110217_PU0207_FD02006_CCB20\", \"Transect\": 50.0, \"DataAvail\": \"Acoustic\"}, {\"Unnamed: 0\": null, \"between_days\": \"2012-03-08T00:00:00\", \"c_uniqueUnitID\": \"2011_BRP_CCB_S1016_Dep20_20110217_PU0208_FD02020_CCB20\", \"Transect\": 50.0, \"DataAvail\": \"Acoustic\"}, {\"Unnamed: 0\": null, \"between_days\": \"2012-03-09T00:00:00\", \"c_uniqueUnitID\": \"2011_BRP_CCB_S1016_Dep20_20110217_PU0209_FD02000_CCB20\", \"Transect\": 50.0, \"DataAvail\": \"Acoustic\"}, {\"Unnamed: 0\": null, \"between_days\": \"2012-03-10T00:00:00\", \"c_uniqueUnitID\": \"2011_BRP_CCB_S1016_Dep20_20110217_PU0211_FD02002_CCB20\", \"Transect\": 50.0, \"DataAvail\": \"Acoustic\"}, {\"Unnamed: 0\": null, \"between_days\": \"2012-03-11T00:00:00\", \"c_uniqueUnitID\": \"2011_BRP_CCB_S1016_Dep20_20110217_PU0212_FD02016_CCB20\", \"Transect\": 50.0, \"DataAvail\": \"Acoustic\"}, {\"Unnamed: 0\": null, \"between_days\": \"2012-03-12T00:00:00\", \"c_uniqueUnitID\": \"2011_BRP_CCB_S1016_Dep20_20110217_PU0213_FD02010_CCB20\", \"Transect\": 50.0, \"DataAvail\": \"Acoustic\"}, {\"Unnamed: 0\": null, \"between_days\": \"2012-03-13T00:00:00\", \"c_uniqueUnitID\": \"2011_BRP_CCB_S1016_Dep20_20110217_PU0205_FD02018_CCB20\", \"Transect\": 50.0, \"DataAvail\": \"Acoustic\"}, {\"Unnamed: 0\": null, \"between_days\": \"2012-03-14T00:00:00\", \"c_uniqueUnitID\": \"2011_BRP_CCB_S1016_Dep20_20110217_PU0206_FD02008_CCB20\", \"Transect\": 50.0, \"DataAvail\": \"Acoustic\"}, {\"Unnamed: 0\": null, \"between_days\": \"2012-03-15T00:00:00\", \"c_uniqueUnitID\": \"2011_BRP_CCB_S1016_Dep20_20110217_PU0207_FD02006_CCB20\", \"Transect\": 50.0, \"DataAvail\": \"Acoustic\"}, {\"Unnamed: 0\": null, \"between_days\": \"2012-03-16T00:00:00\", \"c_uniqueUnitID\": \"2011_BRP_CCB_S1016_Dep20_20110217_PU0208_FD02020_CCB20\", \"Transect\": 50.0, \"DataAvail\": \"Acoustic\"}, {\"Unnamed: 0\": null, \"between_days\": \"2012-03-17T00:00:00\", \"c_uniqueUnitID\": \"2011_BRP_CCB_S1016_Dep20_20110217_PU0209_FD02000_CCB20\", \"Transect\": 50.0, \"DataAvail\": \"Acoustic\"}, {\"Unnamed: 0\": null, \"between_days\": \"2012-03-18T00:00:00\", \"c_uniqueUnitID\": \"2011_BRP_CCB_S1016_Dep20_20110217_PU0211_FD02002_CCB20\", \"Transect\": 50.0, \"DataAvail\": \"Acoustic\"}, {\"Unnamed: 0\": null, \"between_days\": \"2012-03-19T00:00:00\", \"c_uniqueUnitID\": \"2011_BRP_CCB_S1016_Dep20_20110217_PU0212_FD02016_CCB20\", \"Transect\": 50.0, \"DataAvail\": \"Acoustic\"}, {\"Unnamed: 0\": null, \"between_days\": \"2012-03-20T00:00:00\", \"c_uniqueUnitID\": \"2011_BRP_CCB_S1016_Dep20_20110217_PU0213_FD02010_CCB20\", \"Transect\": 50.0, \"DataAvail\": \"Acoustic\"}, {\"Unnamed: 0\": null, \"between_days\": \"2012-03-21T00:00:00\", \"c_uniqueUnitID\": \"2011_BRP_CCB_S1016_Dep20_20110217_PU0205_FD02018_CCB20\", \"Transect\": 50.0, \"DataAvail\": \"Acoustic\"}, {\"Unnamed: 0\": null, \"between_days\": \"2012-03-22T00:00:00\", \"c_uniqueUnitID\": \"2011_BRP_CCB_S1016_Dep20_20110217_PU0206_FD02008_CCB20\", \"Transect\": 50.0, \"DataAvail\": \"Acoustic\"}, {\"Unnamed: 0\": null, \"between_days\": \"2012-03-23T00:00:00\", \"c_uniqueUnitID\": \"2011_BRP_CCB_S1016_Dep20_20110217_PU0207_FD02006_CCB20\", \"Transect\": 50.0, \"DataAvail\": \"Acoustic\"}, {\"Unnamed: 0\": null, \"between_days\": \"2012-03-24T00:00:00\", \"c_uniqueUnitID\": \"2011_BRP_CCB_S1016_Dep20_20110217_PU0208_FD02020_CCB20\", \"Transect\": 50.0, \"DataAvail\": \"Acoustic\"}, {\"Unnamed: 0\": null, \"between_days\": \"2012-03-25T00:00:00\", \"c_uniqueUnitID\": \"2011_BRP_CCB_S1016_Dep20_20110217_PU0209_FD02000_CCB20\", \"Transect\": null, \"DataAvail\": \"Acoustic\"}, {\"Unnamed: 0\": null, \"between_days\": \"2012-03-26T00:00:00\", \"c_uniqueUnitID\": \"2011_BRP_CCB_S1016_Dep20_20110217_PU0211_FD02002_CCB20\", \"Transect\": null, \"DataAvail\": \"Acoustic\"}, {\"Unnamed: 0\": null, \"between_days\": \"2012-03-27T00:00:00\", \"c_uniqueUnitID\": \"2011_BRP_CCB_S1016_Dep20_20110217_PU0212_FD02016_CCB20\", \"Transect\": null, \"DataAvail\": \"Acoustic\"}, {\"Unnamed: 0\": null, \"between_days\": \"2012-03-28T00:00:00\", \"c_uniqueUnitID\": \"2011_BRP_CCB_S1016_Dep20_20110217_PU0213_FD02010_CCB20\", \"Transect\": null, \"DataAvail\": \"Acoustic\"}, {\"Unnamed: 0\": null, \"between_days\": \"2012-03-29T00:00:00\", \"c_uniqueUnitID\": \"2011_BRP_CCB_S1016_Dep20_20110217_PU0205_FD02018_CCB20\", \"Transect\": null, \"DataAvail\": \"Acoustic\"}, {\"Unnamed: 0\": null, \"between_days\": \"2012-03-30T00:00:00\", \"c_uniqueUnitID\": \"2011_BRP_CCB_S1016_Dep20_20110217_PU0206_FD02008_CCB20\", \"Transect\": null, \"DataAvail\": \"Acoustic\"}, {\"Unnamed: 0\": null, \"between_days\": \"2012-03-31T00:00:00\", \"c_uniqueUnitID\": \"2011_BRP_CCB_S1016_Dep20_20110217_PU0207_FD02006_CCB20\", \"Transect\": null, \"DataAvail\": \"Acoustic\"}, {\"Unnamed: 0\": null, \"between_days\": \"2012-04-01T00:00:00\", \"c_uniqueUnitID\": \"2011_BRP_CCB_S1016_Dep20_20110217_PU0208_FD02020_CCB20\", \"Transect\": null, \"DataAvail\": \"Acoustic\"}, {\"Unnamed: 0\": null, \"between_days\": \"2012-04-02T00:00:00\", \"c_uniqueUnitID\": \"2011_BRP_CCB_S1016_Dep20_20110217_PU0209_FD02000_CCB20\", \"Transect\": null, \"DataAvail\": \"Acoustic\"}, {\"Unnamed: 0\": null, \"between_days\": \"2012-04-03T00:00:00\", \"c_uniqueUnitID\": \"2011_BRP_CCB_S1016_Dep20_20110217_PU0211_FD02002_CCB20\", \"Transect\": null, \"DataAvail\": \"Acoustic\"}, {\"Unnamed: 0\": null, \"between_days\": \"2012-04-04T00:00:00\", \"c_uniqueUnitID\": \"2011_BRP_CCB_S1016_Dep20_20110217_PU0212_FD02016_CCB20\", \"Transect\": null, \"DataAvail\": \"Acoustic\"}, {\"Unnamed: 0\": null, \"between_days\": \"2012-04-05T00:00:00\", \"c_uniqueUnitID\": \"2011_BRP_CCB_S1016_Dep20_20110217_PU0213_FD02010_CCB20\", \"Transect\": null, \"DataAvail\": \"Acoustic\"}, {\"Unnamed: 0\": null, \"between_days\": \"2012-04-06T00:00:00\", \"c_uniqueUnitID\": \"2011_BRP_CCB_S1016_Dep20_20110217_PU0205_FD02018_CCB20\", \"Transect\": null, \"DataAvail\": \"Acoustic\"}, {\"Unnamed: 0\": null, \"between_days\": \"2012-04-07T00:00:00\", \"c_uniqueUnitID\": \"2011_BRP_CCB_S1016_Dep20_20110217_PU0206_FD02008_CCB20\", \"Transect\": null, \"DataAvail\": \"Acoustic\"}, {\"Unnamed: 0\": null, \"between_days\": \"2012-04-08T00:00:00\", \"c_uniqueUnitID\": \"2011_BRP_CCB_S1016_Dep20_20110217_PU0207_FD02006_CCB20\", \"Transect\": null, \"DataAvail\": \"Acoustic\"}, {\"Unnamed: 0\": null, \"between_days\": \"2012-04-09T00:00:00\", \"c_uniqueUnitID\": \"2011_BRP_CCB_S1016_Dep20_20110217_PU0208_FD02020_CCB20\", \"Transect\": null, \"DataAvail\": \"Acoustic\"}, {\"Unnamed: 0\": null, \"between_days\": \"2012-04-10T00:00:00\", \"c_uniqueUnitID\": \"2011_BRP_CCB_S1016_Dep20_20110217_PU0209_FD02000_CCB20\", \"Transect\": null, \"DataAvail\": \"Acoustic\"}, {\"Unnamed: 0\": null, \"between_days\": \"2012-04-11T00:00:00\", \"c_uniqueUnitID\": \"2011_BRP_CCB_S1016_Dep20_20110217_PU0211_FD02002_CCB20\", \"Transect\": null, \"DataAvail\": \"Acoustic\"}, {\"Unnamed: 0\": null, \"between_days\": \"2012-04-12T00:00:00\", \"c_uniqueUnitID\": \"2011_BRP_CCB_S1016_Dep20_20110217_PU0212_FD02016_CCB20\", \"Transect\": null, \"DataAvail\": \"Acoustic\"}, {\"Unnamed: 0\": null, \"between_days\": \"2012-04-13T00:00:00\", \"c_uniqueUnitID\": \"2011_BRP_CCB_S1016_Dep20_20110217_PU0213_FD02010_CCB20\", \"Transect\": null, \"DataAvail\": \"Acoustic\"}, {\"Unnamed: 0\": null, \"between_days\": \"2012-04-14T00:00:00\", \"c_uniqueUnitID\": \"2011_BRP_CCB_S1016_Dep20_20110217_PU0205_FD02018_CCB20\", \"Transect\": null, \"DataAvail\": \"Acoustic\"}, {\"Unnamed: 0\": null, \"between_days\": \"2012-04-15T00:00:00\", \"c_uniqueUnitID\": \"2011_BRP_CCB_S1016_Dep20_20110217_PU0206_FD02008_CCB20\", \"Transect\": null, \"DataAvail\": \"Acoustic\"}, {\"Unnamed: 0\": null, \"between_days\": \"2012-04-16T00:00:00\", \"c_uniqueUnitID\": \"2011_BRP_CCB_S1016_Dep20_20110217_PU0207_FD02006_CCB20\", \"Transect\": null, \"DataAvail\": \"Acoustic\"}, {\"Unnamed: 0\": null, \"between_days\": \"2012-04-17T00:00:00\", \"c_uniqueUnitID\": \"2011_BRP_CCB_S1016_Dep20_20110217_PU0208_FD02020_CCB20\", \"Transect\": null, \"DataAvail\": \"Acoustic\"}, {\"Unnamed: 0\": null, \"between_days\": \"2012-04-18T00:00:00\", \"c_uniqueUnitID\": \"2011_BRP_CCB_S1016_Dep20_20110217_PU0209_FD02000_CCB20\", \"Transect\": null, \"DataAvail\": \"Acoustic\"}, {\"Unnamed: 0\": null, \"between_days\": \"2012-04-19T00:00:00\", \"c_uniqueUnitID\": \"2011_BRP_CCB_S1016_Dep20_20110217_PU0211_FD02002_CCB20\", \"Transect\": null, \"DataAvail\": \"Acoustic\"}, {\"Unnamed: 0\": null, \"between_days\": \"2012-04-20T00:00:00\", \"c_uniqueUnitID\": \"2011_BRP_CCB_S1016_Dep20_20110217_PU0212_FD02016_CCB20\", \"Transect\": null, \"DataAvail\": \"Acoustic\"}, {\"Unnamed: 0\": null, \"between_days\": \"2012-04-21T00:00:00\", \"c_uniqueUnitID\": \"2011_BRP_CCB_S1016_Dep20_20110217_PU0213_FD02010_CCB20\", \"Transect\": null, \"DataAvail\": \"Acoustic\"}, {\"Unnamed: 0\": null, \"between_days\": \"2012-04-22T00:00:00\", \"c_uniqueUnitID\": \"2011_BRP_CCB_S1016_Dep20_20110217_PU0205_FD02018_CCB20\", \"Transect\": null, \"DataAvail\": \"Acoustic\"}, {\"Unnamed: 0\": null, \"between_days\": \"2012-04-23T00:00:00\", \"c_uniqueUnitID\": \"2011_BRP_CCB_S1016_Dep20_20110217_PU0206_FD02008_CCB20\", \"Transect\": null, \"DataAvail\": \"Acoustic\"}, {\"Unnamed: 0\": null, \"between_days\": \"2012-04-24T00:00:00\", \"c_uniqueUnitID\": \"2011_BRP_CCB_S1016_Dep20_20110217_PU0207_FD02006_CCB20\", \"Transect\": null, \"DataAvail\": \"Acoustic\"}, {\"Unnamed: 0\": null, \"between_days\": \"2012-04-25T00:00:00\", \"c_uniqueUnitID\": \"2011_BRP_CCB_S1016_Dep20_20110217_PU0208_FD02020_CCB20\", \"Transect\": null, \"DataAvail\": \"Acoustic\"}, {\"Unnamed: 0\": null, \"between_days\": \"2012-04-26T00:00:00\", \"c_uniqueUnitID\": \"2011_BRP_CCB_S1016_Dep20_20110217_PU0209_FD02000_CCB20\", \"Transect\": null, \"DataAvail\": \"Acoustic\"}, {\"Unnamed: 0\": null, \"between_days\": \"2012-04-27T00:00:00\", \"c_uniqueUnitID\": \"2011_BRP_CCB_S1016_Dep20_20110217_PU0211_FD02002_CCB20\", \"Transect\": null, \"DataAvail\": \"Acoustic\"}, {\"Unnamed: 0\": null, \"between_days\": \"2012-04-28T00:00:00\", \"c_uniqueUnitID\": \"2011_BRP_CCB_S1016_Dep20_20110217_PU0212_FD02016_CCB20\", \"Transect\": null, \"DataAvail\": \"Acoustic\"}, {\"Unnamed: 0\": null, \"between_days\": \"2012-04-29T00:00:00\", \"c_uniqueUnitID\": \"2011_BRP_CCB_S1016_Dep20_20110217_PU0213_FD02010_CCB20\", \"Transect\": null, \"DataAvail\": \"Acoustic\"}, {\"Unnamed: 0\": null, \"between_days\": \"2012-04-30T00:00:00\", \"c_uniqueUnitID\": \"2011_BRP_CCB_S1016_Dep20_20110217_PU0205_FD02018_CCB20\", \"Transect\": null, \"DataAvail\": \"Acoustic\"}, {\"Unnamed: 0\": null, \"between_days\": \"2012-05-01T00:00:00\", \"c_uniqueUnitID\": \"2011_BRP_CCB_S1016_Dep20_20110217_PU0206_FD02008_CCB20\", \"Transect\": null, \"DataAvail\": \"Acoustic\"}, {\"Unnamed: 0\": null, \"between_days\": \"2012-05-02T00:00:00\", \"c_uniqueUnitID\": \"2011_BRP_CCB_S1016_Dep20_20110217_PU0207_FD02006_CCB20\", \"Transect\": null, \"DataAvail\": \"Acoustic\"}, {\"Unnamed: 0\": null, \"between_days\": \"2012-05-03T00:00:00\", \"c_uniqueUnitID\": \"2011_BRP_CCB_S1016_Dep20_20110217_PU0208_FD02020_CCB20\", \"Transect\": null, \"DataAvail\": \"Acoustic\"}, {\"Unnamed: 0\": null, \"between_days\": \"2012-05-04T00:00:00\", \"c_uniqueUnitID\": \"2011_BRP_CCB_S1016_Dep20_20110217_PU0209_FD02000_CCB20\", \"Transect\": null, \"DataAvail\": \"Acoustic\"}, {\"Unnamed: 0\": null, \"between_days\": \"2012-05-05T00:00:00\", \"c_uniqueUnitID\": \"2011_BRP_CCB_S1016_Dep20_20110217_PU0211_FD02002_CCB20\", \"Transect\": null, \"DataAvail\": \"Acoustic\"}, {\"Unnamed: 0\": null, \"between_days\": \"2012-05-06T00:00:00\", \"c_uniqueUnitID\": \"2011_BRP_CCB_S1016_Dep20_20110217_PU0212_FD02016_CCB20\", \"Transect\": null, \"DataAvail\": \"Acoustic\"}, {\"Unnamed: 0\": null, \"between_days\": \"2012-05-07T00:00:00\", \"c_uniqueUnitID\": \"2011_BRP_CCB_S1016_Dep20_20110217_PU0213_FD02010_CCB20\", \"Transect\": null, \"DataAvail\": \"Acoustic\"}, {\"Unnamed: 0\": null, \"between_days\": \"2012-05-08T00:00:00\", \"c_uniqueUnitID\": \"2011_BRP_CCB_S1016_Dep20_20110217_PU0205_FD02018_CCB20\", \"Transect\": null, \"DataAvail\": \"Acoustic\"}, {\"Unnamed: 0\": null, \"between_days\": \"2012-05-09T00:00:00\", \"c_uniqueUnitID\": \"2011_BRP_CCB_S1016_Dep20_20110217_PU0206_FD02008_CCB20\", \"Transect\": null, \"DataAvail\": \"Acoustic\"}, {\"Unnamed: 0\": null, \"between_days\": \"2012-05-10T00:00:00\", \"c_uniqueUnitID\": \"2011_BRP_CCB_S1016_Dep20_20110217_PU0207_FD02006_CCB20\", \"Transect\": null, \"DataAvail\": \"Acoustic\"}, {\"Unnamed: 0\": null, \"between_days\": \"2012-05-11T00:00:00\", \"c_uniqueUnitID\": \"2011_BRP_CCB_S1016_Dep20_20110217_PU0208_FD02020_CCB20\", \"Transect\": null, \"DataAvail\": \"Acoustic\"}, {\"Unnamed: 0\": null, \"between_days\": \"2012-05-12T00:00:00\", \"c_uniqueUnitID\": \"2011_BRP_CCB_S1016_Dep20_20110217_PU0209_FD02000_CCB20\", \"Transect\": null, \"DataAvail\": \"Acoustic\"}, {\"Unnamed: 0\": null, \"between_days\": \"2012-05-13T00:00:00\", \"c_uniqueUnitID\": \"2011_BRP_CCB_S1016_Dep20_20110217_PU0211_FD02002_CCB20\", \"Transect\": null, \"DataAvail\": \"Acoustic\"}, {\"Unnamed: 0\": null, \"between_days\": \"2012-05-14T00:00:00\", \"c_uniqueUnitID\": \"2011_BRP_CCB_S1016_Dep20_20110217_PU0212_FD02016_CCB20\", \"Transect\": null, \"DataAvail\": \"Acoustic\"}, {\"Unnamed: 0\": null, \"between_days\": \"2012-05-15T00:00:00\", \"c_uniqueUnitID\": \"2011_BRP_CCB_S1016_Dep20_20110217_PU0213_FD02010_CCB20\", \"Transect\": null, \"DataAvail\": \"Acoustic\"}, {\"Unnamed: 0\": null, \"between_days\": \"2012-05-16T00:00:00\", \"c_uniqueUnitID\": \"2011_BRP_CCB_S1016_Dep20_20110217_PU0205_FD02018_CCB20\", \"Transect\": null, \"DataAvail\": \"Acoustic\"}, {\"Unnamed: 0\": null, \"between_days\": \"2012-05-17T00:00:00\", \"c_uniqueUnitID\": \"2011_BRP_CCB_S1016_Dep20_20110217_PU0206_FD02008_CCB20\", \"Transect\": null, \"DataAvail\": \"Acoustic\"}, {\"Unnamed: 0\": null, \"between_days\": \"2012-05-18T00:00:00\", \"c_uniqueUnitID\": \"2011_BRP_CCB_S1016_Dep20_20110217_PU0207_FD02006_CCB20\", \"Transect\": null, \"DataAvail\": \"Acoustic\"}, {\"Unnamed: 0\": null, \"between_days\": \"2012-05-19T00:00:00\", \"c_uniqueUnitID\": \"2011_BRP_CCB_S1016_Dep20_20110217_PU0208_FD02020_CCB20\", \"Transect\": null, \"DataAvail\": \"Acoustic\"}, {\"Unnamed: 0\": null, \"between_days\": \"2012-05-20T00:00:00\", \"c_uniqueUnitID\": \"2011_BRP_CCB_S1016_Dep20_20110217_PU0209_FD02000_CCB20\", \"Transect\": null, \"DataAvail\": \"Acoustic\"}, {\"Unnamed: 0\": null, \"between_days\": \"2012-05-21T00:00:00\", \"c_uniqueUnitID\": \"2011_BRP_CCB_S1016_Dep20_20110217_PU0211_FD02002_CCB20\", \"Transect\": null, \"DataAvail\": \"Acoustic\"}, {\"Unnamed: 0\": null, \"between_days\": \"2012-05-22T00:00:00\", \"c_uniqueUnitID\": \"2011_BRP_CCB_S1016_Dep20_20110217_PU0212_FD02016_CCB20\", \"Transect\": null, \"DataAvail\": \"Acoustic\"}, {\"Unnamed: 0\": null, \"between_days\": \"2012-05-23T00:00:00\", \"c_uniqueUnitID\": \"2011_BRP_CCB_S1016_Dep20_20110217_PU0213_FD02010_CCB20\", \"Transect\": null, \"DataAvail\": \"Acoustic\"}]}}, {\"mode\": \"vega-lite\"});\n",
       "</script>"
      ],
      "text/plain": [
       "alt.FacetChart(...)"
      ]
     },
     "execution_count": 8,
     "metadata": {},
     "output_type": "execute_result"
    }
   ],
   "source": [
    "# plot of available months and years of data\n",
    "alt.Chart(CCB_fake).mark_rect().encode(\n",
    "    y = alt.Y('DataAvail:N'),\n",
    "    x = alt.X('between_days:T', timeUnit = 'monthdate'),\n",
    "    color = 'DataAvail:N'\n",
    ").facet(\n",
    "    row = 'year(between_days)'\n",
    ")"
   ]
  },
  {
   "cell_type": "code",
   "execution_count": 14,
   "metadata": {},
   "outputs": [
    {
     "data": {
      "text/html": [
       "\n",
       "<div id=\"altair-viz-4c7d7d219c2a4e84a6163335782257dd\"></div>\n",
       "<script type=\"text/javascript\">\n",
       "  (function(spec, embedOpt){\n",
       "    let outputDiv = document.currentScript.previousElementSibling;\n",
       "    if (outputDiv.id !== \"altair-viz-4c7d7d219c2a4e84a6163335782257dd\") {\n",
       "      outputDiv = document.getElementById(\"altair-viz-4c7d7d219c2a4e84a6163335782257dd\");\n",
       "    }\n",
       "    const paths = {\n",
       "      \"vega\": \"https://cdn.jsdelivr.net/npm//vega@5?noext\",\n",
       "      \"vega-lib\": \"https://cdn.jsdelivr.net/npm//vega-lib?noext\",\n",
       "      \"vega-lite\": \"https://cdn.jsdelivr.net/npm//vega-lite@4.8.1?noext\",\n",
       "      \"vega-embed\": \"https://cdn.jsdelivr.net/npm//vega-embed@6?noext\",\n",
       "    };\n",
       "\n",
       "    function loadScript(lib) {\n",
       "      return new Promise(function(resolve, reject) {\n",
       "        var s = document.createElement('script');\n",
       "        s.src = paths[lib];\n",
       "        s.async = true;\n",
       "        s.onload = () => resolve(paths[lib]);\n",
       "        s.onerror = () => reject(`Error loading script: ${paths[lib]}`);\n",
       "        document.getElementsByTagName(\"head\")[0].appendChild(s);\n",
       "      });\n",
       "    }\n",
       "\n",
       "    function showError(err) {\n",
       "      outputDiv.innerHTML = `<div class=\"error\" style=\"color:red;\">${err}</div>`;\n",
       "      throw err;\n",
       "    }\n",
       "\n",
       "    function displayChart(vegaEmbed) {\n",
       "      vegaEmbed(outputDiv, spec, embedOpt)\n",
       "        .catch(err => showError(`Javascript Error: ${err.message}<br>This usually means there's a typo in your chart specification. See the javascript console for the full traceback.`));\n",
       "    }\n",
       "\n",
       "    if(typeof define === \"function\" && define.amd) {\n",
       "      requirejs.config({paths});\n",
       "      require([\"vega-embed\"], displayChart, err => showError(`Error loading script: ${err.message}`));\n",
       "    } else if (typeof vegaEmbed === \"function\") {\n",
       "      displayChart(vegaEmbed);\n",
       "    } else {\n",
       "      loadScript(\"vega\")\n",
       "        .then(() => loadScript(\"vega-lite\"))\n",
       "        .then(() => loadScript(\"vega-embed\"))\n",
       "        .catch(showError)\n",
       "        .then(() => displayChart(vegaEmbed));\n",
       "    }\n",
       "  })({\"config\": {\"view\": {\"continuousWidth\": 400, \"continuousHeight\": 300}}, \"data\": {\"name\": \"data-668ca22b7d62a93f729130cf0f88c7a8\"}, \"facet\": {\"row\": {\"type\": \"temporal\", \"field\": \"between_days\", \"timeUnit\": \"year\"}}, \"spec\": {\"mark\": \"rect\", \"encoding\": {\"color\": {\"type\": \"nominal\", \"field\": \"DataAvail\"}, \"x\": {\"type\": \"ordinal\", \"field\": \"between_days\", \"timeUnit\": \"date\"}, \"y\": {\"type\": \"nominal\", \"field\": \"DataAvail\"}}, \"height\": 50, \"width\": 500}, \"$schema\": \"https://vega.github.io/schema/vega-lite/v4.8.1.json\", \"datasets\": {\"data-668ca22b7d62a93f729130cf0f88c7a8\": [{\"Unnamed: 0\": 0.0, \"between_days\": \"2011-01-01T00:00:00\", \"c_uniqueUnitID\": null, \"Transect\": null, \"DataAvail\": \"None\"}, {\"Unnamed: 0\": 1.0, \"between_days\": \"2011-01-02T00:00:00\", \"c_uniqueUnitID\": null, \"Transect\": null, \"DataAvail\": \"None\"}, {\"Unnamed: 0\": 2.0, \"between_days\": \"2011-01-03T00:00:00\", \"c_uniqueUnitID\": null, \"Transect\": 40.0, \"DataAvail\": \"Prey\"}, {\"Unnamed: 0\": 3.0, \"between_days\": \"2011-01-04T00:00:00\", \"c_uniqueUnitID\": null, \"Transect\": 40.0, \"DataAvail\": \"Prey\"}, {\"Unnamed: 0\": 4.0, \"between_days\": \"2011-01-05T00:00:00\", \"c_uniqueUnitID\": null, \"Transect\": 40.0, \"DataAvail\": \"Prey\"}, {\"Unnamed: 0\": 5.0, \"between_days\": \"2011-01-06T00:00:00\", \"c_uniqueUnitID\": null, \"Transect\": 40.0, \"DataAvail\": \"Prey\"}, {\"Unnamed: 0\": 6.0, \"between_days\": \"2011-01-07T00:00:00\", \"c_uniqueUnitID\": null, \"Transect\": 40.0, \"DataAvail\": \"Prey\"}, {\"Unnamed: 0\": 7.0, \"between_days\": \"2011-01-08T00:00:00\", \"c_uniqueUnitID\": null, \"Transect\": 40.0, \"DataAvail\": \"Prey\"}, {\"Unnamed: 0\": 8.0, \"between_days\": \"2011-01-09T00:00:00\", \"c_uniqueUnitID\": null, \"Transect\": 40.0, \"DataAvail\": \"Prey\"}, {\"Unnamed: 0\": 9.0, \"between_days\": \"2011-01-10T00:00:00\", \"c_uniqueUnitID\": null, \"Transect\": 40.0, \"DataAvail\": \"Prey\"}, {\"Unnamed: 0\": 10.0, \"between_days\": \"2011-01-11T00:00:00\", \"c_uniqueUnitID\": null, \"Transect\": 40.0, \"DataAvail\": \"Prey\"}, {\"Unnamed: 0\": 11.0, \"between_days\": \"2011-01-12T00:00:00\", \"c_uniqueUnitID\": null, \"Transect\": 40.0, \"DataAvail\": \"Prey\"}, {\"Unnamed: 0\": 12.0, \"between_days\": \"2011-01-13T00:00:00\", \"c_uniqueUnitID\": null, \"Transect\": 40.0, \"DataAvail\": \"Prey\"}, {\"Unnamed: 0\": 13.0, \"between_days\": \"2011-01-14T00:00:00\", \"c_uniqueUnitID\": null, \"Transect\": 40.0, \"DataAvail\": \"Prey\"}, {\"Unnamed: 0\": 14.0, \"between_days\": \"2011-01-15T00:00:00\", \"c_uniqueUnitID\": null, \"Transect\": 40.0, \"DataAvail\": \"Prey\"}, {\"Unnamed: 0\": 15.0, \"between_days\": \"2011-01-16T00:00:00\", \"c_uniqueUnitID\": null, \"Transect\": 40.0, \"DataAvail\": \"Prey\"}, {\"Unnamed: 0\": 16.0, \"between_days\": \"2011-01-17T00:00:00\", \"c_uniqueUnitID\": null, \"Transect\": 40.0, \"DataAvail\": \"Prey\"}, {\"Unnamed: 0\": 17.0, \"between_days\": \"2011-01-18T00:00:00\", \"c_uniqueUnitID\": null, \"Transect\": 40.0, \"DataAvail\": \"Prey\"}, {\"Unnamed: 0\": 18.0, \"between_days\": \"2011-01-19T00:00:00\", \"c_uniqueUnitID\": null, \"Transect\": 40.0, \"DataAvail\": \"Prey\"}, {\"Unnamed: 0\": 19.0, \"between_days\": \"2011-01-20T00:00:00\", \"c_uniqueUnitID\": null, \"Transect\": 40.0, \"DataAvail\": \"Prey\"}, {\"Unnamed: 0\": 20.0, \"between_days\": \"2011-01-21T00:00:00\", \"c_uniqueUnitID\": null, \"Transect\": 40.0, \"DataAvail\": \"Prey\"}, {\"Unnamed: 0\": 21.0, \"between_days\": \"2011-01-22T00:00:00\", \"c_uniqueUnitID\": null, \"Transect\": 40.0, \"DataAvail\": \"Prey\"}, {\"Unnamed: 0\": 22.0, \"between_days\": \"2011-01-23T00:00:00\", \"c_uniqueUnitID\": null, \"Transect\": 40.0, \"DataAvail\": \"Prey\"}, {\"Unnamed: 0\": 23.0, \"between_days\": \"2011-01-24T00:00:00\", \"c_uniqueUnitID\": null, \"Transect\": 40.0, \"DataAvail\": \"Prey\"}, {\"Unnamed: 0\": 24.0, \"between_days\": \"2011-01-25T00:00:00\", \"c_uniqueUnitID\": null, \"Transect\": 40.0, \"DataAvail\": \"Prey\"}, {\"Unnamed: 0\": 25.0, \"between_days\": \"2011-01-26T00:00:00\", \"c_uniqueUnitID\": null, \"Transect\": 40.0, \"DataAvail\": \"Prey\"}, {\"Unnamed: 0\": 26.0, \"between_days\": \"2011-01-27T00:00:00\", \"c_uniqueUnitID\": null, \"Transect\": 40.0, \"DataAvail\": \"Prey\"}, {\"Unnamed: 0\": 27.0, \"between_days\": \"2011-01-28T00:00:00\", \"c_uniqueUnitID\": null, \"Transect\": 40.0, \"DataAvail\": \"Prey\"}, {\"Unnamed: 0\": 28.0, \"between_days\": \"2011-01-29T00:00:00\", \"c_uniqueUnitID\": null, \"Transect\": 40.0, \"DataAvail\": \"Prey\"}, {\"Unnamed: 0\": 29.0, \"between_days\": \"2011-01-30T00:00:00\", \"c_uniqueUnitID\": null, \"Transect\": 40.0, \"DataAvail\": \"Prey\"}, {\"Unnamed: 0\": 30.0, \"between_days\": \"2011-01-31T00:00:00\", \"c_uniqueUnitID\": null, \"Transect\": 40.0, \"DataAvail\": \"Prey\"}, {\"Unnamed: 0\": 31.0, \"between_days\": \"2011-02-01T00:00:00\", \"c_uniqueUnitID\": null, \"Transect\": 40.0, \"DataAvail\": \"Prey\"}, {\"Unnamed: 0\": 32.0, \"between_days\": \"2011-02-02T00:00:00\", \"c_uniqueUnitID\": null, \"Transect\": 40.0, \"DataAvail\": \"Prey\"}, {\"Unnamed: 0\": 33.0, \"between_days\": \"2011-02-03T00:00:00\", \"c_uniqueUnitID\": null, \"Transect\": 40.0, \"DataAvail\": \"Prey\"}, {\"Unnamed: 0\": 34.0, \"between_days\": \"2011-02-04T00:00:00\", \"c_uniqueUnitID\": null, \"Transect\": null, \"DataAvail\": \"None\"}, {\"Unnamed: 0\": 35.0, \"between_days\": \"2011-02-05T00:00:00\", \"c_uniqueUnitID\": null, \"Transect\": null, \"DataAvail\": \"None\"}, {\"Unnamed: 0\": 36.0, \"between_days\": \"2011-02-06T00:00:00\", \"c_uniqueUnitID\": null, \"Transect\": null, \"DataAvail\": \"None\"}, {\"Unnamed: 0\": 37.0, \"between_days\": \"2011-02-07T00:00:00\", \"c_uniqueUnitID\": null, \"Transect\": null, \"DataAvail\": \"None\"}, {\"Unnamed: 0\": 38.0, \"between_days\": \"2011-02-08T00:00:00\", \"c_uniqueUnitID\": null, \"Transect\": null, \"DataAvail\": \"None\"}, {\"Unnamed: 0\": 39.0, \"between_days\": \"2011-02-09T00:00:00\", \"c_uniqueUnitID\": null, \"Transect\": null, \"DataAvail\": \"None\"}, {\"Unnamed: 0\": 40.0, \"between_days\": \"2011-02-10T00:00:00\", \"c_uniqueUnitID\": null, \"Transect\": null, \"DataAvail\": \"None\"}, {\"Unnamed: 0\": 41.0, \"between_days\": \"2011-02-11T00:00:00\", \"c_uniqueUnitID\": null, \"Transect\": null, \"DataAvail\": \"None\"}, {\"Unnamed: 0\": 42.0, \"between_days\": \"2011-02-12T00:00:00\", \"c_uniqueUnitID\": null, \"Transect\": null, \"DataAvail\": \"None\"}, {\"Unnamed: 0\": 43.0, \"between_days\": \"2011-02-13T00:00:00\", \"c_uniqueUnitID\": null, \"Transect\": null, \"DataAvail\": \"None\"}, {\"Unnamed: 0\": 44.0, \"between_days\": \"2011-02-14T00:00:00\", \"c_uniqueUnitID\": null, \"Transect\": null, \"DataAvail\": \"None\"}, {\"Unnamed: 0\": 45.0, \"between_days\": \"2011-02-15T00:00:00\", \"c_uniqueUnitID\": null, \"Transect\": null, \"DataAvail\": \"None\"}, {\"Unnamed: 0\": 46.0, \"between_days\": \"2011-02-16T00:00:00\", \"c_uniqueUnitID\": null, \"Transect\": null, \"DataAvail\": \"None\"}, {\"Unnamed: 0\": 47.0, \"between_days\": \"2011-02-17T00:00:00\", \"c_uniqueUnitID\": \"2011_BRP_CCB_S1016_Dep20_20110217_PU0205_FD02018_CCB20\", \"Transect\": 50.0, \"DataAvail\": \"Both\"}, {\"Unnamed: 0\": 48.0, \"between_days\": \"2011-02-17T00:00:00\", \"c_uniqueUnitID\": \"2011_BRP_CCB_S1016_Dep20_20110217_PU0206_FD02008_CCB20\", \"Transect\": 50.0, \"DataAvail\": \"Both\"}, {\"Unnamed: 0\": 49.0, \"between_days\": \"2011-02-17T00:00:00\", \"c_uniqueUnitID\": \"2011_BRP_CCB_S1016_Dep20_20110217_PU0207_FD02006_CCB20\", \"Transect\": 50.0, \"DataAvail\": \"Both\"}, {\"Unnamed: 0\": 50.0, \"between_days\": \"2011-02-17T00:00:00\", \"c_uniqueUnitID\": \"2011_BRP_CCB_S1016_Dep20_20110217_PU0208_FD02020_CCB20\", \"Transect\": 50.0, \"DataAvail\": \"Both\"}, {\"Unnamed: 0\": 51.0, \"between_days\": \"2011-02-17T00:00:00\", \"c_uniqueUnitID\": \"2011_BRP_CCB_S1016_Dep20_20110217_PU0209_FD02000_CCB20\", \"Transect\": 50.0, \"DataAvail\": \"Both\"}, {\"Unnamed: 0\": 52.0, \"between_days\": \"2011-02-17T00:00:00\", \"c_uniqueUnitID\": \"2011_BRP_CCB_S1016_Dep20_20110217_PU0211_FD02002_CCB20\", \"Transect\": 50.0, \"DataAvail\": \"Both\"}, {\"Unnamed: 0\": 53.0, \"between_days\": \"2011-02-17T00:00:00\", \"c_uniqueUnitID\": \"2011_BRP_CCB_S1016_Dep20_20110217_PU0212_FD02016_CCB20\", \"Transect\": 50.0, \"DataAvail\": \"Both\"}, {\"Unnamed: 0\": 54.0, \"between_days\": \"2011-02-17T00:00:00\", \"c_uniqueUnitID\": \"2011_BRP_CCB_S1016_Dep20_20110217_PU0213_FD02010_CCB20\", \"Transect\": 50.0, \"DataAvail\": \"Both\"}, {\"Unnamed: 0\": 55.0, \"between_days\": \"2011-02-18T00:00:00\", \"c_uniqueUnitID\": \"2011_BRP_CCB_S1016_Dep20_20110217_PU0205_FD02018_CCB20\", \"Transect\": 50.0, \"DataAvail\": \"Both\"}, {\"Unnamed: 0\": 56.0, \"between_days\": \"2011-02-18T00:00:00\", \"c_uniqueUnitID\": \"2011_BRP_CCB_S1016_Dep20_20110217_PU0206_FD02008_CCB20\", \"Transect\": 50.0, \"DataAvail\": \"Both\"}, {\"Unnamed: 0\": 57.0, \"between_days\": \"2011-02-18T00:00:00\", \"c_uniqueUnitID\": \"2011_BRP_CCB_S1016_Dep20_20110217_PU0207_FD02006_CCB20\", \"Transect\": 50.0, \"DataAvail\": \"Both\"}, {\"Unnamed: 0\": 58.0, \"between_days\": \"2011-02-18T00:00:00\", \"c_uniqueUnitID\": \"2011_BRP_CCB_S1016_Dep20_20110217_PU0208_FD02020_CCB20\", \"Transect\": 50.0, \"DataAvail\": \"Both\"}, {\"Unnamed: 0\": 59.0, \"between_days\": \"2011-02-18T00:00:00\", \"c_uniqueUnitID\": \"2011_BRP_CCB_S1016_Dep20_20110217_PU0209_FD02000_CCB20\", \"Transect\": 50.0, \"DataAvail\": \"Both\"}, {\"Unnamed: 0\": 60.0, \"between_days\": \"2011-02-18T00:00:00\", \"c_uniqueUnitID\": \"2011_BRP_CCB_S1016_Dep20_20110217_PU0211_FD02002_CCB20\", \"Transect\": 50.0, \"DataAvail\": \"Both\"}, {\"Unnamed: 0\": 61.0, \"between_days\": \"2011-02-18T00:00:00\", \"c_uniqueUnitID\": \"2011_BRP_CCB_S1016_Dep20_20110217_PU0212_FD02016_CCB20\", \"Transect\": 50.0, \"DataAvail\": \"Both\"}, {\"Unnamed: 0\": 62.0, \"between_days\": \"2011-02-18T00:00:00\", \"c_uniqueUnitID\": \"2011_BRP_CCB_S1016_Dep20_20110217_PU0213_FD02010_CCB20\", \"Transect\": 50.0, \"DataAvail\": \"Acoustic\"}, {\"Unnamed: 0\": 63.0, \"between_days\": \"2011-02-19T00:00:00\", \"c_uniqueUnitID\": \"2011_BRP_CCB_S1016_Dep20_20110217_PU0205_FD02018_CCB20\", \"Transect\": 50.0, \"DataAvail\": \"Acoustic\"}, {\"Unnamed: 0\": 64.0, \"between_days\": \"2011-02-19T00:00:00\", \"c_uniqueUnitID\": \"2011_BRP_CCB_S1016_Dep20_20110217_PU0206_FD02008_CCB20\", \"Transect\": 50.0, \"DataAvail\": \"Acoustic\"}, {\"Unnamed: 0\": 65.0, \"between_days\": \"2011-02-19T00:00:00\", \"c_uniqueUnitID\": \"2011_BRP_CCB_S1016_Dep20_20110217_PU0207_FD02006_CCB20\", \"Transect\": 50.0, \"DataAvail\": \"Acoustic\"}, {\"Unnamed: 0\": 66.0, \"between_days\": \"2011-02-19T00:00:00\", \"c_uniqueUnitID\": \"2011_BRP_CCB_S1016_Dep20_20110217_PU0208_FD02020_CCB20\", \"Transect\": 50.0, \"DataAvail\": \"Acoustic\"}, {\"Unnamed: 0\": 67.0, \"between_days\": \"2011-02-19T00:00:00\", \"c_uniqueUnitID\": \"2011_BRP_CCB_S1016_Dep20_20110217_PU0209_FD02000_CCB20\", \"Transect\": 50.0, \"DataAvail\": \"Acoustic\"}, {\"Unnamed: 0\": 68.0, \"between_days\": \"2011-02-19T00:00:00\", \"c_uniqueUnitID\": \"2011_BRP_CCB_S1016_Dep20_20110217_PU0211_FD02002_CCB20\", \"Transect\": 50.0, \"DataAvail\": \"Acoustic\"}, {\"Unnamed: 0\": 69.0, \"between_days\": \"2011-02-19T00:00:00\", \"c_uniqueUnitID\": \"2011_BRP_CCB_S1016_Dep20_20110217_PU0212_FD02016_CCB20\", \"Transect\": 50.0, \"DataAvail\": \"Acoustic\"}, {\"Unnamed: 0\": 70.0, \"between_days\": \"2011-02-19T00:00:00\", \"c_uniqueUnitID\": \"2011_BRP_CCB_S1016_Dep20_20110217_PU0213_FD02010_CCB20\", \"Transect\": 50.0, \"DataAvail\": \"Acoustic\"}, {\"Unnamed: 0\": 71.0, \"between_days\": \"2011-02-20T00:00:00\", \"c_uniqueUnitID\": \"2011_BRP_CCB_S1016_Dep20_20110217_PU0205_FD02018_CCB20\", \"Transect\": 50.0, \"DataAvail\": \"Acoustic\"}, {\"Unnamed: 0\": 72.0, \"between_days\": \"2011-02-20T00:00:00\", \"c_uniqueUnitID\": \"2011_BRP_CCB_S1016_Dep20_20110217_PU0206_FD02008_CCB20\", \"Transect\": 50.0, \"DataAvail\": \"Acoustic\"}, {\"Unnamed: 0\": 73.0, \"between_days\": \"2011-02-20T00:00:00\", \"c_uniqueUnitID\": \"2011_BRP_CCB_S1016_Dep20_20110217_PU0207_FD02006_CCB20\", \"Transect\": 50.0, \"DataAvail\": \"Acoustic\"}, {\"Unnamed: 0\": 74.0, \"between_days\": \"2011-02-20T00:00:00\", \"c_uniqueUnitID\": \"2011_BRP_CCB_S1016_Dep20_20110217_PU0208_FD02020_CCB20\", \"Transect\": 50.0, \"DataAvail\": \"Acoustic\"}, {\"Unnamed: 0\": 75.0, \"between_days\": \"2011-02-20T00:00:00\", \"c_uniqueUnitID\": \"2011_BRP_CCB_S1016_Dep20_20110217_PU0209_FD02000_CCB20\", \"Transect\": 50.0, \"DataAvail\": \"Acoustic\"}, {\"Unnamed: 0\": 76.0, \"between_days\": \"2011-02-20T00:00:00\", \"c_uniqueUnitID\": \"2011_BRP_CCB_S1016_Dep20_20110217_PU0211_FD02002_CCB20\", \"Transect\": 50.0, \"DataAvail\": \"Acoustic\"}, {\"Unnamed: 0\": 77.0, \"between_days\": \"2011-02-20T00:00:00\", \"c_uniqueUnitID\": \"2011_BRP_CCB_S1016_Dep20_20110217_PU0212_FD02016_CCB20\", \"Transect\": 50.0, \"DataAvail\": \"Acoustic\"}, {\"Unnamed: 0\": 78.0, \"between_days\": \"2011-02-20T00:00:00\", \"c_uniqueUnitID\": \"2011_BRP_CCB_S1016_Dep20_20110217_PU0213_FD02010_CCB20\", \"Transect\": 50.0, \"DataAvail\": \"Acoustic\"}, {\"Unnamed: 0\": 79.0, \"between_days\": \"2011-02-21T00:00:00\", \"c_uniqueUnitID\": \"2011_BRP_CCB_S1016_Dep20_20110217_PU0205_FD02018_CCB20\", \"Transect\": 50.0, \"DataAvail\": \"Acoustic\"}, {\"Unnamed: 0\": 80.0, \"between_days\": \"2011-02-21T00:00:00\", \"c_uniqueUnitID\": \"2011_BRP_CCB_S1016_Dep20_20110217_PU0206_FD02008_CCB20\", \"Transect\": 50.0, \"DataAvail\": \"Acoustic\"}, {\"Unnamed: 0\": 81.0, \"between_days\": \"2011-02-21T00:00:00\", \"c_uniqueUnitID\": \"2011_BRP_CCB_S1016_Dep20_20110217_PU0207_FD02006_CCB20\", \"Transect\": 50.0, \"DataAvail\": \"Acoustic\"}, {\"Unnamed: 0\": 82.0, \"between_days\": \"2011-02-21T00:00:00\", \"c_uniqueUnitID\": \"2011_BRP_CCB_S1016_Dep20_20110217_PU0208_FD02020_CCB20\", \"Transect\": 50.0, \"DataAvail\": \"Acoustic\"}, {\"Unnamed: 0\": 83.0, \"between_days\": \"2011-02-21T00:00:00\", \"c_uniqueUnitID\": \"2011_BRP_CCB_S1016_Dep20_20110217_PU0209_FD02000_CCB20\", \"Transect\": null, \"DataAvail\": \"Acoustic\"}, {\"Unnamed: 0\": 84.0, \"between_days\": \"2011-02-21T00:00:00\", \"c_uniqueUnitID\": \"2011_BRP_CCB_S1016_Dep20_20110217_PU0211_FD02002_CCB20\", \"Transect\": null, \"DataAvail\": \"Acoustic\"}, {\"Unnamed: 0\": 85.0, \"between_days\": \"2011-02-21T00:00:00\", \"c_uniqueUnitID\": \"2011_BRP_CCB_S1016_Dep20_20110217_PU0212_FD02016_CCB20\", \"Transect\": null, \"DataAvail\": \"Acoustic\"}, {\"Unnamed: 0\": 86.0, \"between_days\": \"2011-02-21T00:00:00\", \"c_uniqueUnitID\": \"2011_BRP_CCB_S1016_Dep20_20110217_PU0213_FD02010_CCB20\", \"Transect\": null, \"DataAvail\": \"Acoustic\"}, {\"Unnamed: 0\": 87.0, \"between_days\": \"2011-02-22T00:00:00\", \"c_uniqueUnitID\": \"2011_BRP_CCB_S1016_Dep20_20110217_PU0205_FD02018_CCB20\", \"Transect\": null, \"DataAvail\": \"Acoustic\"}, {\"Unnamed: 0\": 88.0, \"between_days\": \"2011-02-22T00:00:00\", \"c_uniqueUnitID\": \"2011_BRP_CCB_S1016_Dep20_20110217_PU0206_FD02008_CCB20\", \"Transect\": null, \"DataAvail\": \"Acoustic\"}, {\"Unnamed: 0\": 89.0, \"between_days\": \"2011-02-22T00:00:00\", \"c_uniqueUnitID\": \"2011_BRP_CCB_S1016_Dep20_20110217_PU0207_FD02006_CCB20\", \"Transect\": null, \"DataAvail\": \"Acoustic\"}, {\"Unnamed: 0\": 90.0, \"between_days\": \"2011-02-22T00:00:00\", \"c_uniqueUnitID\": \"2011_BRP_CCB_S1016_Dep20_20110217_PU0208_FD02020_CCB20\", \"Transect\": null, \"DataAvail\": \"Acoustic\"}, {\"Unnamed: 0\": 91.0, \"between_days\": \"2011-02-22T00:00:00\", \"c_uniqueUnitID\": \"2011_BRP_CCB_S1016_Dep20_20110217_PU0209_FD02000_CCB20\", \"Transect\": null, \"DataAvail\": \"Acoustic\"}, {\"Unnamed: 0\": 92.0, \"between_days\": \"2011-02-22T00:00:00\", \"c_uniqueUnitID\": \"2011_BRP_CCB_S1016_Dep20_20110217_PU0211_FD02002_CCB20\", \"Transect\": null, \"DataAvail\": \"Acoustic\"}, {\"Unnamed: 0\": 93.0, \"between_days\": \"2011-02-22T00:00:00\", \"c_uniqueUnitID\": \"2011_BRP_CCB_S1016_Dep20_20110217_PU0212_FD02016_CCB20\", \"Transect\": null, \"DataAvail\": \"Acoustic\"}, {\"Unnamed: 0\": 94.0, \"between_days\": \"2011-02-22T00:00:00\", \"c_uniqueUnitID\": \"2011_BRP_CCB_S1016_Dep20_20110217_PU0213_FD02010_CCB20\", \"Transect\": null, \"DataAvail\": \"Acoustic\"}, {\"Unnamed: 0\": 95.0, \"between_days\": \"2011-02-23T00:00:00\", \"c_uniqueUnitID\": \"2011_BRP_CCB_S1016_Dep20_20110217_PU0205_FD02018_CCB20\", \"Transect\": null, \"DataAvail\": \"Acoustic\"}, {\"Unnamed: 0\": 96.0, \"between_days\": \"2011-02-23T00:00:00\", \"c_uniqueUnitID\": \"2011_BRP_CCB_S1016_Dep20_20110217_PU0206_FD02008_CCB20\", \"Transect\": null, \"DataAvail\": \"Acoustic\"}, {\"Unnamed: 0\": 97.0, \"between_days\": \"2011-02-23T00:00:00\", \"c_uniqueUnitID\": \"2011_BRP_CCB_S1016_Dep20_20110217_PU0207_FD02006_CCB20\", \"Transect\": null, \"DataAvail\": \"Acoustic\"}, {\"Unnamed: 0\": 98.0, \"between_days\": \"2011-02-23T00:00:00\", \"c_uniqueUnitID\": \"2011_BRP_CCB_S1016_Dep20_20110217_PU0208_FD02020_CCB20\", \"Transect\": null, \"DataAvail\": \"Acoustic\"}, {\"Unnamed: 0\": 99.0, \"between_days\": \"2011-02-23T00:00:00\", \"c_uniqueUnitID\": \"2011_BRP_CCB_S1016_Dep20_20110217_PU0209_FD02000_CCB20\", \"Transect\": null, \"DataAvail\": \"Acoustic\"}, {\"Unnamed: 0\": 100.0, \"between_days\": \"2011-02-23T00:00:00\", \"c_uniqueUnitID\": \"2011_BRP_CCB_S1016_Dep20_20110217_PU0211_FD02002_CCB20\", \"Transect\": null, \"DataAvail\": \"Acoustic\"}, {\"Unnamed: 0\": 101.0, \"between_days\": \"2011-02-23T00:00:00\", \"c_uniqueUnitID\": \"2011_BRP_CCB_S1016_Dep20_20110217_PU0212_FD02016_CCB20\", \"Transect\": null, \"DataAvail\": \"Acoustic\"}, {\"Unnamed: 0\": 102.0, \"between_days\": \"2011-02-23T00:00:00\", \"c_uniqueUnitID\": \"2011_BRP_CCB_S1016_Dep20_20110217_PU0213_FD02010_CCB20\", \"Transect\": null, \"DataAvail\": \"Acoustic\"}, {\"Unnamed: 0\": 103.0, \"between_days\": \"2011-02-24T00:00:00\", \"c_uniqueUnitID\": \"2011_BRP_CCB_S1016_Dep20_20110217_PU0205_FD02018_CCB20\", \"Transect\": null, \"DataAvail\": \"Acoustic\"}, {\"Unnamed: 0\": 104.0, \"between_days\": \"2011-02-24T00:00:00\", \"c_uniqueUnitID\": \"2011_BRP_CCB_S1016_Dep20_20110217_PU0206_FD02008_CCB20\", \"Transect\": null, \"DataAvail\": \"Acoustic\"}, {\"Unnamed: 0\": 105.0, \"between_days\": \"2011-02-24T00:00:00\", \"c_uniqueUnitID\": \"2011_BRP_CCB_S1016_Dep20_20110217_PU0207_FD02006_CCB20\", \"Transect\": null, \"DataAvail\": \"Acoustic\"}, {\"Unnamed: 0\": 106.0, \"between_days\": \"2011-02-24T00:00:00\", \"c_uniqueUnitID\": \"2011_BRP_CCB_S1016_Dep20_20110217_PU0208_FD02020_CCB20\", \"Transect\": null, \"DataAvail\": \"Acoustic\"}, {\"Unnamed: 0\": 107.0, \"between_days\": \"2011-02-24T00:00:00\", \"c_uniqueUnitID\": \"2011_BRP_CCB_S1016_Dep20_20110217_PU0209_FD02000_CCB20\", \"Transect\": null, \"DataAvail\": \"Acoustic\"}, {\"Unnamed: 0\": 108.0, \"between_days\": \"2011-02-24T00:00:00\", \"c_uniqueUnitID\": \"2011_BRP_CCB_S1016_Dep20_20110217_PU0211_FD02002_CCB20\", \"Transect\": null, \"DataAvail\": \"Acoustic\"}, {\"Unnamed: 0\": 109.0, \"between_days\": \"2011-02-24T00:00:00\", \"c_uniqueUnitID\": \"2011_BRP_CCB_S1016_Dep20_20110217_PU0212_FD02016_CCB20\", \"Transect\": null, \"DataAvail\": \"Acoustic\"}, {\"Unnamed: 0\": 110.0, \"between_days\": \"2011-02-24T00:00:00\", \"c_uniqueUnitID\": \"2011_BRP_CCB_S1016_Dep20_20110217_PU0213_FD02010_CCB20\", \"Transect\": null, \"DataAvail\": \"Acoustic\"}, {\"Unnamed: 0\": 111.0, \"between_days\": \"2011-02-25T00:00:00\", \"c_uniqueUnitID\": \"2011_BRP_CCB_S1016_Dep20_20110217_PU0205_FD02018_CCB20\", \"Transect\": null, \"DataAvail\": \"Acoustic\"}, {\"Unnamed: 0\": 112.0, \"between_days\": \"2011-02-25T00:00:00\", \"c_uniqueUnitID\": \"2011_BRP_CCB_S1016_Dep20_20110217_PU0206_FD02008_CCB20\", \"Transect\": null, \"DataAvail\": \"Acoustic\"}, {\"Unnamed: 0\": 113.0, \"between_days\": \"2011-02-25T00:00:00\", \"c_uniqueUnitID\": \"2011_BRP_CCB_S1016_Dep20_20110217_PU0207_FD02006_CCB20\", \"Transect\": null, \"DataAvail\": \"Acoustic\"}, {\"Unnamed: 0\": 114.0, \"between_days\": \"2011-02-25T00:00:00\", \"c_uniqueUnitID\": \"2011_BRP_CCB_S1016_Dep20_20110217_PU0208_FD02020_CCB20\", \"Transect\": null, \"DataAvail\": \"Acoustic\"}, {\"Unnamed: 0\": 115.0, \"between_days\": \"2011-02-25T00:00:00\", \"c_uniqueUnitID\": \"2011_BRP_CCB_S1016_Dep20_20110217_PU0209_FD02000_CCB20\", \"Transect\": null, \"DataAvail\": \"Acoustic\"}, {\"Unnamed: 0\": 116.0, \"between_days\": \"2011-02-25T00:00:00\", \"c_uniqueUnitID\": \"2011_BRP_CCB_S1016_Dep20_20110217_PU0211_FD02002_CCB20\", \"Transect\": null, \"DataAvail\": \"Acoustic\"}, {\"Unnamed: 0\": 117.0, \"between_days\": \"2011-02-25T00:00:00\", \"c_uniqueUnitID\": \"2011_BRP_CCB_S1016_Dep20_20110217_PU0212_FD02016_CCB20\", \"Transect\": null, \"DataAvail\": \"Acoustic\"}, {\"Unnamed: 0\": 118.0, \"between_days\": \"2011-02-25T00:00:00\", \"c_uniqueUnitID\": \"2011_BRP_CCB_S1016_Dep20_20110217_PU0213_FD02010_CCB20\", \"Transect\": null, \"DataAvail\": \"Acoustic\"}, {\"Unnamed: 0\": 119.0, \"between_days\": \"2011-02-26T00:00:00\", \"c_uniqueUnitID\": \"2011_BRP_CCB_S1016_Dep20_20110217_PU0205_FD02018_CCB20\", \"Transect\": null, \"DataAvail\": \"Acoustic\"}, {\"Unnamed: 0\": 120.0, \"between_days\": \"2011-02-26T00:00:00\", \"c_uniqueUnitID\": \"2011_BRP_CCB_S1016_Dep20_20110217_PU0206_FD02008_CCB20\", \"Transect\": null, \"DataAvail\": \"Acoustic\"}, {\"Unnamed: 0\": 121.0, \"between_days\": \"2011-02-26T00:00:00\", \"c_uniqueUnitID\": \"2011_BRP_CCB_S1016_Dep20_20110217_PU0207_FD02006_CCB20\", \"Transect\": null, \"DataAvail\": \"Acoustic\"}, {\"Unnamed: 0\": 122.0, \"between_days\": \"2011-02-26T00:00:00\", \"c_uniqueUnitID\": \"2011_BRP_CCB_S1016_Dep20_20110217_PU0208_FD02020_CCB20\", \"Transect\": null, \"DataAvail\": \"Acoustic\"}, {\"Unnamed: 0\": 123.0, \"between_days\": \"2011-02-26T00:00:00\", \"c_uniqueUnitID\": \"2011_BRP_CCB_S1016_Dep20_20110217_PU0209_FD02000_CCB20\", \"Transect\": null, \"DataAvail\": \"Acoustic\"}, {\"Unnamed: 0\": 124.0, \"between_days\": \"2011-02-26T00:00:00\", \"c_uniqueUnitID\": \"2011_BRP_CCB_S1016_Dep20_20110217_PU0211_FD02002_CCB20\", \"Transect\": null, \"DataAvail\": \"Acoustic\"}, {\"Unnamed: 0\": 125.0, \"between_days\": \"2011-02-26T00:00:00\", \"c_uniqueUnitID\": \"2011_BRP_CCB_S1016_Dep20_20110217_PU0212_FD02016_CCB20\", \"Transect\": null, \"DataAvail\": \"Acoustic\"}, {\"Unnamed: 0\": 126.0, \"between_days\": \"2011-02-26T00:00:00\", \"c_uniqueUnitID\": \"2011_BRP_CCB_S1016_Dep20_20110217_PU0213_FD02010_CCB20\", \"Transect\": null, \"DataAvail\": \"Acoustic\"}, {\"Unnamed: 0\": 127.0, \"between_days\": \"2011-02-27T00:00:00\", \"c_uniqueUnitID\": \"2011_BRP_CCB_S1016_Dep20_20110217_PU0205_FD02018_CCB20\", \"Transect\": null, \"DataAvail\": \"Acoustic\"}, {\"Unnamed: 0\": 128.0, \"between_days\": \"2011-02-27T00:00:00\", \"c_uniqueUnitID\": \"2011_BRP_CCB_S1016_Dep20_20110217_PU0206_FD02008_CCB20\", \"Transect\": null, \"DataAvail\": \"Acoustic\"}, {\"Unnamed: 0\": 129.0, \"between_days\": \"2011-02-27T00:00:00\", \"c_uniqueUnitID\": \"2011_BRP_CCB_S1016_Dep20_20110217_PU0207_FD02006_CCB20\", \"Transect\": null, \"DataAvail\": \"Acoustic\"}, {\"Unnamed: 0\": 130.0, \"between_days\": \"2011-02-27T00:00:00\", \"c_uniqueUnitID\": \"2011_BRP_CCB_S1016_Dep20_20110217_PU0208_FD02020_CCB20\", \"Transect\": null, \"DataAvail\": \"Acoustic\"}, {\"Unnamed: 0\": 131.0, \"between_days\": \"2011-02-27T00:00:00\", \"c_uniqueUnitID\": \"2011_BRP_CCB_S1016_Dep20_20110217_PU0209_FD02000_CCB20\", \"Transect\": null, \"DataAvail\": \"Acoustic\"}, {\"Unnamed: 0\": 132.0, \"between_days\": \"2011-02-27T00:00:00\", \"c_uniqueUnitID\": \"2011_BRP_CCB_S1016_Dep20_20110217_PU0211_FD02002_CCB20\", \"Transect\": null, \"DataAvail\": \"Acoustic\"}, {\"Unnamed: 0\": 133.0, \"between_days\": \"2011-02-27T00:00:00\", \"c_uniqueUnitID\": \"2011_BRP_CCB_S1016_Dep20_20110217_PU0212_FD02016_CCB20\", \"Transect\": null, \"DataAvail\": \"Acoustic\"}, {\"Unnamed: 0\": 134.0, \"between_days\": \"2011-02-27T00:00:00\", \"c_uniqueUnitID\": \"2011_BRP_CCB_S1016_Dep20_20110217_PU0213_FD02010_CCB20\", \"Transect\": null, \"DataAvail\": \"Acoustic\"}, {\"Unnamed: 0\": 135.0, \"between_days\": \"2011-02-28T00:00:00\", \"c_uniqueUnitID\": \"2011_BRP_CCB_S1016_Dep20_20110217_PU0205_FD02018_CCB20\", \"Transect\": null, \"DataAvail\": \"Acoustic\"}, {\"Unnamed: 0\": 136.0, \"between_days\": \"2011-02-28T00:00:00\", \"c_uniqueUnitID\": \"2011_BRP_CCB_S1016_Dep20_20110217_PU0206_FD02008_CCB20\", \"Transect\": null, \"DataAvail\": \"Acoustic\"}, {\"Unnamed: 0\": 137.0, \"between_days\": \"2011-02-28T00:00:00\", \"c_uniqueUnitID\": \"2011_BRP_CCB_S1016_Dep20_20110217_PU0207_FD02006_CCB20\", \"Transect\": null, \"DataAvail\": \"Acoustic\"}, {\"Unnamed: 0\": 138.0, \"between_days\": \"2011-02-28T00:00:00\", \"c_uniqueUnitID\": \"2011_BRP_CCB_S1016_Dep20_20110217_PU0208_FD02020_CCB20\", \"Transect\": null, \"DataAvail\": \"Acoustic\"}, {\"Unnamed: 0\": 139.0, \"between_days\": \"2011-02-28T00:00:00\", \"c_uniqueUnitID\": \"2011_BRP_CCB_S1016_Dep20_20110217_PU0209_FD02000_CCB20\", \"Transect\": null, \"DataAvail\": \"Acoustic\"}, {\"Unnamed: 0\": 140.0, \"between_days\": \"2011-02-28T00:00:00\", \"c_uniqueUnitID\": \"2011_BRP_CCB_S1016_Dep20_20110217_PU0211_FD02002_CCB20\", \"Transect\": null, \"DataAvail\": \"Acoustic\"}, {\"Unnamed: 0\": 141.0, \"between_days\": \"2011-02-28T00:00:00\", \"c_uniqueUnitID\": \"2011_BRP_CCB_S1016_Dep20_20110217_PU0212_FD02016_CCB20\", \"Transect\": null, \"DataAvail\": \"Acoustic\"}, {\"Unnamed: 0\": 142.0, \"between_days\": \"2011-02-28T00:00:00\", \"c_uniqueUnitID\": \"2011_BRP_CCB_S1016_Dep20_20110217_PU0213_FD02010_CCB20\", \"Transect\": null, \"DataAvail\": \"Acoustic\"}, {\"Unnamed: 0\": null, \"between_days\": \"2012-01-02T00:00:00\", \"c_uniqueUnitID\": null, \"Transect\": null, \"DataAvail\": \"None\"}, {\"Unnamed: 0\": null, \"between_days\": \"2012-01-03T00:00:00\", \"c_uniqueUnitID\": null, \"Transect\": null, \"DataAvail\": \"None\"}, {\"Unnamed: 0\": null, \"between_days\": \"2012-01-04T00:00:00\", \"c_uniqueUnitID\": null, \"Transect\": 40.0, \"DataAvail\": \"Prey\"}, {\"Unnamed: 0\": null, \"between_days\": \"2012-01-05T00:00:00\", \"c_uniqueUnitID\": null, \"Transect\": 40.0, \"DataAvail\": \"Prey\"}, {\"Unnamed: 0\": null, \"between_days\": \"2012-01-06T00:00:00\", \"c_uniqueUnitID\": null, \"Transect\": 40.0, \"DataAvail\": \"Prey\"}, {\"Unnamed: 0\": null, \"between_days\": \"2012-01-07T00:00:00\", \"c_uniqueUnitID\": null, \"Transect\": 40.0, \"DataAvail\": \"Prey\"}, {\"Unnamed: 0\": null, \"between_days\": \"2012-01-08T00:00:00\", \"c_uniqueUnitID\": null, \"Transect\": 40.0, \"DataAvail\": \"Prey\"}, {\"Unnamed: 0\": null, \"between_days\": \"2012-01-09T00:00:00\", \"c_uniqueUnitID\": null, \"Transect\": 40.0, \"DataAvail\": \"Prey\"}, {\"Unnamed: 0\": null, \"between_days\": \"2012-01-10T00:00:00\", \"c_uniqueUnitID\": null, \"Transect\": 40.0, \"DataAvail\": \"Prey\"}, {\"Unnamed: 0\": null, \"between_days\": \"2012-01-11T00:00:00\", \"c_uniqueUnitID\": null, \"Transect\": 40.0, \"DataAvail\": \"Prey\"}, {\"Unnamed: 0\": null, \"between_days\": \"2012-01-12T00:00:00\", \"c_uniqueUnitID\": null, \"Transect\": 40.0, \"DataAvail\": \"Prey\"}, {\"Unnamed: 0\": null, \"between_days\": \"2012-01-13T00:00:00\", \"c_uniqueUnitID\": null, \"Transect\": 40.0, \"DataAvail\": \"Prey\"}, {\"Unnamed: 0\": null, \"between_days\": \"2012-01-14T00:00:00\", \"c_uniqueUnitID\": null, \"Transect\": 40.0, \"DataAvail\": \"Prey\"}, {\"Unnamed: 0\": null, \"between_days\": \"2012-01-15T00:00:00\", \"c_uniqueUnitID\": null, \"Transect\": 40.0, \"DataAvail\": \"Prey\"}, {\"Unnamed: 0\": null, \"between_days\": \"2012-01-16T00:00:00\", \"c_uniqueUnitID\": null, \"Transect\": 40.0, \"DataAvail\": \"Prey\"}, {\"Unnamed: 0\": null, \"between_days\": \"2012-01-17T00:00:00\", \"c_uniqueUnitID\": null, \"Transect\": 40.0, \"DataAvail\": \"Prey\"}, {\"Unnamed: 0\": null, \"between_days\": \"2012-01-18T00:00:00\", \"c_uniqueUnitID\": null, \"Transect\": 40.0, \"DataAvail\": \"Prey\"}, {\"Unnamed: 0\": null, \"between_days\": \"2012-01-19T00:00:00\", \"c_uniqueUnitID\": null, \"Transect\": 40.0, \"DataAvail\": \"Prey\"}, {\"Unnamed: 0\": null, \"between_days\": \"2012-01-20T00:00:00\", \"c_uniqueUnitID\": null, \"Transect\": 40.0, \"DataAvail\": \"Prey\"}, {\"Unnamed: 0\": null, \"between_days\": \"2012-01-21T00:00:00\", \"c_uniqueUnitID\": null, \"Transect\": 40.0, \"DataAvail\": \"Prey\"}, {\"Unnamed: 0\": null, \"between_days\": \"2012-01-22T00:00:00\", \"c_uniqueUnitID\": null, \"Transect\": 40.0, \"DataAvail\": \"Prey\"}, {\"Unnamed: 0\": null, \"between_days\": \"2012-01-23T00:00:00\", \"c_uniqueUnitID\": null, \"Transect\": 40.0, \"DataAvail\": \"Prey\"}, {\"Unnamed: 0\": null, \"between_days\": \"2012-01-24T00:00:00\", \"c_uniqueUnitID\": null, \"Transect\": 40.0, \"DataAvail\": \"Prey\"}, {\"Unnamed: 0\": null, \"between_days\": \"2012-01-25T00:00:00\", \"c_uniqueUnitID\": null, \"Transect\": 40.0, \"DataAvail\": \"Prey\"}, {\"Unnamed: 0\": null, \"between_days\": \"2012-01-26T00:00:00\", \"c_uniqueUnitID\": null, \"Transect\": 40.0, \"DataAvail\": \"Prey\"}, {\"Unnamed: 0\": null, \"between_days\": \"2012-01-27T00:00:00\", \"c_uniqueUnitID\": null, \"Transect\": 40.0, \"DataAvail\": \"Prey\"}, {\"Unnamed: 0\": null, \"between_days\": \"2012-01-28T00:00:00\", \"c_uniqueUnitID\": null, \"Transect\": 40.0, \"DataAvail\": \"Prey\"}, {\"Unnamed: 0\": null, \"between_days\": \"2012-01-29T00:00:00\", \"c_uniqueUnitID\": null, \"Transect\": 40.0, \"DataAvail\": \"Prey\"}, {\"Unnamed: 0\": null, \"between_days\": \"2012-01-30T00:00:00\", \"c_uniqueUnitID\": null, \"Transect\": 40.0, \"DataAvail\": \"Prey\"}, {\"Unnamed: 0\": null, \"between_days\": \"2012-01-31T00:00:00\", \"c_uniqueUnitID\": null, \"Transect\": 40.0, \"DataAvail\": \"Prey\"}, {\"Unnamed: 0\": null, \"between_days\": \"2012-02-01T00:00:00\", \"c_uniqueUnitID\": null, \"Transect\": 40.0, \"DataAvail\": \"Prey\"}, {\"Unnamed: 0\": null, \"between_days\": \"2012-02-02T00:00:00\", \"c_uniqueUnitID\": null, \"Transect\": 40.0, \"DataAvail\": \"Prey\"}, {\"Unnamed: 0\": null, \"between_days\": \"2012-02-03T00:00:00\", \"c_uniqueUnitID\": null, \"Transect\": 40.0, \"DataAvail\": \"Prey\"}, {\"Unnamed: 0\": null, \"between_days\": \"2012-02-04T00:00:00\", \"c_uniqueUnitID\": null, \"Transect\": 40.0, \"DataAvail\": \"Prey\"}, {\"Unnamed: 0\": null, \"between_days\": \"2012-02-05T00:00:00\", \"c_uniqueUnitID\": null, \"Transect\": null, \"DataAvail\": \"None\"}, {\"Unnamed: 0\": null, \"between_days\": \"2012-02-06T00:00:00\", \"c_uniqueUnitID\": null, \"Transect\": null, \"DataAvail\": \"None\"}, {\"Unnamed: 0\": null, \"between_days\": \"2012-02-07T00:00:00\", \"c_uniqueUnitID\": null, \"Transect\": null, \"DataAvail\": \"None\"}, {\"Unnamed: 0\": null, \"between_days\": \"2012-02-08T00:00:00\", \"c_uniqueUnitID\": null, \"Transect\": null, \"DataAvail\": \"None\"}, {\"Unnamed: 0\": null, \"between_days\": \"2012-02-09T00:00:00\", \"c_uniqueUnitID\": null, \"Transect\": null, \"DataAvail\": \"None\"}, {\"Unnamed: 0\": null, \"between_days\": \"2012-02-10T00:00:00\", \"c_uniqueUnitID\": null, \"Transect\": null, \"DataAvail\": \"None\"}, {\"Unnamed: 0\": null, \"between_days\": \"2012-02-11T00:00:00\", \"c_uniqueUnitID\": null, \"Transect\": null, \"DataAvail\": \"None\"}, {\"Unnamed: 0\": null, \"between_days\": \"2012-02-12T00:00:00\", \"c_uniqueUnitID\": null, \"Transect\": null, \"DataAvail\": \"None\"}, {\"Unnamed: 0\": null, \"between_days\": \"2012-02-13T00:00:00\", \"c_uniqueUnitID\": null, \"Transect\": null, \"DataAvail\": \"None\"}, {\"Unnamed: 0\": null, \"between_days\": \"2012-02-14T00:00:00\", \"c_uniqueUnitID\": null, \"Transect\": null, \"DataAvail\": \"None\"}, {\"Unnamed: 0\": null, \"between_days\": \"2012-02-15T00:00:00\", \"c_uniqueUnitID\": null, \"Transect\": null, \"DataAvail\": \"None\"}, {\"Unnamed: 0\": null, \"between_days\": \"2012-02-16T00:00:00\", \"c_uniqueUnitID\": null, \"Transect\": null, \"DataAvail\": \"None\"}, {\"Unnamed: 0\": null, \"between_days\": \"2012-02-17T00:00:00\", \"c_uniqueUnitID\": null, \"Transect\": null, \"DataAvail\": \"None\"}, {\"Unnamed: 0\": null, \"between_days\": \"2012-02-18T00:00:00\", \"c_uniqueUnitID\": \"2011_BRP_CCB_S1016_Dep20_20110217_PU0205_FD02018_CCB20\", \"Transect\": 50.0, \"DataAvail\": \"Both\"}, {\"Unnamed: 0\": null, \"between_days\": \"2012-02-19T00:00:00\", \"c_uniqueUnitID\": \"2011_BRP_CCB_S1016_Dep20_20110217_PU0206_FD02008_CCB20\", \"Transect\": 50.0, \"DataAvail\": \"Both\"}, {\"Unnamed: 0\": null, \"between_days\": \"2012-02-20T00:00:00\", \"c_uniqueUnitID\": \"2011_BRP_CCB_S1016_Dep20_20110217_PU0207_FD02006_CCB20\", \"Transect\": 50.0, \"DataAvail\": \"Both\"}, {\"Unnamed: 0\": null, \"between_days\": \"2012-02-21T00:00:00\", \"c_uniqueUnitID\": \"2011_BRP_CCB_S1016_Dep20_20110217_PU0208_FD02020_CCB20\", \"Transect\": 50.0, \"DataAvail\": \"Both\"}, {\"Unnamed: 0\": null, \"between_days\": \"2012-02-22T00:00:00\", \"c_uniqueUnitID\": \"2011_BRP_CCB_S1016_Dep20_20110217_PU0209_FD02000_CCB20\", \"Transect\": 50.0, \"DataAvail\": \"Both\"}, {\"Unnamed: 0\": null, \"between_days\": \"2012-02-23T00:00:00\", \"c_uniqueUnitID\": \"2011_BRP_CCB_S1016_Dep20_20110217_PU0211_FD02002_CCB20\", \"Transect\": 50.0, \"DataAvail\": \"Both\"}, {\"Unnamed: 0\": null, \"between_days\": \"2012-02-24T00:00:00\", \"c_uniqueUnitID\": \"2011_BRP_CCB_S1016_Dep20_20110217_PU0212_FD02016_CCB20\", \"Transect\": 50.0, \"DataAvail\": \"Both\"}, {\"Unnamed: 0\": null, \"between_days\": \"2012-02-25T00:00:00\", \"c_uniqueUnitID\": \"2011_BRP_CCB_S1016_Dep20_20110217_PU0213_FD02010_CCB20\", \"Transect\": 50.0, \"DataAvail\": \"Both\"}, {\"Unnamed: 0\": null, \"between_days\": \"2012-02-26T00:00:00\", \"c_uniqueUnitID\": \"2011_BRP_CCB_S1016_Dep20_20110217_PU0205_FD02018_CCB20\", \"Transect\": 50.0, \"DataAvail\": \"Both\"}, {\"Unnamed: 0\": null, \"between_days\": \"2012-02-27T00:00:00\", \"c_uniqueUnitID\": \"2011_BRP_CCB_S1016_Dep20_20110217_PU0206_FD02008_CCB20\", \"Transect\": 50.0, \"DataAvail\": \"Both\"}, {\"Unnamed: 0\": null, \"between_days\": \"2012-02-28T00:00:00\", \"c_uniqueUnitID\": \"2011_BRP_CCB_S1016_Dep20_20110217_PU0207_FD02006_CCB20\", \"Transect\": 50.0, \"DataAvail\": \"Both\"}, {\"Unnamed: 0\": null, \"between_days\": \"2012-02-29T00:00:00\", \"c_uniqueUnitID\": \"2011_BRP_CCB_S1016_Dep20_20110217_PU0208_FD02020_CCB20\", \"Transect\": 50.0, \"DataAvail\": \"Both\"}, {\"Unnamed: 0\": null, \"between_days\": \"2012-03-01T00:00:00\", \"c_uniqueUnitID\": \"2011_BRP_CCB_S1016_Dep20_20110217_PU0209_FD02000_CCB20\", \"Transect\": 50.0, \"DataAvail\": \"Both\"}, {\"Unnamed: 0\": null, \"between_days\": \"2012-03-02T00:00:00\", \"c_uniqueUnitID\": \"2011_BRP_CCB_S1016_Dep20_20110217_PU0211_FD02002_CCB20\", \"Transect\": 50.0, \"DataAvail\": \"Both\"}, {\"Unnamed: 0\": null, \"between_days\": \"2012-03-03T00:00:00\", \"c_uniqueUnitID\": \"2011_BRP_CCB_S1016_Dep20_20110217_PU0212_FD02016_CCB20\", \"Transect\": 50.0, \"DataAvail\": \"Both\"}, {\"Unnamed: 0\": null, \"between_days\": \"2012-03-04T00:00:00\", \"c_uniqueUnitID\": \"2011_BRP_CCB_S1016_Dep20_20110217_PU0213_FD02010_CCB20\", \"Transect\": 50.0, \"DataAvail\": \"Acoustic\"}, {\"Unnamed: 0\": null, \"between_days\": \"2012-03-05T00:00:00\", \"c_uniqueUnitID\": \"2011_BRP_CCB_S1016_Dep20_20110217_PU0205_FD02018_CCB20\", \"Transect\": 50.0, \"DataAvail\": \"Acoustic\"}, {\"Unnamed: 0\": null, \"between_days\": \"2012-03-06T00:00:00\", \"c_uniqueUnitID\": \"2011_BRP_CCB_S1016_Dep20_20110217_PU0206_FD02008_CCB20\", \"Transect\": 50.0, \"DataAvail\": \"Acoustic\"}, {\"Unnamed: 0\": null, \"between_days\": \"2012-03-07T00:00:00\", \"c_uniqueUnitID\": \"2011_BRP_CCB_S1016_Dep20_20110217_PU0207_FD02006_CCB20\", \"Transect\": 50.0, \"DataAvail\": \"Acoustic\"}, {\"Unnamed: 0\": null, \"between_days\": \"2012-03-08T00:00:00\", \"c_uniqueUnitID\": \"2011_BRP_CCB_S1016_Dep20_20110217_PU0208_FD02020_CCB20\", \"Transect\": 50.0, \"DataAvail\": \"Acoustic\"}, {\"Unnamed: 0\": null, \"between_days\": \"2012-03-09T00:00:00\", \"c_uniqueUnitID\": \"2011_BRP_CCB_S1016_Dep20_20110217_PU0209_FD02000_CCB20\", \"Transect\": 50.0, \"DataAvail\": \"Acoustic\"}, {\"Unnamed: 0\": null, \"between_days\": \"2012-03-10T00:00:00\", \"c_uniqueUnitID\": \"2011_BRP_CCB_S1016_Dep20_20110217_PU0211_FD02002_CCB20\", \"Transect\": 50.0, \"DataAvail\": \"Acoustic\"}, {\"Unnamed: 0\": null, \"between_days\": \"2012-03-11T00:00:00\", \"c_uniqueUnitID\": \"2011_BRP_CCB_S1016_Dep20_20110217_PU0212_FD02016_CCB20\", \"Transect\": 50.0, \"DataAvail\": \"Acoustic\"}, {\"Unnamed: 0\": null, \"between_days\": \"2012-03-12T00:00:00\", \"c_uniqueUnitID\": \"2011_BRP_CCB_S1016_Dep20_20110217_PU0213_FD02010_CCB20\", \"Transect\": 50.0, \"DataAvail\": \"Acoustic\"}, {\"Unnamed: 0\": null, \"between_days\": \"2012-03-13T00:00:00\", \"c_uniqueUnitID\": \"2011_BRP_CCB_S1016_Dep20_20110217_PU0205_FD02018_CCB20\", \"Transect\": 50.0, \"DataAvail\": \"Acoustic\"}, {\"Unnamed: 0\": null, \"between_days\": \"2012-03-14T00:00:00\", \"c_uniqueUnitID\": \"2011_BRP_CCB_S1016_Dep20_20110217_PU0206_FD02008_CCB20\", \"Transect\": 50.0, \"DataAvail\": \"Acoustic\"}, {\"Unnamed: 0\": null, \"between_days\": \"2012-03-15T00:00:00\", \"c_uniqueUnitID\": \"2011_BRP_CCB_S1016_Dep20_20110217_PU0207_FD02006_CCB20\", \"Transect\": 50.0, \"DataAvail\": \"Acoustic\"}, {\"Unnamed: 0\": null, \"between_days\": \"2012-03-16T00:00:00\", \"c_uniqueUnitID\": \"2011_BRP_CCB_S1016_Dep20_20110217_PU0208_FD02020_CCB20\", \"Transect\": 50.0, \"DataAvail\": \"Acoustic\"}, {\"Unnamed: 0\": null, \"between_days\": \"2012-03-17T00:00:00\", \"c_uniqueUnitID\": \"2011_BRP_CCB_S1016_Dep20_20110217_PU0209_FD02000_CCB20\", \"Transect\": 50.0, \"DataAvail\": \"Acoustic\"}, {\"Unnamed: 0\": null, \"between_days\": \"2012-03-18T00:00:00\", \"c_uniqueUnitID\": \"2011_BRP_CCB_S1016_Dep20_20110217_PU0211_FD02002_CCB20\", \"Transect\": 50.0, \"DataAvail\": \"Acoustic\"}, {\"Unnamed: 0\": null, \"between_days\": \"2012-03-19T00:00:00\", \"c_uniqueUnitID\": \"2011_BRP_CCB_S1016_Dep20_20110217_PU0212_FD02016_CCB20\", \"Transect\": 50.0, \"DataAvail\": \"Acoustic\"}, {\"Unnamed: 0\": null, \"between_days\": \"2012-03-20T00:00:00\", \"c_uniqueUnitID\": \"2011_BRP_CCB_S1016_Dep20_20110217_PU0213_FD02010_CCB20\", \"Transect\": 50.0, \"DataAvail\": \"Acoustic\"}, {\"Unnamed: 0\": null, \"between_days\": \"2012-03-21T00:00:00\", \"c_uniqueUnitID\": \"2011_BRP_CCB_S1016_Dep20_20110217_PU0205_FD02018_CCB20\", \"Transect\": 50.0, \"DataAvail\": \"Acoustic\"}, {\"Unnamed: 0\": null, \"between_days\": \"2012-03-22T00:00:00\", \"c_uniqueUnitID\": \"2011_BRP_CCB_S1016_Dep20_20110217_PU0206_FD02008_CCB20\", \"Transect\": 50.0, \"DataAvail\": \"Acoustic\"}, {\"Unnamed: 0\": null, \"between_days\": \"2012-03-23T00:00:00\", \"c_uniqueUnitID\": \"2011_BRP_CCB_S1016_Dep20_20110217_PU0207_FD02006_CCB20\", \"Transect\": 50.0, \"DataAvail\": \"Acoustic\"}, {\"Unnamed: 0\": null, \"between_days\": \"2012-03-24T00:00:00\", \"c_uniqueUnitID\": \"2011_BRP_CCB_S1016_Dep20_20110217_PU0208_FD02020_CCB20\", \"Transect\": 50.0, \"DataAvail\": \"Acoustic\"}, {\"Unnamed: 0\": null, \"between_days\": \"2012-03-25T00:00:00\", \"c_uniqueUnitID\": \"2011_BRP_CCB_S1016_Dep20_20110217_PU0209_FD02000_CCB20\", \"Transect\": null, \"DataAvail\": \"Acoustic\"}, {\"Unnamed: 0\": null, \"between_days\": \"2012-03-26T00:00:00\", \"c_uniqueUnitID\": \"2011_BRP_CCB_S1016_Dep20_20110217_PU0211_FD02002_CCB20\", \"Transect\": null, \"DataAvail\": \"Acoustic\"}, {\"Unnamed: 0\": null, \"between_days\": \"2012-03-27T00:00:00\", \"c_uniqueUnitID\": \"2011_BRP_CCB_S1016_Dep20_20110217_PU0212_FD02016_CCB20\", \"Transect\": null, \"DataAvail\": \"Acoustic\"}, {\"Unnamed: 0\": null, \"between_days\": \"2012-03-28T00:00:00\", \"c_uniqueUnitID\": \"2011_BRP_CCB_S1016_Dep20_20110217_PU0213_FD02010_CCB20\", \"Transect\": null, \"DataAvail\": \"Acoustic\"}, {\"Unnamed: 0\": null, \"between_days\": \"2012-03-29T00:00:00\", \"c_uniqueUnitID\": \"2011_BRP_CCB_S1016_Dep20_20110217_PU0205_FD02018_CCB20\", \"Transect\": null, \"DataAvail\": \"Acoustic\"}, {\"Unnamed: 0\": null, \"between_days\": \"2012-03-30T00:00:00\", \"c_uniqueUnitID\": \"2011_BRP_CCB_S1016_Dep20_20110217_PU0206_FD02008_CCB20\", \"Transect\": null, \"DataAvail\": \"Acoustic\"}, {\"Unnamed: 0\": null, \"between_days\": \"2012-03-31T00:00:00\", \"c_uniqueUnitID\": \"2011_BRP_CCB_S1016_Dep20_20110217_PU0207_FD02006_CCB20\", \"Transect\": null, \"DataAvail\": \"Acoustic\"}, {\"Unnamed: 0\": null, \"between_days\": \"2012-04-01T00:00:00\", \"c_uniqueUnitID\": \"2011_BRP_CCB_S1016_Dep20_20110217_PU0208_FD02020_CCB20\", \"Transect\": null, \"DataAvail\": \"Acoustic\"}, {\"Unnamed: 0\": null, \"between_days\": \"2012-04-02T00:00:00\", \"c_uniqueUnitID\": \"2011_BRP_CCB_S1016_Dep20_20110217_PU0209_FD02000_CCB20\", \"Transect\": null, \"DataAvail\": \"Acoustic\"}, {\"Unnamed: 0\": null, \"between_days\": \"2012-04-03T00:00:00\", \"c_uniqueUnitID\": \"2011_BRP_CCB_S1016_Dep20_20110217_PU0211_FD02002_CCB20\", \"Transect\": null, \"DataAvail\": \"Acoustic\"}, {\"Unnamed: 0\": null, \"between_days\": \"2012-04-04T00:00:00\", \"c_uniqueUnitID\": \"2011_BRP_CCB_S1016_Dep20_20110217_PU0212_FD02016_CCB20\", \"Transect\": null, \"DataAvail\": \"Acoustic\"}, {\"Unnamed: 0\": null, \"between_days\": \"2012-04-05T00:00:00\", \"c_uniqueUnitID\": \"2011_BRP_CCB_S1016_Dep20_20110217_PU0213_FD02010_CCB20\", \"Transect\": null, \"DataAvail\": \"Acoustic\"}, {\"Unnamed: 0\": null, \"between_days\": \"2012-04-06T00:00:00\", \"c_uniqueUnitID\": \"2011_BRP_CCB_S1016_Dep20_20110217_PU0205_FD02018_CCB20\", \"Transect\": null, \"DataAvail\": \"Acoustic\"}, {\"Unnamed: 0\": null, \"between_days\": \"2012-04-07T00:00:00\", \"c_uniqueUnitID\": \"2011_BRP_CCB_S1016_Dep20_20110217_PU0206_FD02008_CCB20\", \"Transect\": null, \"DataAvail\": \"Acoustic\"}, {\"Unnamed: 0\": null, \"between_days\": \"2012-04-08T00:00:00\", \"c_uniqueUnitID\": \"2011_BRP_CCB_S1016_Dep20_20110217_PU0207_FD02006_CCB20\", \"Transect\": null, \"DataAvail\": \"Acoustic\"}, {\"Unnamed: 0\": null, \"between_days\": \"2012-04-09T00:00:00\", \"c_uniqueUnitID\": \"2011_BRP_CCB_S1016_Dep20_20110217_PU0208_FD02020_CCB20\", \"Transect\": null, \"DataAvail\": \"Acoustic\"}, {\"Unnamed: 0\": null, \"between_days\": \"2012-04-10T00:00:00\", \"c_uniqueUnitID\": \"2011_BRP_CCB_S1016_Dep20_20110217_PU0209_FD02000_CCB20\", \"Transect\": null, \"DataAvail\": \"Acoustic\"}, {\"Unnamed: 0\": null, \"between_days\": \"2012-04-11T00:00:00\", \"c_uniqueUnitID\": \"2011_BRP_CCB_S1016_Dep20_20110217_PU0211_FD02002_CCB20\", \"Transect\": null, \"DataAvail\": \"Acoustic\"}, {\"Unnamed: 0\": null, \"between_days\": \"2012-04-12T00:00:00\", \"c_uniqueUnitID\": \"2011_BRP_CCB_S1016_Dep20_20110217_PU0212_FD02016_CCB20\", \"Transect\": null, \"DataAvail\": \"Acoustic\"}, {\"Unnamed: 0\": null, \"between_days\": \"2012-04-13T00:00:00\", \"c_uniqueUnitID\": \"2011_BRP_CCB_S1016_Dep20_20110217_PU0213_FD02010_CCB20\", \"Transect\": null, \"DataAvail\": \"Acoustic\"}, {\"Unnamed: 0\": null, \"between_days\": \"2012-04-14T00:00:00\", \"c_uniqueUnitID\": \"2011_BRP_CCB_S1016_Dep20_20110217_PU0205_FD02018_CCB20\", \"Transect\": null, \"DataAvail\": \"Acoustic\"}, {\"Unnamed: 0\": null, \"between_days\": \"2012-04-15T00:00:00\", \"c_uniqueUnitID\": \"2011_BRP_CCB_S1016_Dep20_20110217_PU0206_FD02008_CCB20\", \"Transect\": null, \"DataAvail\": \"Acoustic\"}, {\"Unnamed: 0\": null, \"between_days\": \"2012-04-16T00:00:00\", \"c_uniqueUnitID\": \"2011_BRP_CCB_S1016_Dep20_20110217_PU0207_FD02006_CCB20\", \"Transect\": null, \"DataAvail\": \"Acoustic\"}, {\"Unnamed: 0\": null, \"between_days\": \"2012-04-17T00:00:00\", \"c_uniqueUnitID\": \"2011_BRP_CCB_S1016_Dep20_20110217_PU0208_FD02020_CCB20\", \"Transect\": null, \"DataAvail\": \"Acoustic\"}, {\"Unnamed: 0\": null, \"between_days\": \"2012-04-18T00:00:00\", \"c_uniqueUnitID\": \"2011_BRP_CCB_S1016_Dep20_20110217_PU0209_FD02000_CCB20\", \"Transect\": null, \"DataAvail\": \"Acoustic\"}, {\"Unnamed: 0\": null, \"between_days\": \"2012-04-19T00:00:00\", \"c_uniqueUnitID\": \"2011_BRP_CCB_S1016_Dep20_20110217_PU0211_FD02002_CCB20\", \"Transect\": null, \"DataAvail\": \"Acoustic\"}, {\"Unnamed: 0\": null, \"between_days\": \"2012-04-20T00:00:00\", \"c_uniqueUnitID\": \"2011_BRP_CCB_S1016_Dep20_20110217_PU0212_FD02016_CCB20\", \"Transect\": null, \"DataAvail\": \"Acoustic\"}, {\"Unnamed: 0\": null, \"between_days\": \"2012-04-21T00:00:00\", \"c_uniqueUnitID\": \"2011_BRP_CCB_S1016_Dep20_20110217_PU0213_FD02010_CCB20\", \"Transect\": null, \"DataAvail\": \"Acoustic\"}, {\"Unnamed: 0\": null, \"between_days\": \"2012-04-22T00:00:00\", \"c_uniqueUnitID\": \"2011_BRP_CCB_S1016_Dep20_20110217_PU0205_FD02018_CCB20\", \"Transect\": null, \"DataAvail\": \"Acoustic\"}, {\"Unnamed: 0\": null, \"between_days\": \"2012-04-23T00:00:00\", \"c_uniqueUnitID\": \"2011_BRP_CCB_S1016_Dep20_20110217_PU0206_FD02008_CCB20\", \"Transect\": null, \"DataAvail\": \"Acoustic\"}, {\"Unnamed: 0\": null, \"between_days\": \"2012-04-24T00:00:00\", \"c_uniqueUnitID\": \"2011_BRP_CCB_S1016_Dep20_20110217_PU0207_FD02006_CCB20\", \"Transect\": null, \"DataAvail\": \"Acoustic\"}, {\"Unnamed: 0\": null, \"between_days\": \"2012-04-25T00:00:00\", \"c_uniqueUnitID\": \"2011_BRP_CCB_S1016_Dep20_20110217_PU0208_FD02020_CCB20\", \"Transect\": null, \"DataAvail\": \"Acoustic\"}, {\"Unnamed: 0\": null, \"between_days\": \"2012-04-26T00:00:00\", \"c_uniqueUnitID\": \"2011_BRP_CCB_S1016_Dep20_20110217_PU0209_FD02000_CCB20\", \"Transect\": null, \"DataAvail\": \"Acoustic\"}, {\"Unnamed: 0\": null, \"between_days\": \"2012-04-27T00:00:00\", \"c_uniqueUnitID\": \"2011_BRP_CCB_S1016_Dep20_20110217_PU0211_FD02002_CCB20\", \"Transect\": null, \"DataAvail\": \"Acoustic\"}, {\"Unnamed: 0\": null, \"between_days\": \"2012-04-28T00:00:00\", \"c_uniqueUnitID\": \"2011_BRP_CCB_S1016_Dep20_20110217_PU0212_FD02016_CCB20\", \"Transect\": null, \"DataAvail\": \"Acoustic\"}, {\"Unnamed: 0\": null, \"between_days\": \"2012-04-29T00:00:00\", \"c_uniqueUnitID\": \"2011_BRP_CCB_S1016_Dep20_20110217_PU0213_FD02010_CCB20\", \"Transect\": null, \"DataAvail\": \"Acoustic\"}, {\"Unnamed: 0\": null, \"between_days\": \"2012-04-30T00:00:00\", \"c_uniqueUnitID\": \"2011_BRP_CCB_S1016_Dep20_20110217_PU0205_FD02018_CCB20\", \"Transect\": null, \"DataAvail\": \"Acoustic\"}, {\"Unnamed: 0\": null, \"between_days\": \"2012-05-01T00:00:00\", \"c_uniqueUnitID\": \"2011_BRP_CCB_S1016_Dep20_20110217_PU0206_FD02008_CCB20\", \"Transect\": null, \"DataAvail\": \"Acoustic\"}, {\"Unnamed: 0\": null, \"between_days\": \"2012-05-02T00:00:00\", \"c_uniqueUnitID\": \"2011_BRP_CCB_S1016_Dep20_20110217_PU0207_FD02006_CCB20\", \"Transect\": null, \"DataAvail\": \"Acoustic\"}, {\"Unnamed: 0\": null, \"between_days\": \"2012-05-03T00:00:00\", \"c_uniqueUnitID\": \"2011_BRP_CCB_S1016_Dep20_20110217_PU0208_FD02020_CCB20\", \"Transect\": null, \"DataAvail\": \"Acoustic\"}, {\"Unnamed: 0\": null, \"between_days\": \"2012-05-04T00:00:00\", \"c_uniqueUnitID\": \"2011_BRP_CCB_S1016_Dep20_20110217_PU0209_FD02000_CCB20\", \"Transect\": null, \"DataAvail\": \"Acoustic\"}, {\"Unnamed: 0\": null, \"between_days\": \"2012-05-05T00:00:00\", \"c_uniqueUnitID\": \"2011_BRP_CCB_S1016_Dep20_20110217_PU0211_FD02002_CCB20\", \"Transect\": null, \"DataAvail\": \"Acoustic\"}, {\"Unnamed: 0\": null, \"between_days\": \"2012-05-06T00:00:00\", \"c_uniqueUnitID\": \"2011_BRP_CCB_S1016_Dep20_20110217_PU0212_FD02016_CCB20\", \"Transect\": null, \"DataAvail\": \"Acoustic\"}, {\"Unnamed: 0\": null, \"between_days\": \"2012-05-07T00:00:00\", \"c_uniqueUnitID\": \"2011_BRP_CCB_S1016_Dep20_20110217_PU0213_FD02010_CCB20\", \"Transect\": null, \"DataAvail\": \"Acoustic\"}, {\"Unnamed: 0\": null, \"between_days\": \"2012-05-08T00:00:00\", \"c_uniqueUnitID\": \"2011_BRP_CCB_S1016_Dep20_20110217_PU0205_FD02018_CCB20\", \"Transect\": null, \"DataAvail\": \"Acoustic\"}, {\"Unnamed: 0\": null, \"between_days\": \"2012-05-09T00:00:00\", \"c_uniqueUnitID\": \"2011_BRP_CCB_S1016_Dep20_20110217_PU0206_FD02008_CCB20\", \"Transect\": null, \"DataAvail\": \"Acoustic\"}, {\"Unnamed: 0\": null, \"between_days\": \"2012-05-10T00:00:00\", \"c_uniqueUnitID\": \"2011_BRP_CCB_S1016_Dep20_20110217_PU0207_FD02006_CCB20\", \"Transect\": null, \"DataAvail\": \"Acoustic\"}, {\"Unnamed: 0\": null, \"between_days\": \"2012-05-11T00:00:00\", \"c_uniqueUnitID\": \"2011_BRP_CCB_S1016_Dep20_20110217_PU0208_FD02020_CCB20\", \"Transect\": null, \"DataAvail\": \"Acoustic\"}, {\"Unnamed: 0\": null, \"between_days\": \"2012-05-12T00:00:00\", \"c_uniqueUnitID\": \"2011_BRP_CCB_S1016_Dep20_20110217_PU0209_FD02000_CCB20\", \"Transect\": null, \"DataAvail\": \"Acoustic\"}, {\"Unnamed: 0\": null, \"between_days\": \"2012-05-13T00:00:00\", \"c_uniqueUnitID\": \"2011_BRP_CCB_S1016_Dep20_20110217_PU0211_FD02002_CCB20\", \"Transect\": null, \"DataAvail\": \"Acoustic\"}, {\"Unnamed: 0\": null, \"between_days\": \"2012-05-14T00:00:00\", \"c_uniqueUnitID\": \"2011_BRP_CCB_S1016_Dep20_20110217_PU0212_FD02016_CCB20\", \"Transect\": null, \"DataAvail\": \"Acoustic\"}, {\"Unnamed: 0\": null, \"between_days\": \"2012-05-15T00:00:00\", \"c_uniqueUnitID\": \"2011_BRP_CCB_S1016_Dep20_20110217_PU0213_FD02010_CCB20\", \"Transect\": null, \"DataAvail\": \"Acoustic\"}, {\"Unnamed: 0\": null, \"between_days\": \"2012-05-16T00:00:00\", \"c_uniqueUnitID\": \"2011_BRP_CCB_S1016_Dep20_20110217_PU0205_FD02018_CCB20\", \"Transect\": null, \"DataAvail\": \"Acoustic\"}, {\"Unnamed: 0\": null, \"between_days\": \"2012-05-17T00:00:00\", \"c_uniqueUnitID\": \"2011_BRP_CCB_S1016_Dep20_20110217_PU0206_FD02008_CCB20\", \"Transect\": null, \"DataAvail\": \"Acoustic\"}, {\"Unnamed: 0\": null, \"between_days\": \"2012-05-18T00:00:00\", \"c_uniqueUnitID\": \"2011_BRP_CCB_S1016_Dep20_20110217_PU0207_FD02006_CCB20\", \"Transect\": null, \"DataAvail\": \"Acoustic\"}, {\"Unnamed: 0\": null, \"between_days\": \"2012-05-19T00:00:00\", \"c_uniqueUnitID\": \"2011_BRP_CCB_S1016_Dep20_20110217_PU0208_FD02020_CCB20\", \"Transect\": null, \"DataAvail\": \"Acoustic\"}, {\"Unnamed: 0\": null, \"between_days\": \"2012-05-20T00:00:00\", \"c_uniqueUnitID\": \"2011_BRP_CCB_S1016_Dep20_20110217_PU0209_FD02000_CCB20\", \"Transect\": null, \"DataAvail\": \"Acoustic\"}, {\"Unnamed: 0\": null, \"between_days\": \"2012-05-21T00:00:00\", \"c_uniqueUnitID\": \"2011_BRP_CCB_S1016_Dep20_20110217_PU0211_FD02002_CCB20\", \"Transect\": null, \"DataAvail\": \"Acoustic\"}, {\"Unnamed: 0\": null, \"between_days\": \"2012-05-22T00:00:00\", \"c_uniqueUnitID\": \"2011_BRP_CCB_S1016_Dep20_20110217_PU0212_FD02016_CCB20\", \"Transect\": null, \"DataAvail\": \"Acoustic\"}, {\"Unnamed: 0\": null, \"between_days\": \"2012-05-23T00:00:00\", \"c_uniqueUnitID\": \"2011_BRP_CCB_S1016_Dep20_20110217_PU0213_FD02010_CCB20\", \"Transect\": null, \"DataAvail\": \"Acoustic\"}]}}, {\"mode\": \"vega-lite\"});\n",
       "</script>"
      ],
      "text/plain": [
       "alt.FacetChart(...)"
      ]
     },
     "execution_count": 14,
     "metadata": {},
     "output_type": "execute_result"
    }
   ],
   "source": [
    "# plot prey and acoustic data availability in Jan and Feb\n",
    "alt.Chart(CCB_fake).mark_rect().encode(\n",
    "    x = alt.X('date(between_days):O'), # dif btwn year(btwn_days) and btwndays, timUnit\n",
    "    y = alt.Y('DataAvail:N'),\n",
    "    color = 'DataAvail:N'\n",
    ").properties(\n",
    "    width = 500,\n",
    "    height = 50\n",
    ").facet(\n",
    "    row = 'year(between_days)')\n",
    "\n"
   ]
  },
  {
   "cell_type": "code",
   "execution_count": null,
   "metadata": {},
   "outputs": [],
   "source": []
  }
 ],
 "metadata": {
  "kernelspec": {
   "display_name": "Python 3",
   "language": "python",
   "name": "python3"
  },
  "language_info": {
   "codemirror_mode": {
    "name": "ipython",
    "version": 3
   },
   "file_extension": ".py",
   "mimetype": "text/x-python",
   "name": "python",
   "nbconvert_exporter": "python",
   "pygments_lexer": "ipython3",
   "version": "3.7.7"
  }
 },
 "nbformat": 4,
 "nbformat_minor": 4
}
