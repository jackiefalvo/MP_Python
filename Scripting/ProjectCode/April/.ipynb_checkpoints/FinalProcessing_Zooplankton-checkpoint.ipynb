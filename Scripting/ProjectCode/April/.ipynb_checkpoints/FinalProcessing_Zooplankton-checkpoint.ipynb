{
 "cells": [
  {
   "cell_type": "markdown",
   "id": "little-hostel",
   "metadata": {},
   "source": [
    "### Final Data Processing -- Zooplankton Data (CCS zooplankton surveys conducted between 2008 and 2018)\n",
    "\n",
    "This script takes the zooplankton survey dates CSV (2008-2018) and reformats it for plotting."
   ]
  },
  {
   "cell_type": "code",
   "execution_count": 2,
   "id": "massive-eagle",
   "metadata": {},
   "outputs": [],
   "source": [
    "import pandas as pd"
   ]
  },
  {
   "cell_type": "code",
   "execution_count": 4,
   "id": "digital-elephant",
   "metadata": {},
   "outputs": [
    {
     "data": {
      "text/html": [
       "<div>\n",
       "<style scoped>\n",
       "    .dataframe tbody tr th:only-of-type {\n",
       "        vertical-align: middle;\n",
       "    }\n",
       "\n",
       "    .dataframe tbody tr th {\n",
       "        vertical-align: top;\n",
       "    }\n",
       "\n",
       "    .dataframe thead th {\n",
       "        text-align: right;\n",
       "    }\n",
       "</style>\n",
       "<table border=\"1\" class=\"dataframe\">\n",
       "  <thead>\n",
       "    <tr style=\"text-align: right;\">\n",
       "      <th></th>\n",
       "      <th>Date</th>\n",
       "      <th>DataType</th>\n",
       "    </tr>\n",
       "  </thead>\n",
       "  <tbody>\n",
       "    <tr>\n",
       "      <th>0</th>\n",
       "      <td>2011-02-17</td>\n",
       "      <td>zooplankton</td>\n",
       "    </tr>\n",
       "    <tr>\n",
       "      <th>1</th>\n",
       "      <td>2011-02-24</td>\n",
       "      <td>zooplankton</td>\n",
       "    </tr>\n",
       "    <tr>\n",
       "      <th>2</th>\n",
       "      <td>2011-03-17</td>\n",
       "      <td>zooplankton</td>\n",
       "    </tr>\n",
       "    <tr>\n",
       "      <th>3</th>\n",
       "      <td>2011-04-19</td>\n",
       "      <td>zooplankton</td>\n",
       "    </tr>\n",
       "    <tr>\n",
       "      <th>4</th>\n",
       "      <td>2011-04-25</td>\n",
       "      <td>zooplankton</td>\n",
       "    </tr>\n",
       "    <tr>\n",
       "      <th>...</th>\n",
       "      <td>...</td>\n",
       "      <td>...</td>\n",
       "    </tr>\n",
       "    <tr>\n",
       "      <th>64</th>\n",
       "      <td>2018-04-13</td>\n",
       "      <td>zooplankton</td>\n",
       "    </tr>\n",
       "    <tr>\n",
       "      <th>65</th>\n",
       "      <td>2018-04-22</td>\n",
       "      <td>zooplankton</td>\n",
       "    </tr>\n",
       "    <tr>\n",
       "      <th>66</th>\n",
       "      <td>2018-04-27</td>\n",
       "      <td>zooplankton</td>\n",
       "    </tr>\n",
       "    <tr>\n",
       "      <th>67</th>\n",
       "      <td>2018-04-30</td>\n",
       "      <td>zooplankton</td>\n",
       "    </tr>\n",
       "    <tr>\n",
       "      <th>68</th>\n",
       "      <td>2018-05-06</td>\n",
       "      <td>zooplankton</td>\n",
       "    </tr>\n",
       "  </tbody>\n",
       "</table>\n",
       "<p>69 rows × 2 columns</p>\n",
       "</div>"
      ],
      "text/plain": [
       "         Date     DataType\n",
       "0  2011-02-17  zooplankton\n",
       "1  2011-02-24  zooplankton\n",
       "2  2011-03-17  zooplankton\n",
       "3  2011-04-19  zooplankton\n",
       "4  2011-04-25  zooplankton\n",
       "..        ...          ...\n",
       "64 2018-04-13  zooplankton\n",
       "65 2018-04-22  zooplankton\n",
       "66 2018-04-27  zooplankton\n",
       "67 2018-04-30  zooplankton\n",
       "68 2018-05-06  zooplankton\n",
       "\n",
       "[69 rows x 2 columns]"
      ]
     },
     "execution_count": 4,
     "metadata": {},
     "output_type": "execute_result"
    }
   ],
   "source": [
    "# read in zooplank data (pre cleaned in google sheets) - spatial data?\n",
    "zooplank = pd.read_csv('/Users/cristiana/Documents/Duke/MP/Python/Data/Processed/Zooplankton_clean.csv',\n",
    "                    parse_dates = ['Date'])\n",
    "\n",
    "zooplank"
   ]
  }
 ],
 "metadata": {
  "kernelspec": {
   "display_name": "Python 3",
   "language": "python",
   "name": "python3"
  },
  "language_info": {
   "codemirror_mode": {
    "name": "ipython",
    "version": 3
   },
   "file_extension": ".py",
   "mimetype": "text/x-python",
   "name": "python",
   "nbconvert_exporter": "python",
   "pygments_lexer": "ipython3",
   "version": "3.7.7"
  }
 },
 "nbformat": 4,
 "nbformat_minor": 5
}
