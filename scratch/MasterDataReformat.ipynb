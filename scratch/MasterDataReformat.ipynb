{
 "cells": [
  {
   "cell_type": "markdown",
   "metadata": {},
   "source": [
    "This Script:\n",
    "- brings in **acoustic data**\n",
    "    - explodes between days\n",
    "- makes a **test date range** (Jan 1 - Feb 28 2011)\n",
    "    - left joins (cleaned, less columns) acoustic data to test date range \n",
    "        --> **Acou_JanFeb**\n",
    "- creates **fake prey data**\n",
    "    - left joins **fake prey data** to **Acou_JanFeb** \n",
    "        --> **CCB_JanFeb**\n",
    "- made some plots of Jan/Feb\n",
    "- attempted to create new column that describes data availability/overlap"
   ]
  },
  {
   "cell_type": "code",
   "execution_count": null,
   "metadata": {},
   "outputs": [],
   "source": [
    "import pandas as pd\n",
    "import altair as alt\n",
    "import os\n",
    "import numpy as np"
   ]
  },
  {
   "cell_type": "code",
   "execution_count": null,
   "metadata": {},
   "outputs": [],
   "source": [
    "os.chdir('/Users/cristiana/Documents/Duke/MP/Python')"
   ]
  },
  {
   "cell_type": "code",
   "execution_count": null,
   "metadata": {},
   "outputs": [],
   "source": [
    "# read in CCB Acoustic metadata, parse date columns\n",
    "ccb = pd.read_csv('./Data/CCB Metadata.csv', \n",
    "                 sep=',', \n",
    "                 encoding='utf-8',\n",
    "                 parse_dates = ['deployDate','recoveryDate'])\n",
    "\n",
    "ccb.head()"
   ]
  },
  {
   "cell_type": "code",
   "execution_count": null,
   "metadata": {},
   "outputs": [],
   "source": [
    "# add between days column, explode out (row for each day)\n",
    "ccb['between_days'] = ccb.apply(lambda row: pd.date_range(row['deployDate'],row['recoveryDate'],freq='D'), axis=1)\n",
    "ccb_days = ccb.explode('between_days')\n",
    "ccb_days"
   ]
  },
  {
   "cell_type": "markdown",
   "metadata": {},
   "source": [
    "### Create new dataframe with test date range (Jan-Feb of 2011)"
   ]
  },
  {
   "cell_type": "code",
   "execution_count": null,
   "metadata": {},
   "outputs": [],
   "source": [
    "# create date range for full time period and add it to dataframe (will test with Jan-Feb 2011)\n",
    "start_date = '2011-01-01'\n",
    "end_date = '2011-02-28'\n",
    "\n",
    "JanFeb2011 = pd.DataFrame({'between_days':pd.date_range(start_date, end_date)})\n",
    "JanFeb2011.info()"
   ]
  },
  {
   "cell_type": "code",
   "execution_count": null,
   "metadata": {},
   "outputs": [],
   "source": [
    "# join ccb data to JanFeb date range\n",
    "JanFeb_ccb = JanFeb2011.merge(ccb_days, on = 'between_days', how = 'left')\n",
    "JanFeb_ccb"
   ]
  },
  {
   "cell_type": "code",
   "execution_count": null,
   "metadata": {},
   "outputs": [],
   "source": [
    "#pd.DataFrame.to_csv(JanFeb_ccb, \"./scratch/JanFeb_ccb.csv\")"
   ]
  },
  {
   "cell_type": "markdown",
   "metadata": {},
   "source": [
    "### Create example prey data"
   ]
  },
  {
   "cell_type": "code",
   "execution_count": null,
   "metadata": {},
   "outputs": [],
   "source": [
    "# create fake prey data (add between days column, explode out (row for each day))\n",
    "# (fake prey = Jan03 - Feb03, 2011)\n",
    "prey_count = 40\n",
    "prey_start = '2011-01-03'\n",
    "prey_end = '2011-02-03'\n",
    "\n",
    "prey = pd.DataFrame({'Transect': prey_count,\n",
    "                    'between_days': pd.date_range(prey_start, prey_end)})\n",
    "prey.head()"
   ]
  },
  {
   "cell_type": "markdown",
   "metadata": {},
   "source": [
    "### Clean acoustic data"
   ]
  },
  {
   "cell_type": "code",
   "execution_count": null,
   "metadata": {},
   "outputs": [],
   "source": [
    "ccb_days.head()"
   ]
  },
  {
   "cell_type": "code",
   "execution_count": null,
   "metadata": {},
   "outputs": [],
   "source": [
    "# select essential columns of acoustic data\n",
    "Acoustic_clean = ccb_days[['c_uniqueUnitID', 'between_days']]\n",
    "Acoustic_clean"
   ]
  },
  {
   "cell_type": "code",
   "execution_count": null,
   "metadata": {},
   "outputs": [],
   "source": [
    "# join clean acoustic data to test (JanFeb) date range\n",
    "acou_JanFeb = JanFeb2011.merge(Acoustic_clean, on = 'between_days', how = 'left')\n",
    "acou_JanFeb"
   ]
  },
  {
   "cell_type": "code",
   "execution_count": null,
   "metadata": {},
   "outputs": [],
   "source": [
    "# join Acou_JanFeb to fake prey data\n",
    "CCB_JanFeb = acou_JanFeb.merge(prey, on = 'between_days', how = 'left')\n",
    "CCB_JanFeb"
   ]
  },
  {
   "cell_type": "code",
   "execution_count": null,
   "metadata": {},
   "outputs": [],
   "source": [
    "CCB_JanFeb.dtypes"
   ]
  },
  {
   "cell_type": "code",
   "execution_count": null,
   "metadata": {},
   "outputs": [],
   "source": [
    "CCB_JanFeb['c_uniqueUnitID'].astype('str')"
   ]
  },
  {
   "cell_type": "code",
   "execution_count": null,
   "metadata": {},
   "outputs": [],
   "source": [
    "CCB_JanFeb.info()"
   ]
  },
  {
   "cell_type": "code",
   "execution_count": null,
   "metadata": {},
   "outputs": [],
   "source": [
    "type(CCB_JanFeb['c_uniqueUnitID'][1])"
   ]
  },
  {
   "cell_type": "markdown",
   "metadata": {},
   "source": [
    "### Try to list data availability/overlap in one column"
   ]
  },
  {
   "cell_type": "code",
   "execution_count": null,
   "metadata": {},
   "outputs": [],
   "source": [
    "CCB_JanFeb['Transect']"
   ]
  },
  {
   "cell_type": "code",
   "execution_count": null,
   "metadata": {},
   "outputs": [],
   "source": [
    "for x in CCB_JanFeb['Transect']:\n",
    "    print(x, type(x))"
   ]
  },
  {
   "cell_type": "code",
   "execution_count": null,
   "metadata": {},
   "outputs": [],
   "source": [
    "CCB_JanFeb['DataAvail'] = ['No' if x == 'nan' else 'Yes' for x in CCB_JanFeb['Transect']] \n",
    "CCB_JanFeb"
   ]
  },
  {
   "cell_type": "code",
   "execution_count": null,
   "metadata": {},
   "outputs": [],
   "source": [
    "# create conditions\n",
    "conditions = [\n",
    "        (CCB_JanFeb['c_uniqueUnitID'] == 'NaN') & (CCB_JanFeb['Transect'] == 'NaN'),\n",
    "        (CCB_JanFeb['c_uniqueUnitID'] != 'NaN') & (CCB_JanFeb['Transect'] != 'NaN'),\n",
    "        (CCB_JanFeb['c_uniqueUnitID'] == 'NaN') & (CCB_JanFeb['Transect'] != 'NaN'),\n",
    "        (CCB_JanFeb['c_uniqueUnitID'] != 'NaN') & (CCB_JanFeb['Transect'] == 'NaN')]\n",
    "\n",
    "# create resulting values for conditions\n",
    "values = ['No Data', 'Both', 'Prey', 'Acoustic']\n",
    "\n",
    "# create column to fill\n",
    "CCB_JanFeb['DataAvailability'] = np.select(conditions, values)\n",
    "\n",
    "CCB_JanFeb"
   ]
  },
  {
   "cell_type": "code",
   "execution_count": null,
   "metadata": {},
   "outputs": [],
   "source": [
    "# create a list of our conditions\n",
    "conditions = [\n",
    "    (df['likes_count'] <= 2),\n",
    "    (df['likes_count'] > 2) & (df['likes_count'] <= 9),\n",
    "    (df['likes_count'] > 9) & (df['likes_count'] <= 15),\n",
    "    (df['likes_count'] > 15)\n",
    "    ]\n",
    "\n",
    "# create a list of the values we want to assign for each condition\n",
    "values = ['tier_4', 'tier_3', 'tier_2', 'tier_1']\n",
    "\n",
    "# create a new column and use np.select to assign values to it using our lists as arguments\n",
    "df['tier'] = np.select(conditions, values)\n",
    "\n",
    "# display updated DataFrame\n",
    "df.head()"
   ]
  },
  {
   "cell_type": "markdown",
   "metadata": {},
   "source": [
    "### Plahts"
   ]
  },
  {
   "cell_type": "code",
   "execution_count": null,
   "metadata": {},
   "outputs": [],
   "source": [
    "# plot prey and acoustic data availability in Jan and Feb\n",
    "alt.Chart(CCB_JanFeb).mark_rect().encode(\n",
    "    x = alt.X('between_days:T', timeUnit = 'monthdate'), # dif btwn year(btwn_days) and btwndays, timUnit\n",
    "    color = 'Transect:N'\n",
    ").properties(\n",
    "    width = 500,\n",
    "    height = 50\n",
    ").facet(\n",
    "    row = 'month(between_days)')\n",
    "\n"
   ]
  },
  {
   "cell_type": "code",
   "execution_count": null,
   "metadata": {},
   "outputs": [],
   "source": [
    "# plot prey and acoustic data availability in Jan and Feb\n",
    "alt.Chart(CCB_JanFeb).mark_rect().encode(\n",
    "    x = alt.X('date(between_days):O'), # dif btwn year(btwn_days) and btwndays, timUnit\n",
    "    color = 'DataAvailability:N'\n",
    ").properties(\n",
    "    width = 500,\n",
    "    height = 50\n",
    ").facet(\n",
    "    row = 'month(between_days)')\n",
    "\n"
   ]
  },
  {
   "cell_type": "code",
   "execution_count": null,
   "metadata": {},
   "outputs": [],
   "source": []
  }
 ],
 "metadata": {
  "kernelspec": {
   "display_name": "Python 3",
   "language": "python",
   "name": "python3"
  },
  "language_info": {
   "codemirror_mode": {
    "name": "ipython",
    "version": 3
   },
   "file_extension": ".py",
   "mimetype": "text/x-python",
   "name": "python",
   "nbconvert_exporter": "python",
   "pygments_lexer": "ipython3",
   "version": "3.8.5"
  }
 },
 "nbformat": 4,
 "nbformat_minor": 4
}
