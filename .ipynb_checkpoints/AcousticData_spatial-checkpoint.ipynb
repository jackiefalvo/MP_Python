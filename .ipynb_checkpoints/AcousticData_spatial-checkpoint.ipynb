{
 "cells": [
  {
   "cell_type": "code",
   "execution_count": 3,
   "id": "curious-argentina",
   "metadata": {},
   "outputs": [],
   "source": [
    "#Import packages\n",
    "import pandas as pd\n",
    "import geopandas as gpd\n",
    "from shapely.geometry import Point\n",
    "\n",
    "import matplotlib.pyplot as plt\n",
    "#import contextily as cx\n",
    "#import mplleaflet\n",
    "#import folium"
   ]
  },
  {
   "cell_type": "code",
   "execution_count": 21,
   "id": "antique-burst",
   "metadata": {},
   "outputs": [
    {
     "name": "stdout",
     "output_type": "stream",
     "text": [
      "Collecting package metadata (current_repodata.json): done\n",
      "Solving environment: failed with initial frozen solve. Retrying with flexible solve.\n",
      "Collecting package metadata (repodata.json): done\n",
      "Solving environment: failed with initial frozen solve. Retrying with flexible solve.\n",
      "\n",
      "PackagesNotFoundError: The following packages are not available from current channels:\n",
      "\n",
      "  - contextily\n",
      "\n",
      "Current channels:\n",
      "\n",
      "  - https://repo.anaconda.com/pkgs/main/osx-64\n",
      "  - https://repo.anaconda.com/pkgs/main/noarch\n",
      "  - https://repo.anaconda.com/pkgs/r/osx-64\n",
      "  - https://repo.anaconda.com/pkgs/r/noarch\n",
      "\n",
      "To search for alternate channels that may provide the conda package you're\n",
      "looking for, navigate to\n",
      "\n",
      "    https://anaconda.org\n",
      "\n",
      "and use the search bar at the top of the page.\n",
      "\n",
      "\n"
     ]
    }
   ],
   "source": [
    "# install new packages\n",
    "import sys \n",
    "!conda install --yes --prefix {sys.prefix} contextily"
   ]
  },
  {
   "cell_type": "code",
   "execution_count": 5,
   "id": "incident-three",
   "metadata": {},
   "outputs": [
    {
     "data": {
      "text/html": [
       "<div>\n",
       "<style scoped>\n",
       "    .dataframe tbody tr th:only-of-type {\n",
       "        vertical-align: middle;\n",
       "    }\n",
       "\n",
       "    .dataframe tbody tr th {\n",
       "        vertical-align: top;\n",
       "    }\n",
       "\n",
       "    .dataframe thead th {\n",
       "        text-align: right;\n",
       "    }\n",
       "</style>\n",
       "<table border=\"1\" class=\"dataframe\">\n",
       "  <thead>\n",
       "    <tr style=\"text-align: right;\">\n",
       "      <th></th>\n",
       "      <th>c_recordOnDays</th>\n",
       "      <th>c_uniqueUnitID</th>\n",
       "      <th>deployDate</th>\n",
       "      <th>deploymentDepth_Meters</th>\n",
       "      <th>dutyCycle_Flag</th>\n",
       "      <th>latitudeDeployed_DecDeg</th>\n",
       "      <th>longitudeDeployed_DecDeg</th>\n",
       "      <th>recoveryDate</th>\n",
       "      <th>samplingRate_Hz</th>\n",
       "    </tr>\n",
       "  </thead>\n",
       "  <tbody>\n",
       "    <tr>\n",
       "      <th>0</th>\n",
       "      <td>71</td>\n",
       "      <td>2011_BRP_CCB_S1016_Dep20_20110217_PU0205_FD020...</td>\n",
       "      <td>2011-02-17</td>\n",
       "      <td>37.2</td>\n",
       "      <td>N</td>\n",
       "      <td>41.9412</td>\n",
       "      <td>-70.2880</td>\n",
       "      <td>2011-05-08</td>\n",
       "      <td>5000</td>\n",
       "    </tr>\n",
       "    <tr>\n",
       "      <th>1</th>\n",
       "      <td>80</td>\n",
       "      <td>2011_BRP_CCB_S1016_Dep20_20110217_PU0206_FD020...</td>\n",
       "      <td>2011-02-17</td>\n",
       "      <td>30.5</td>\n",
       "      <td>N</td>\n",
       "      <td>41.8771</td>\n",
       "      <td>-70.2540</td>\n",
       "      <td>2011-05-08</td>\n",
       "      <td>5000</td>\n",
       "    </tr>\n",
       "    <tr>\n",
       "      <th>2</th>\n",
       "      <td>80</td>\n",
       "      <td>2011_BRP_CCB_S1016_Dep20_20110217_PU0207_FD020...</td>\n",
       "      <td>2011-02-17</td>\n",
       "      <td>30.9</td>\n",
       "      <td>N</td>\n",
       "      <td>41.8948</td>\n",
       "      <td>-70.4439</td>\n",
       "      <td>2011-05-08</td>\n",
       "      <td>5000</td>\n",
       "    </tr>\n",
       "    <tr>\n",
       "      <th>3</th>\n",
       "      <td>80</td>\n",
       "      <td>2011_BRP_CCB_S1016_Dep20_20110217_PU0208_FD020...</td>\n",
       "      <td>2011-02-17</td>\n",
       "      <td>32.1</td>\n",
       "      <td>N</td>\n",
       "      <td>41.9334</td>\n",
       "      <td>-70.1859</td>\n",
       "      <td>2011-05-08</td>\n",
       "      <td>5000</td>\n",
       "    </tr>\n",
       "    <tr>\n",
       "      <th>4</th>\n",
       "      <td>80</td>\n",
       "      <td>2011_BRP_CCB_S1016_Dep20_20110217_PU0209_FD020...</td>\n",
       "      <td>2011-02-17</td>\n",
       "      <td>42.1</td>\n",
       "      <td>N</td>\n",
       "      <td>41.9508</td>\n",
       "      <td>-70.3901</td>\n",
       "      <td>2011-05-08</td>\n",
       "      <td>5000</td>\n",
       "    </tr>\n",
       "  </tbody>\n",
       "</table>\n",
       "</div>"
      ],
      "text/plain": [
       "   c_recordOnDays                                     c_uniqueUnitID  \\\n",
       "0              71  2011_BRP_CCB_S1016_Dep20_20110217_PU0205_FD020...   \n",
       "1              80  2011_BRP_CCB_S1016_Dep20_20110217_PU0206_FD020...   \n",
       "2              80  2011_BRP_CCB_S1016_Dep20_20110217_PU0207_FD020...   \n",
       "3              80  2011_BRP_CCB_S1016_Dep20_20110217_PU0208_FD020...   \n",
       "4              80  2011_BRP_CCB_S1016_Dep20_20110217_PU0209_FD020...   \n",
       "\n",
       "  deployDate  deploymentDepth_Meters dutyCycle_Flag  latitudeDeployed_DecDeg  \\\n",
       "0 2011-02-17                    37.2              N                  41.9412   \n",
       "1 2011-02-17                    30.5              N                  41.8771   \n",
       "2 2011-02-17                    30.9              N                  41.8948   \n",
       "3 2011-02-17                    32.1              N                  41.9334   \n",
       "4 2011-02-17                    42.1              N                  41.9508   \n",
       "\n",
       "   longitudeDeployed_DecDeg recoveryDate  samplingRate_Hz  \n",
       "0                  -70.2880   2011-05-08             5000  \n",
       "1                  -70.2540   2011-05-08             5000  \n",
       "2                  -70.4439   2011-05-08             5000  \n",
       "3                  -70.1859   2011-05-08             5000  \n",
       "4                  -70.3901   2011-05-08             5000  "
      ]
     },
     "execution_count": 5,
     "metadata": {},
     "output_type": "execute_result"
    }
   ],
   "source": [
    "# read in acoustic metadata, parse date columns\n",
    "ccb = pd.read_csv(\"../Data/Metadata/CCB Metadata.csv\",\n",
    "                 sep = ',',\n",
    "                 encoding = 'utf-8',\n",
    "                 parse_dates = ['deployDate', 'recoveryDate'])\n",
    "ccb.head()"
   ]
  },
  {
   "cell_type": "code",
   "execution_count": 12,
   "id": "strong-burton",
   "metadata": {
    "collapsed": true,
    "jupyter": {
     "outputs_hidden": true
    }
   },
   "outputs": [
    {
     "name": "stdout",
     "output_type": "stream",
     "text": [
      "<class 'pandas.core.frame.DataFrame'>\n",
      "RangeIndex: 38 entries, 0 to 37\n",
      "Data columns (total 16 columns):\n",
      " #   Column                    Non-Null Count  Dtype         \n",
      "---  ------                    --------------  -----         \n",
      " 0   c_recordOnDays            38 non-null     int64         \n",
      " 1   c_uniqueUnitID            38 non-null     object        \n",
      " 2   deployDate                38 non-null     datetime64[ns]\n",
      " 3   deploymentDepth_Meters    30 non-null     float64       \n",
      " 4   dutyCycle_Flag            38 non-null     object        \n",
      " 5   latitudeDeployed_DecDeg   38 non-null     float64       \n",
      " 6   longitudeDeployed_DecDeg  38 non-null     float64       \n",
      " 7   recoveryDate              38 non-null     datetime64[ns]\n",
      " 8   samplingRate_Hz           38 non-null     int64         \n",
      " 9   geometry                  38 non-null     geometry      \n",
      " 10  depYear                   38 non-null     int64         \n",
      " 11  depMonth                  38 non-null     int64         \n",
      " 12  depDay                    38 non-null     int64         \n",
      " 13  recYear                   38 non-null     int64         \n",
      " 14  recMonth                  38 non-null     int64         \n",
      " 15  recDay                    38 non-null     int64         \n",
      "dtypes: datetime64[ns](2), float64(3), geometry(1), int64(8), object(2)\n",
      "memory usage: 4.9+ KB\n"
     ]
    }
   ],
   "source": [
    "# create separate fields for deployment day, month and year\n",
    "ccb['depYear'] = ccb['deployDate'].dt.year\n",
    "ccb['depMonth'] = ccb['deployDate'].dt.month\n",
    "ccb['depDay'] = ccb['deployDate'].dt.day \n",
    "\n",
    "# create separate fields for recovery day, month and year\n",
    "ccb['recYear'] = ccb['recoveryDate'].dt.year\n",
    "ccb['recMonth'] = ccb['recoveryDate'].dt.month\n",
    "ccb['recDay'] = ccb['recoveryDate'].dt.day \n",
    "\n",
    "ccb.info()"
   ]
  },
  {
   "cell_type": "code",
   "execution_count": 13,
   "id": "waiting-measurement",
   "metadata": {},
   "outputs": [],
   "source": [
    "# create geodataframe\n",
    "geom = [Point(xy) for xy in zip(ccb['longitudeDeployed_DecDeg'], ccb['latitudeDeployed_DecDeg'])]\n",
    "ccb_gdf = gpd.GeoDataFrame(ccb, geometry = geom, crs = 4269)"
   ]
  },
  {
   "cell_type": "code",
   "execution_count": 14,
   "id": "ambient-logistics",
   "metadata": {},
   "outputs": [
    {
     "data": {
      "image/png": "[encoded data removed]",
      "text/plain": [
       "<Figure size 432x288 with 1 Axes>"
      ]
     },
     "metadata": {
      "needs_background": "light"
     },
     "output_type": "display_data"
    }
   ],
   "source": [
    "# quick plot\n",
    "ccb_gdf.plot();"
   ]
  },
  {
   "cell_type": "code",
   "execution_count": 15,
   "id": "exempt-generation",
   "metadata": {},
   "outputs": [
    {
     "data": {
      "image/png": "[encoded data removed]",
      "text/plain": [
       "<Figure size 432x288 with 1 Axes>"
      ]
     },
     "metadata": {
      "needs_background": "light"
     },
     "output_type": "display_data"
    }
   ],
   "source": [
    "# distribution of deployment years\n",
    "ccb_gdf['depYear'].hist(); # weird spacing.."
   ]
  },
  {
   "cell_type": "code",
   "execution_count": 19,
   "id": "direct-tomato",
   "metadata": {},
   "outputs": [
    {
     "data": {
      "image/png": "[encoded data removed]",
      "text/plain": [
       "<Figure size 864x288 with 2 Axes>"
      ]
     },
     "metadata": {
      "needs_background": "light"
     },
     "output_type": "display_data"
    }
   ],
   "source": [
    "# plot all ccb hydrophones, color by year\n",
    "cbb_points = \n",
    "\n",
    "ccb_gdf.plot(    \n",
    "    column = 'depYear',\n",
    "    cmap = 'Dark2',\n",
    "    legend = True,\n",
    "    marker = '.',\n",
    "    markersize = 30,\n",
    "    alpha = 1,\n",
    "    figsize = (12,4));"
   ]
  },
  {
   "cell_type": "code",
   "execution_count": null,
   "id": "sudden-giving",
   "metadata": {},
   "outputs": [],
   "source": [
    "# create a map for each year\n",
    "for item in ccb_gdf:\n",
    "    "
   ]
  }
 ],
 "metadata": {
  "kernelspec": {
   "display_name": "Python 3",
   "language": "python",
   "name": "python3"
  },
  "language_info": {
   "codemirror_mode": {
    "name": "ipython",
    "version": 3
   },
   "file_extension": ".py",
   "mimetype": "text/x-python",
   "name": "python",
   "nbconvert_exporter": "python",
   "pygments_lexer": "ipython3",
   "version": "3.7.7"
  }
 },
 "nbformat": 4,
 "nbformat_minor": 5
}
