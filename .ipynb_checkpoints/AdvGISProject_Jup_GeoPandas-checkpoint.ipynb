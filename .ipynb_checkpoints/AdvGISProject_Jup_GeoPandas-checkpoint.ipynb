{
 "cells": [
  {
   "cell_type": "code",
   "execution_count": 2,
   "metadata": {},
   "outputs": [],
   "source": [
    "# import geopandas\n",
    "import geopandas as gpd\n",
    "import pandas as pd"
   ]
  },
  {
   "cell_type": "code",
   "execution_count": 4,
   "metadata": {
    "scrolled": false
   },
   "outputs": [],
   "source": [
    "# point to our near_analysis output\n",
    "near_output = r\"V:\\CourseProject\\Data\\Output\\ShipsCCB_Cluster_NearOutput.shp\"\n",
    "\n",
    "# read in attributes as gdf\n",
    "CCBships = gpd.read_file(near_output)"
   ]
  },
  {
   "cell_type": "code",
   "execution_count": 12,
   "metadata": {},
   "outputs": [],
   "source": [
    "# bring in vessel data to join\n",
    "vessel_table = r\"V:\\CourseProject\\Data\\Zone19_2014_01.gdb\\Zone19_2014_01_Vessel\"\n",
    "\n",
    "# read in data as df\n",
    "VesselData = pd.read_csv(r\"V:\\CourseProject\\Data\\Output\\VesselTable.csv\")\n",
    "VesselCodes = pd.read_csv(r\"V:\\CourseProject\\Data\\Output\\VesselTypeCodes.csv\")"
   ]
  },
  {
   "cell_type": "code",
   "execution_count": 11,
   "metadata": {
    "scrolled": false
   },
   "outputs": [
    {
     "data": {
      "text/html": [
       "<div>\n",
       "<style scoped>\n",
       "    .dataframe tbody tr th:only-of-type {\n",
       "        vertical-align: middle;\n",
       "    }\n",
       "\n",
       "    .dataframe tbody tr th {\n",
       "        vertical-align: top;\n",
       "    }\n",
       "\n",
       "    .dataframe thead th {\n",
       "        text-align: right;\n",
       "    }\n",
       "</style>\n",
       "<table border=\"1\" class=\"dataframe\">\n",
       "  <thead>\n",
       "    <tr style=\"text-align: right;\">\n",
       "      <th></th>\n",
       "      <th>MMSI</th>\n",
       "      <th>VesselType</th>\n",
       "      <th>Length</th>\n",
       "      <th>Width</th>\n",
       "    </tr>\n",
       "  </thead>\n",
       "  <tbody>\n",
       "    <tr>\n",
       "      <th>0</th>\n",
       "      <td>367733798</td>\n",
       "      <td>60</td>\n",
       "      <td>0</td>\n",
       "      <td>0</td>\n",
       "    </tr>\n",
       "    <tr>\n",
       "      <th>1</th>\n",
       "      <td>367730013</td>\n",
       "      <td>0</td>\n",
       "      <td>18</td>\n",
       "      <td>6</td>\n",
       "    </tr>\n",
       "    <tr>\n",
       "      <th>2</th>\n",
       "      <td>366195703</td>\n",
       "      <td>60</td>\n",
       "      <td>71</td>\n",
       "      <td>15</td>\n",
       "    </tr>\n",
       "    <tr>\n",
       "      <th>3</th>\n",
       "      <td>367418507</td>\n",
       "      <td>40</td>\n",
       "      <td>47</td>\n",
       "      <td>12</td>\n",
       "    </tr>\n",
       "    <tr>\n",
       "      <th>4</th>\n",
       "      <td>367082453</td>\n",
       "      <td>52</td>\n",
       "      <td>0</td>\n",
       "      <td>0</td>\n",
       "    </tr>\n",
       "  </tbody>\n",
       "</table>\n",
       "</div>"
      ],
      "text/plain": [
       "        MMSI  VesselType  Length  Width\n",
       "0  367733798          60       0      0\n",
       "1  367730013           0      18      6\n",
       "2  366195703          60      71     15\n",
       "3  367418507          40      47     12\n",
       "4  367082453          52       0      0"
      ]
     },
     "execution_count": 11,
     "metadata": {},
     "output_type": "execute_result"
    }
   ],
   "source": [
    "VesselData.head() # 967 rows / unique MMSIs"
   ]
  },
  {
   "cell_type": "code",
   "execution_count": null,
   "metadata": {},
   "outputs": [],
   "source": [
    "# Join vessel code/types to vessel data, then join vessel data to CCBship_cluster\n"
   ]
  },
  {
   "cell_type": "code",
   "execution_count": 3,
   "metadata": {},
   "outputs": [
    {
     "data": {
      "text/html": [
       "<div>\n",
       "<style scoped>\n",
       "    .dataframe tbody tr th:only-of-type {\n",
       "        vertical-align: middle;\n",
       "    }\n",
       "\n",
       "    .dataframe tbody tr th {\n",
       "        vertical-align: top;\n",
       "    }\n",
       "\n",
       "    .dataframe thead th {\n",
       "        text-align: right;\n",
       "    }\n",
       "</style>\n",
       "<table border=\"1\" class=\"dataframe\">\n",
       "  <thead>\n",
       "    <tr style=\"text-align: right;\">\n",
       "      <th></th>\n",
       "      <th>OBJECTID</th>\n",
       "      <th>SOG</th>\n",
       "      <th>COG</th>\n",
       "      <th>Heading</th>\n",
       "      <th>ROT</th>\n",
       "      <th>BaseDateTi</th>\n",
       "      <th>Status</th>\n",
       "      <th>VoyageID</th>\n",
       "      <th>MMSI</th>\n",
       "      <th>ReceiverTy</th>\n",
       "      <th>ReceiverID</th>\n",
       "      <th>Latitude</th>\n",
       "      <th>NEAR_FID</th>\n",
       "      <th>NEAR_DIST</th>\n",
       "      <th>NEAR_FC</th>\n",
       "      <th>geometry</th>\n",
       "    </tr>\n",
       "  </thead>\n",
       "  <tbody>\n",
       "    <tr>\n",
       "      <th>0</th>\n",
       "      <td>2145649</td>\n",
       "      <td>0.0</td>\n",
       "      <td>346.6</td>\n",
       "      <td>511.0</td>\n",
       "      <td>128.0</td>\n",
       "      <td>2014-01-17</td>\n",
       "      <td>0</td>\n",
       "      <td>196</td>\n",
       "      <td>367140660</td>\n",
       "      <td>D</td>\n",
       "      <td>01MN</td>\n",
       "      <td>42</td>\n",
       "      <td>-1</td>\n",
       "      <td>-1.0</td>\n",
       "      <td>None</td>\n",
       "      <td>POINT (-70.50320 41.77082)</td>\n",
       "    </tr>\n",
       "    <tr>\n",
       "      <th>1</th>\n",
       "      <td>1557158</td>\n",
       "      <td>0.0</td>\n",
       "      <td>232.0</td>\n",
       "      <td>511.0</td>\n",
       "      <td>128.0</td>\n",
       "      <td>2014-01-12</td>\n",
       "      <td>0</td>\n",
       "      <td>196</td>\n",
       "      <td>367140660</td>\n",
       "      <td>D</td>\n",
       "      <td>01MN</td>\n",
       "      <td>42</td>\n",
       "      <td>-1</td>\n",
       "      <td>-1.0</td>\n",
       "      <td>None</td>\n",
       "      <td>POINT (-70.50319 41.77083)</td>\n",
       "    </tr>\n",
       "    <tr>\n",
       "      <th>2</th>\n",
       "      <td>3470290</td>\n",
       "      <td>6.3</td>\n",
       "      <td>214.0</td>\n",
       "      <td>213.0</td>\n",
       "      <td>0.0</td>\n",
       "      <td>2014-01-27</td>\n",
       "      <td>0</td>\n",
       "      <td>4656</td>\n",
       "      <td>366002491</td>\n",
       "      <td>D</td>\n",
       "      <td>01MN</td>\n",
       "      <td>42</td>\n",
       "      <td>-1</td>\n",
       "      <td>-1.0</td>\n",
       "      <td>None</td>\n",
       "      <td>POINT (-70.56581 41.76774)</td>\n",
       "    </tr>\n",
       "    <tr>\n",
       "      <th>3</th>\n",
       "      <td>1535911</td>\n",
       "      <td>0.0</td>\n",
       "      <td>32.1</td>\n",
       "      <td>511.0</td>\n",
       "      <td>128.0</td>\n",
       "      <td>2014-01-12</td>\n",
       "      <td>0</td>\n",
       "      <td>196</td>\n",
       "      <td>367140660</td>\n",
       "      <td>r</td>\n",
       "      <td>01RORL1</td>\n",
       "      <td>42</td>\n",
       "      <td>-1</td>\n",
       "      <td>-1.0</td>\n",
       "      <td>None</td>\n",
       "      <td>POINT (-70.50321 41.77084)</td>\n",
       "    </tr>\n",
       "    <tr>\n",
       "      <th>4</th>\n",
       "      <td>1320077</td>\n",
       "      <td>0.0</td>\n",
       "      <td>298.9</td>\n",
       "      <td>511.0</td>\n",
       "      <td>128.0</td>\n",
       "      <td>2014-01-11</td>\n",
       "      <td>0</td>\n",
       "      <td>196</td>\n",
       "      <td>367140660</td>\n",
       "      <td>r</td>\n",
       "      <td>01RORL1</td>\n",
       "      <td>42</td>\n",
       "      <td>-1</td>\n",
       "      <td>-1.0</td>\n",
       "      <td>None</td>\n",
       "      <td>POINT (-70.50325 41.77085)</td>\n",
       "    </tr>\n",
       "  </tbody>\n",
       "</table>\n",
       "</div>"
      ],
      "text/plain": [
       "   OBJECTID  SOG    COG  Heading    ROT  BaseDateTi  Status  VoyageID  \\\n",
       "0   2145649  0.0  346.6    511.0  128.0  2014-01-17       0       196   \n",
       "1   1557158  0.0  232.0    511.0  128.0  2014-01-12       0       196   \n",
       "2   3470290  6.3  214.0    213.0    0.0  2014-01-27       0      4656   \n",
       "3   1535911  0.0   32.1    511.0  128.0  2014-01-12       0       196   \n",
       "4   1320077  0.0  298.9    511.0  128.0  2014-01-11       0       196   \n",
       "\n",
       "        MMSI ReceiverTy ReceiverID  Latitude  NEAR_FID  NEAR_DIST NEAR_FC  \\\n",
       "0  367140660          D       01MN        42        -1       -1.0    None   \n",
       "1  367140660          D       01MN        42        -1       -1.0    None   \n",
       "2  366002491          D       01MN        42        -1       -1.0    None   \n",
       "3  367140660          r    01RORL1        42        -1       -1.0    None   \n",
       "4  367140660          r    01RORL1        42        -1       -1.0    None   \n",
       "\n",
       "                     geometry  \n",
       "0  POINT (-70.50320 41.77082)  \n",
       "1  POINT (-70.50319 41.77083)  \n",
       "2  POINT (-70.56581 41.76774)  \n",
       "3  POINT (-70.50321 41.77084)  \n",
       "4  POINT (-70.50325 41.77085)  "
      ]
     },
     "execution_count": 3,
     "metadata": {},
     "output_type": "execute_result"
    }
   ],
   "source": [
    "CCBships.head()"
   ]
  },
  {
   "cell_type": "code",
   "execution_count": 20,
   "metadata": {},
   "outputs": [
    {
     "data": {
      "text/plain": [
       "112"
      ]
     },
     "execution_count": 20,
     "metadata": {},
     "output_type": "execute_result"
    }
   ],
   "source": [
    "CCBships['MMSI'].nunique() # 54 unique MMSIs\n",
    "CCBships['VoyageID'].nunique() # 112 unique voyage IDs"
   ]
  },
  {
   "cell_type": "code",
   "execution_count": 26,
   "metadata": {},
   "outputs": [
    {
     "data": {
      "text/plain": [
       "array([366839048], dtype=int64)"
      ]
     },
     "execution_count": 26,
     "metadata": {},
     "output_type": "execute_result"
    }
   ],
   "source": [
    "Voyage35 = CCBships.query('VoyageID == 35')\n",
    "Voyage35['MMSI'].unique()"
   ]
  },
  {
   "cell_type": "code",
   "execution_count": 7,
   "metadata": {
    "scrolled": true
   },
   "outputs": [
    {
     "name": "stdout",
     "output_type": "stream",
     "text": [
      "<class 'geopandas.geodataframe.GeoDataFrame'>\n",
      "RangeIndex: 88066 entries, 0 to 88065\n",
      "Data columns (total 16 columns):\n",
      " #   Column      Non-Null Count  Dtype   \n",
      "---  ------      --------------  -----   \n",
      " 0   OBJECTID    88066 non-null  int64   \n",
      " 1   SOG         88066 non-null  float64 \n",
      " 2   COG         88066 non-null  float64 \n",
      " 3   Heading     88066 non-null  float64 \n",
      " 4   ROT         88066 non-null  float64 \n",
      " 5   BaseDateTi  88066 non-null  object  \n",
      " 6   Status      88066 non-null  int64   \n",
      " 7   VoyageID    88066 non-null  int64   \n",
      " 8   MMSI        88066 non-null  int64   \n",
      " 9   ReceiverTy  88066 non-null  object  \n",
      " 10  ReceiverID  88066 non-null  object  \n",
      " 11  Latitude    88066 non-null  int64   \n",
      " 12  NEAR_FID    88066 non-null  int64   \n",
      " 13  NEAR_DIST   88066 non-null  float64 \n",
      " 14  NEAR_FC     2119 non-null   object  \n",
      " 15  geometry    88066 non-null  geometry\n",
      "dtypes: float64(5), geometry(1), int64(6), object(4)\n",
      "memory usage: 10.8+ MB\n"
     ]
    }
   ],
   "source": [
    "CCBships.info()"
   ]
  },
  {
   "cell_type": "code",
   "execution_count": 25,
   "metadata": {},
   "outputs": [
    {
     "name": "stdout",
     "output_type": "stream",
     "text": [
      "<class 'geopandas.geodataframe.GeoDataFrame'>\n",
      "Int64Index: 1962 entries, 205 to 88057\n",
      "Data columns (total 16 columns):\n",
      " #   Column      Non-Null Count  Dtype   \n",
      "---  ------      --------------  -----   \n",
      " 0   OBJECTID    1962 non-null   int64   \n",
      " 1   SOG         1962 non-null   float64 \n",
      " 2   COG         1962 non-null   float64 \n",
      " 3   Heading     1962 non-null   float64 \n",
      " 4   ROT         1962 non-null   float64 \n",
      " 5   BaseDateTi  1962 non-null   object  \n",
      " 6   Status      1962 non-null   int64   \n",
      " 7   VoyageID    1962 non-null   int64   \n",
      " 8   MMSI        1962 non-null   int64   \n",
      " 9   ReceiverTy  1962 non-null   object  \n",
      " 10  ReceiverID  1962 non-null   object  \n",
      " 11  Latitude    1962 non-null   int64   \n",
      " 12  NEAR_FID    1962 non-null   int64   \n",
      " 13  NEAR_DIST   1962 non-null   float64 \n",
      " 14  NEAR_FC     1962 non-null   object  \n",
      " 15  geometry    1962 non-null   geometry\n",
      "dtypes: float64(5), geometry(1), int64(6), object(4)\n",
      "memory usage: 260.6+ KB\n"
     ]
    }
   ],
   "source": [
    "# PTown points\n",
    "PTown = CCBships.query('NEAR_FC == \"V:\\\\CourseProject\\\\ShipTracker.gdb\\\\PTown_feature\"')\n",
    "PTown.info()\n",
    "#PTown['VoyageID'].nunique()"
   ]
  },
  {
   "cell_type": "code",
   "execution_count": 22,
   "metadata": {},
   "outputs": [
    {
     "data": {
      "text/plain": [
       "75"
      ]
     },
     "execution_count": 22,
     "metadata": {},
     "output_type": "execute_result"
    }
   ],
   "source": [
    "# Canal points\n",
    "Canal = CCBships.query('NEAR_FC == \"V:\\\\CourseProject\\\\ShipTracker.gdb\\\\CanalNE_feature\"')\n",
    "Canal['VoyageID'].nunique()"
   ]
  },
  {
   "cell_type": "code",
   "execution_count": null,
   "metadata": {},
   "outputs": [],
   "source": []
  }
 ],
 "metadata": {
  "kernelspec": {
   "display_name": "Python 3",
   "language": "python",
   "name": "python3"
  },
  "language_info": {
   "codemirror_mode": {
    "name": "ipython",
    "version": 3
   },
   "file_extension": ".py",
   "mimetype": "text/x-python",
   "name": "python",
   "nbconvert_exporter": "python",
   "pygments_lexer": "ipython3",
   "version": "3.6.12"
  }
 },
 "nbformat": 4,
 "nbformat_minor": 4
}
